{
 "cells": [
  {
   "cell_type": "markdown",
   "metadata": {},
   "source": [
    "#### Prerequisites\n",
    "You will need to install ir_explain first. Once you install the ir-explain library, you may need to restart the kernel. ir_explain also requires Java to be installed. "
   ]
  },
  {
   "cell_type": "code",
   "execution_count": 1,
   "metadata": {},
   "outputs": [
    {
     "name": "stdout",
     "output_type": "stream",
     "text": [
      "Collecting ir-explain\n",
      "  Using cached ir_explain-0.1-py3-none-any.whl\n",
      "Collecting ipython==8.12.3 (from ir-explain)\n",
      "  Using cached ipython-8.12.3-py3-none-any.whl.metadata (5.7 kB)\n",
      "Collecting matplotlib==3.9.4 (from ir-explain)\n",
      "  Using cached matplotlib-3.9.4-cp39-cp39-manylinux_2_17_x86_64.manylinux2014_x86_64.whl.metadata (11 kB)\n",
      "Collecting nltk==3.9.1 (from ir-explain)\n",
      "  Using cached nltk-3.9.1-py3-none-any.whl.metadata (2.9 kB)\n",
      "Collecting numpy==1.24.4 (from ir-explain)\n",
      "  Using cached numpy-1.24.4-cp39-cp39-manylinux_2_17_x86_64.manylinux2014_x86_64.whl.metadata (5.6 kB)\n",
      "Collecting pandas==2.2.3 (from ir-explain)\n",
      "  Using cached pandas-2.2.3-cp39-cp39-manylinux_2_17_x86_64.manylinux2014_x86_64.whl.metadata (89 kB)\n",
      "Collecting rank_bm25==0.2.2 (from ir-explain)\n",
      "  Using cached rank_bm25-0.2.2-py3-none-any.whl.metadata (3.2 kB)\n",
      "Collecting scikit_learn==1.6.0 (from ir-explain)\n",
      "  Using cached scikit_learn-1.6.0-cp39-cp39-manylinux_2_17_x86_64.manylinux2014_x86_64.whl.metadata (18 kB)\n",
      "Collecting scipy==1.10.1 (from ir-explain)\n",
      "  Using cached scipy-1.10.1-cp39-cp39-manylinux_2_17_x86_64.manylinux2014_x86_64.whl.metadata (58 kB)\n",
      "Collecting sentence_transformers==3.3.1 (from ir-explain)\n",
      "  Using cached sentence_transformers-3.3.1-py3-none-any.whl.metadata (10 kB)\n",
      "Collecting scikit-image (from ir-explain)\n",
      "  Using cached scikit_image-0.24.0-cp39-cp39-manylinux_2_17_x86_64.manylinux2014_x86_64.whl.metadata (14 kB)\n",
      "Collecting torch==2.2.0 (from ir-explain)\n",
      "  Using cached torch-2.2.0-cp39-cp39-manylinux1_x86_64.whl.metadata (25 kB)\n",
      "Collecting ir_datasets (from ir-explain)\n",
      "  Using cached ir_datasets-0.5.10-py3-none-any.whl.metadata (12 kB)\n",
      "Collecting tqdm==4.67.1 (from ir-explain)\n",
      "  Using cached tqdm-4.67.1-py3-none-any.whl.metadata (57 kB)\n",
      "Collecting pyserini==0.21.0 (from ir-explain)\n",
      "  Using cached pyserini-0.21.0-py3-none-any.whl.metadata (4.5 kB)\n",
      "Collecting gensim==4.3.1 (from ir-explain)\n",
      "  Using cached gensim-4.3.1-cp39-cp39-manylinux_2_17_x86_64.manylinux2014_x86_64.whl.metadata (8.6 kB)\n",
      "Collecting torchtext==0.17.0 (from ir-explain)\n",
      "  Using cached torchtext-0.17.0-cp39-cp39-manylinux1_x86_64.whl.metadata (7.6 kB)\n",
      "Collecting h5py (from ir-explain)\n",
      "  Using cached h5py-3.13.0-cp39-cp39-manylinux_2_17_x86_64.manylinux2014_x86_64.whl.metadata (2.5 kB)\n",
      "Collecting captum==0.7.0 (from ir-explain)\n",
      "  Using cached captum-0.7.0-py3-none-any.whl.metadata (26 kB)\n",
      "Collecting genosolver==0.1.0.6 (from ir-explain)\n",
      "  Using cached genosolver-0.1.0.6-py3-none-any.whl.metadata (2.7 kB)\n",
      "Collecting cvxpy==1.3.2 (from ir-explain)\n",
      "  Using cached cvxpy-1.3.2-cp39-cp39-manylinux_2_17_x86_64.manylinux2014_x86_64.whl.metadata (8.7 kB)\n",
      "Collecting pytorch-lightning (from ir-explain)\n",
      "  Using cached pytorch_lightning-2.5.0.post0-py3-none-any.whl.metadata (21 kB)\n",
      "Collecting faiss-cpu==1.8.0 (from ir-explain)\n",
      "  Using cached faiss_cpu-1.8.0-cp39-cp39-manylinux_2_17_x86_64.manylinux2014_x86_64.whl.metadata (3.6 kB)\n",
      "Collecting osqp>=0.4.1 (from cvxpy==1.3.2->ir-explain)\n",
      "  Using cached osqp-0.6.7.post3-cp39-cp39-manylinux_2_5_x86_64.manylinux1_x86_64.manylinux_2_17_x86_64.manylinux2014_x86_64.whl.metadata (1.9 kB)\n",
      "Collecting ecos>=2 (from cvxpy==1.3.2->ir-explain)\n",
      "  Using cached ecos-2.0.14-cp39-cp39-manylinux_2_17_x86_64.manylinux2014_x86_64.whl.metadata (8.0 kB)\n",
      "Collecting scs>=1.1.6 (from cvxpy==1.3.2->ir-explain)\n",
      "  Using cached scs-3.2.7.post2-cp39-cp39-manylinux_2_17_x86_64.manylinux2014_x86_64.whl.metadata (2.1 kB)\n",
      "Requirement already satisfied: setuptools>65.5.1 in /home/nlp/anaconda3/envs/irx/lib/python3.9/site-packages (from cvxpy==1.3.2->ir-explain) (75.8.0)\n",
      "Requirement already satisfied: packaging in /home/nlp/anaconda3/envs/irx/lib/python3.9/site-packages (from genosolver==0.1.0.6->ir-explain) (24.2)\n",
      "Collecting smart-open>=1.8.1 (from gensim==4.3.1->ir-explain)\n",
      "  Using cached smart_open-7.1.0-py3-none-any.whl.metadata (24 kB)\n",
      "Requirement already satisfied: backcall in /home/nlp/anaconda3/envs/irx/lib/python3.9/site-packages (from ipython==8.12.3->ir-explain) (0.2.0)\n",
      "Requirement already satisfied: decorator in /home/nlp/anaconda3/envs/irx/lib/python3.9/site-packages (from ipython==8.12.3->ir-explain) (5.2.1)\n",
      "Requirement already satisfied: jedi>=0.16 in /home/nlp/anaconda3/envs/irx/lib/python3.9/site-packages (from ipython==8.12.3->ir-explain) (0.19.2)\n",
      "Requirement already satisfied: matplotlib-inline in /home/nlp/anaconda3/envs/irx/lib/python3.9/site-packages (from ipython==8.12.3->ir-explain) (0.1.7)\n",
      "Requirement already satisfied: pickleshare in /home/nlp/anaconda3/envs/irx/lib/python3.9/site-packages (from ipython==8.12.3->ir-explain) (0.7.5)\n",
      "Requirement already satisfied: prompt-toolkit!=3.0.37,<3.1.0,>=3.0.30 in /home/nlp/anaconda3/envs/irx/lib/python3.9/site-packages (from ipython==8.12.3->ir-explain) (3.0.50)\n",
      "Requirement already satisfied: pygments>=2.4.0 in /home/nlp/anaconda3/envs/irx/lib/python3.9/site-packages (from ipython==8.12.3->ir-explain) (2.19.1)\n",
      "Requirement already satisfied: stack-data in /home/nlp/anaconda3/envs/irx/lib/python3.9/site-packages (from ipython==8.12.3->ir-explain) (0.6.3)\n",
      "Requirement already satisfied: traitlets>=5 in /home/nlp/anaconda3/envs/irx/lib/python3.9/site-packages (from ipython==8.12.3->ir-explain) (5.14.3)\n",
      "Requirement already satisfied: typing-extensions in /home/nlp/anaconda3/envs/irx/lib/python3.9/site-packages (from ipython==8.12.3->ir-explain) (4.12.2)\n",
      "Requirement already satisfied: pexpect>4.3 in /home/nlp/anaconda3/envs/irx/lib/python3.9/site-packages (from ipython==8.12.3->ir-explain) (4.9.0)\n",
      "Collecting contourpy>=1.0.1 (from matplotlib==3.9.4->ir-explain)\n",
      "  Using cached contourpy-1.3.0-cp39-cp39-manylinux_2_17_x86_64.manylinux2014_x86_64.whl.metadata (5.4 kB)\n",
      "Collecting cycler>=0.10 (from matplotlib==3.9.4->ir-explain)\n",
      "  Using cached cycler-0.12.1-py3-none-any.whl.metadata (3.8 kB)\n",
      "Collecting fonttools>=4.22.0 (from matplotlib==3.9.4->ir-explain)\n",
      "  Using cached fonttools-4.56.0-cp39-cp39-manylinux_2_17_x86_64.manylinux2014_x86_64.whl.metadata (101 kB)\n",
      "Collecting kiwisolver>=1.3.1 (from matplotlib==3.9.4->ir-explain)\n",
      "  Using cached kiwisolver-1.4.7-cp39-cp39-manylinux_2_12_x86_64.manylinux2010_x86_64.whl.metadata (6.3 kB)\n",
      "Collecting pillow>=8 (from matplotlib==3.9.4->ir-explain)\n",
      "  Using cached pillow-11.1.0-cp39-cp39-manylinux_2_28_x86_64.whl.metadata (9.1 kB)\n",
      "Collecting pyparsing>=2.3.1 (from matplotlib==3.9.4->ir-explain)\n",
      "  Using cached pyparsing-3.2.1-py3-none-any.whl.metadata (5.0 kB)\n",
      "Requirement already satisfied: python-dateutil>=2.7 in /home/nlp/anaconda3/envs/irx/lib/python3.9/site-packages (from matplotlib==3.9.4->ir-explain) (2.9.0.post0)\n",
      "Collecting importlib-resources>=3.2.0 (from matplotlib==3.9.4->ir-explain)\n",
      "  Using cached importlib_resources-6.5.2-py3-none-any.whl.metadata (3.9 kB)\n",
      "Collecting click (from nltk==3.9.1->ir-explain)\n",
      "  Using cached click-8.1.8-py3-none-any.whl.metadata (2.3 kB)\n",
      "Collecting joblib (from nltk==3.9.1->ir-explain)\n",
      "  Using cached joblib-1.4.2-py3-none-any.whl.metadata (5.4 kB)\n",
      "Collecting regex>=2021.8.3 (from nltk==3.9.1->ir-explain)\n",
      "  Using cached regex-2024.11.6-cp39-cp39-manylinux_2_17_x86_64.manylinux2014_x86_64.whl.metadata (40 kB)\n",
      "Collecting pytz>=2020.1 (from pandas==2.2.3->ir-explain)\n",
      "  Using cached pytz-2025.1-py2.py3-none-any.whl.metadata (22 kB)\n",
      "Collecting tzdata>=2022.7 (from pandas==2.2.3->ir-explain)\n",
      "  Using cached tzdata-2025.1-py2.py3-none-any.whl.metadata (1.4 kB)\n",
      "Collecting Cython>=0.29.21 (from pyserini==0.21.0->ir-explain)\n",
      "  Using cached Cython-3.0.12-cp39-cp39-manylinux_2_17_x86_64.manylinux2014_x86_64.whl.metadata (3.3 kB)\n",
      "Collecting pyjnius>=1.4.0 (from pyserini==0.21.0->ir-explain)\n",
      "  Using cached pyjnius-1.6.1-cp39-cp39-manylinux_2_17_x86_64.manylinux2014_x86_64.whl.metadata (10 kB)\n",
      "Collecting transformers>=4.6.0 (from pyserini==0.21.0->ir-explain)\n",
      "  Using cached transformers-4.49.0-py3-none-any.whl.metadata (44 kB)\n",
      "Collecting sentencepiece>=0.1.95 (from pyserini==0.21.0->ir-explain)\n",
      "  Using cached sentencepiece-0.2.0-cp39-cp39-manylinux_2_17_x86_64.manylinux2014_x86_64.whl.metadata (7.7 kB)\n",
      "Collecting nmslib>=2.1.1 (from pyserini==0.21.0->ir-explain)\n",
      "  Using cached nmslib-2.1.1-cp39-cp39-manylinux2010_x86_64.whl.metadata (1.0 kB)\n",
      "Collecting onnxruntime>=1.8.1 (from pyserini==0.21.0->ir-explain)\n",
      "  Using cached onnxruntime-1.19.2-cp39-cp39-manylinux_2_27_x86_64.manylinux_2_28_x86_64.whl.metadata (4.5 kB)\n",
      "Collecting lightgbm>=3.3.2 (from pyserini==0.21.0->ir-explain)\n",
      "  Using cached lightgbm-4.6.0-py3-none-manylinux_2_28_x86_64.whl.metadata (17 kB)\n",
      "Collecting spacy>=3.2.1 (from pyserini==0.21.0->ir-explain)\n",
      "  Using cached spacy-3.8.3-cp39-cp39-manylinux_2_17_x86_64.manylinux2014_x86_64.whl.metadata (27 kB)\n",
      "Collecting pyyaml (from pyserini==0.21.0->ir-explain)\n",
      "  Using cached PyYAML-6.0.2-cp39-cp39-manylinux_2_17_x86_64.manylinux2014_x86_64.whl.metadata (2.1 kB)\n",
      "Collecting threadpoolctl>=3.1.0 (from scikit_learn==1.6.0->ir-explain)\n",
      "  Using cached threadpoolctl-3.6.0-py3-none-any.whl.metadata (13 kB)\n",
      "Collecting huggingface-hub>=0.20.0 (from sentence_transformers==3.3.1->ir-explain)\n",
      "  Using cached huggingface_hub-0.29.3-py3-none-any.whl.metadata (13 kB)\n",
      "Collecting filelock (from torch==2.2.0->ir-explain)\n",
      "  Using cached filelock-3.18.0-py3-none-any.whl.metadata (2.9 kB)\n",
      "Collecting sympy (from torch==2.2.0->ir-explain)\n",
      "  Using cached sympy-1.13.3-py3-none-any.whl.metadata (12 kB)\n",
      "Collecting networkx (from torch==2.2.0->ir-explain)\n",
      "  Using cached networkx-3.2.1-py3-none-any.whl.metadata (5.2 kB)\n",
      "Collecting jinja2 (from torch==2.2.0->ir-explain)\n",
      "  Using cached jinja2-3.1.6-py3-none-any.whl.metadata (2.9 kB)\n",
      "Collecting fsspec (from torch==2.2.0->ir-explain)\n",
      "  Using cached fsspec-2025.3.0-py3-none-any.whl.metadata (11 kB)\n",
      "Collecting nvidia-cuda-nvrtc-cu12==12.1.105 (from torch==2.2.0->ir-explain)\n",
      "  Using cached nvidia_cuda_nvrtc_cu12-12.1.105-py3-none-manylinux1_x86_64.whl.metadata (1.5 kB)\n",
      "Collecting nvidia-cuda-runtime-cu12==12.1.105 (from torch==2.2.0->ir-explain)\n",
      "  Using cached nvidia_cuda_runtime_cu12-12.1.105-py3-none-manylinux1_x86_64.whl.metadata (1.5 kB)\n",
      "Collecting nvidia-cuda-cupti-cu12==12.1.105 (from torch==2.2.0->ir-explain)\n",
      "  Using cached nvidia_cuda_cupti_cu12-12.1.105-py3-none-manylinux1_x86_64.whl.metadata (1.6 kB)\n",
      "Collecting nvidia-cudnn-cu12==8.9.2.26 (from torch==2.2.0->ir-explain)\n",
      "  Using cached nvidia_cudnn_cu12-8.9.2.26-py3-none-manylinux1_x86_64.whl.metadata (1.6 kB)\n",
      "Collecting nvidia-cublas-cu12==12.1.3.1 (from torch==2.2.0->ir-explain)\n",
      "  Using cached nvidia_cublas_cu12-12.1.3.1-py3-none-manylinux1_x86_64.whl.metadata (1.5 kB)\n",
      "Collecting nvidia-cufft-cu12==11.0.2.54 (from torch==2.2.0->ir-explain)\n",
      "  Using cached nvidia_cufft_cu12-11.0.2.54-py3-none-manylinux1_x86_64.whl.metadata (1.5 kB)\n",
      "Collecting nvidia-curand-cu12==10.3.2.106 (from torch==2.2.0->ir-explain)\n",
      "  Using cached nvidia_curand_cu12-10.3.2.106-py3-none-manylinux1_x86_64.whl.metadata (1.5 kB)\n",
      "Collecting nvidia-cusolver-cu12==11.4.5.107 (from torch==2.2.0->ir-explain)\n",
      "  Using cached nvidia_cusolver_cu12-11.4.5.107-py3-none-manylinux1_x86_64.whl.metadata (1.6 kB)\n",
      "Collecting nvidia-cusparse-cu12==12.1.0.106 (from torch==2.2.0->ir-explain)\n",
      "  Using cached nvidia_cusparse_cu12-12.1.0.106-py3-none-manylinux1_x86_64.whl.metadata (1.6 kB)\n",
      "Collecting nvidia-nccl-cu12==2.19.3 (from torch==2.2.0->ir-explain)\n",
      "  Using cached nvidia_nccl_cu12-2.19.3-py3-none-manylinux1_x86_64.whl.metadata (1.8 kB)\n",
      "Collecting nvidia-nvtx-cu12==12.1.105 (from torch==2.2.0->ir-explain)\n",
      "  Using cached nvidia_nvtx_cu12-12.1.105-py3-none-manylinux1_x86_64.whl.metadata (1.7 kB)\n",
      "Collecting triton==2.2.0 (from torch==2.2.0->ir-explain)\n",
      "  Using cached triton-2.2.0-cp39-cp39-manylinux_2_17_x86_64.manylinux2014_x86_64.whl.metadata (1.4 kB)\n",
      "Collecting requests (from torchtext==0.17.0->ir-explain)\n",
      "  Using cached requests-2.32.3-py3-none-any.whl.metadata (4.6 kB)\n",
      "Collecting torchdata==0.7.1 (from torchtext==0.17.0->ir-explain)\n",
      "  Using cached torchdata-0.7.1-cp39-cp39-manylinux_2_17_x86_64.manylinux2014_x86_64.whl.metadata (13 kB)\n",
      "Collecting nvidia-nvjitlink-cu12 (from nvidia-cusolver-cu12==11.4.5.107->torch==2.2.0->ir-explain)\n",
      "  Using cached nvidia_nvjitlink_cu12-12.8.93-py3-none-manylinux2010_x86_64.manylinux_2_12_x86_64.whl.metadata (1.7 kB)\n",
      "Collecting urllib3>=1.25 (from torchdata==0.7.1->torchtext==0.17.0->ir-explain)\n",
      "  Using cached urllib3-2.3.0-py3-none-any.whl.metadata (6.5 kB)\n",
      "Collecting beautifulsoup4>=4.4.1 (from ir_datasets->ir-explain)\n",
      "  Using cached beautifulsoup4-4.13.3-py3-none-any.whl.metadata (3.8 kB)\n",
      "Collecting inscriptis>=2.2.0 (from ir_datasets->ir-explain)\n",
      "  Using cached inscriptis-2.5.3-py3-none-any.whl.metadata (25 kB)\n",
      "Collecting lxml>=4.5.2 (from ir_datasets->ir-explain)\n",
      "  Using cached lxml-5.3.1-cp39-cp39-manylinux_2_28_x86_64.whl.metadata (3.7 kB)\n",
      "Collecting trec-car-tools>=2.5.4 (from ir_datasets->ir-explain)\n",
      "  Using cached trec_car_tools-2.6-py3-none-any.whl.metadata (640 bytes)\n",
      "Collecting lz4>=3.1.10 (from ir_datasets->ir-explain)\n",
      "  Using cached lz4-4.4.3-cp39-cp39-manylinux_2_17_x86_64.manylinux2014_x86_64.whl.metadata (3.8 kB)\n",
      "Collecting warc3-wet>=0.2.3 (from ir_datasets->ir-explain)\n",
      "  Using cached warc3_wet-0.2.5-py3-none-any.whl.metadata (2.2 kB)\n",
      "Collecting warc3-wet-clueweb09>=0.2.5 (from ir_datasets->ir-explain)\n",
      "  Using cached warc3_wet_clueweb09-0.2.5-py3-none-any.whl\n",
      "Collecting zlib-state>=0.1.3 (from ir_datasets->ir-explain)\n",
      "  Using cached zlib_state-0.1.9-cp39-cp39-manylinux_2_17_x86_64.manylinux2014_x86_64.whl.metadata (3.3 kB)\n",
      "Collecting ijson>=3.1.3 (from ir_datasets->ir-explain)\n",
      "  Using cached ijson-3.3.0-cp39-cp39-manylinux_2_17_x86_64.manylinux2014_x86_64.whl.metadata (21 kB)\n",
      "Collecting unlzw3>=0.2.1 (from ir_datasets->ir-explain)\n",
      "  Using cached unlzw3-0.2.3-py3-none-any.whl.metadata (2.3 kB)\n",
      "Collecting pyarrow>=16.1.0 (from ir_datasets->ir-explain)\n",
      "  Using cached pyarrow-19.0.1-cp39-cp39-manylinux_2_28_x86_64.whl.metadata (3.3 kB)\n",
      "Collecting torchmetrics>=0.7.0 (from pytorch-lightning->ir-explain)\n",
      "  Using cached torchmetrics-1.6.3-py3-none-any.whl.metadata (20 kB)\n",
      "Collecting lightning-utilities>=0.10.0 (from pytorch-lightning->ir-explain)\n",
      "  Using cached lightning_utilities-0.14.1-py3-none-any.whl.metadata (5.6 kB)\n",
      "Collecting imageio>=2.33 (from scikit-image->ir-explain)\n",
      "  Using cached imageio-2.37.0-py3-none-any.whl.metadata (5.2 kB)\n",
      "Collecting tifffile>=2022.8.12 (from scikit-image->ir-explain)\n",
      "  Using cached tifffile-2024.8.30-py3-none-any.whl.metadata (31 kB)\n",
      "Collecting lazy-loader>=0.4 (from scikit-image->ir-explain)\n",
      "  Using cached lazy_loader-0.4-py3-none-any.whl.metadata (7.6 kB)\n",
      "Collecting soupsieve>1.2 (from beautifulsoup4>=4.4.1->ir_datasets->ir-explain)\n",
      "  Using cached soupsieve-2.6-py3-none-any.whl.metadata (4.6 kB)\n",
      "Collecting aiohttp!=4.0.0a0,!=4.0.0a1 (from fsspec[http]>=2022.5.0->pytorch-lightning->ir-explain)\n",
      "  Using cached aiohttp-3.11.14-cp39-cp39-manylinux_2_17_x86_64.manylinux2014_x86_64.whl.metadata (7.7 kB)\n",
      "Collecting zipp>=3.1.0 (from importlib-resources>=3.2.0->matplotlib==3.9.4->ir-explain)\n",
      "  Using cached zipp-3.21.0-py3-none-any.whl.metadata (3.7 kB)\n",
      "Requirement already satisfied: parso<0.9.0,>=0.8.4 in /home/nlp/anaconda3/envs/irx/lib/python3.9/site-packages (from jedi>=0.16->ipython==8.12.3->ir-explain) (0.8.4)\n",
      "Collecting pybind11<2.6.2 (from nmslib>=2.1.1->pyserini==0.21.0->ir-explain)\n",
      "  Using cached pybind11-2.6.1-py2.py3-none-any.whl.metadata (8.7 kB)\n",
      "Requirement already satisfied: psutil in /home/nlp/anaconda3/envs/irx/lib/python3.9/site-packages (from nmslib>=2.1.1->pyserini==0.21.0->ir-explain) (5.9.0)\n",
      "Collecting coloredlogs (from onnxruntime>=1.8.1->pyserini==0.21.0->ir-explain)\n",
      "  Using cached coloredlogs-15.0.1-py2.py3-none-any.whl.metadata (12 kB)\n",
      "Collecting flatbuffers (from onnxruntime>=1.8.1->pyserini==0.21.0->ir-explain)\n",
      "  Using cached flatbuffers-25.2.10-py2.py3-none-any.whl.metadata (875 bytes)\n",
      "Collecting protobuf (from onnxruntime>=1.8.1->pyserini==0.21.0->ir-explain)\n",
      "  Using cached protobuf-6.30.1-cp39-abi3-manylinux2014_x86_64.whl.metadata (593 bytes)\n",
      "Collecting qdldl (from osqp>=0.4.1->cvxpy==1.3.2->ir-explain)\n",
      "  Using cached qdldl-0.1.7.post5-cp39-cp39-manylinux_2_17_x86_64.manylinux2014_x86_64.whl.metadata (1.7 kB)\n",
      "Requirement already satisfied: ptyprocess>=0.5 in /home/nlp/anaconda3/envs/irx/lib/python3.9/site-packages (from pexpect>4.3->ipython==8.12.3->ir-explain) (0.7.0)\n",
      "Requirement already satisfied: wcwidth in /home/nlp/anaconda3/envs/irx/lib/python3.9/site-packages (from prompt-toolkit!=3.0.37,<3.1.0,>=3.0.30->ipython==8.12.3->ir-explain) (0.2.13)\n",
      "Requirement already satisfied: six>=1.5 in /home/nlp/anaconda3/envs/irx/lib/python3.9/site-packages (from python-dateutil>=2.7->matplotlib==3.9.4->ir-explain) (1.17.0)\n",
      "Collecting charset-normalizer<4,>=2 (from requests->torchtext==0.17.0->ir-explain)\n",
      "  Using cached charset_normalizer-3.4.1-cp39-cp39-manylinux_2_17_x86_64.manylinux2014_x86_64.whl.metadata (35 kB)\n",
      "Collecting idna<4,>=2.5 (from requests->torchtext==0.17.0->ir-explain)\n",
      "  Using cached idna-3.10-py3-none-any.whl.metadata (10 kB)\n",
      "Collecting certifi>=2017.4.17 (from requests->torchtext==0.17.0->ir-explain)\n",
      "  Using cached certifi-2025.1.31-py3-none-any.whl.metadata (2.5 kB)\n",
      "Collecting wrapt (from smart-open>=1.8.1->gensim==4.3.1->ir-explain)\n",
      "  Using cached wrapt-1.17.2-cp39-cp39-manylinux_2_5_x86_64.manylinux1_x86_64.manylinux_2_17_x86_64.manylinux2014_x86_64.whl.metadata (6.4 kB)\n",
      "Collecting spacy-legacy<3.1.0,>=3.0.11 (from spacy>=3.2.1->pyserini==0.21.0->ir-explain)\n",
      "  Using cached spacy_legacy-3.0.12-py2.py3-none-any.whl.metadata (2.8 kB)\n",
      "Collecting spacy-loggers<2.0.0,>=1.0.0 (from spacy>=3.2.1->pyserini==0.21.0->ir-explain)\n",
      "  Using cached spacy_loggers-1.0.5-py3-none-any.whl.metadata (23 kB)\n",
      "Collecting murmurhash<1.1.0,>=0.28.0 (from spacy>=3.2.1->pyserini==0.21.0->ir-explain)\n",
      "  Using cached murmurhash-1.0.12-cp39-cp39-manylinux_2_5_x86_64.manylinux1_x86_64.manylinux_2_17_x86_64.manylinux2014_x86_64.whl.metadata (2.1 kB)\n",
      "Collecting cymem<2.1.0,>=2.0.2 (from spacy>=3.2.1->pyserini==0.21.0->ir-explain)\n",
      "  Using cached cymem-2.0.11-cp39-cp39-manylinux_2_17_x86_64.manylinux2014_x86_64.whl.metadata (8.5 kB)\n",
      "Collecting preshed<3.1.0,>=3.0.2 (from spacy>=3.2.1->pyserini==0.21.0->ir-explain)\n",
      "  Using cached preshed-3.0.9-cp39-cp39-manylinux_2_5_x86_64.manylinux1_x86_64.manylinux_2_17_x86_64.manylinux2014_x86_64.whl.metadata (2.2 kB)\n",
      "Collecting thinc<8.4.0,>=8.3.0 (from spacy>=3.2.1->pyserini==0.21.0->ir-explain)\n",
      "  Using cached thinc-8.3.4-cp39-cp39-manylinux_2_17_x86_64.manylinux2014_x86_64.whl.metadata (15 kB)\n",
      "Collecting wasabi<1.2.0,>=0.9.1 (from spacy>=3.2.1->pyserini==0.21.0->ir-explain)\n",
      "  Using cached wasabi-1.1.3-py3-none-any.whl.metadata (28 kB)\n",
      "Collecting srsly<3.0.0,>=2.4.3 (from spacy>=3.2.1->pyserini==0.21.0->ir-explain)\n",
      "  Using cached srsly-2.5.1-cp39-cp39-manylinux_2_17_x86_64.manylinux2014_x86_64.whl.metadata (19 kB)\n",
      "Collecting catalogue<2.1.0,>=2.0.6 (from spacy>=3.2.1->pyserini==0.21.0->ir-explain)\n",
      "  Using cached catalogue-2.0.10-py3-none-any.whl.metadata (14 kB)\n",
      "Collecting weasel<0.5.0,>=0.1.0 (from spacy>=3.2.1->pyserini==0.21.0->ir-explain)\n",
      "  Using cached weasel-0.4.1-py3-none-any.whl.metadata (4.6 kB)\n",
      "Collecting typer<1.0.0,>=0.3.0 (from spacy>=3.2.1->pyserini==0.21.0->ir-explain)\n",
      "  Using cached typer-0.15.2-py3-none-any.whl.metadata (15 kB)\n",
      "Collecting pydantic!=1.8,!=1.8.1,<3.0.0,>=1.7.4 (from spacy>=3.2.1->pyserini==0.21.0->ir-explain)\n",
      "  Using cached pydantic-2.10.6-py3-none-any.whl.metadata (30 kB)\n",
      "Collecting langcodes<4.0.0,>=3.2.0 (from spacy>=3.2.1->pyserini==0.21.0->ir-explain)\n",
      "  Using cached langcodes-3.5.0-py3-none-any.whl.metadata (29 kB)\n",
      "Collecting tokenizers<0.22,>=0.21 (from transformers>=4.6.0->pyserini==0.21.0->ir-explain)\n",
      "  Using cached tokenizers-0.21.1-cp39-abi3-manylinux_2_17_x86_64.manylinux2014_x86_64.whl.metadata (6.8 kB)\n",
      "Collecting safetensors>=0.4.1 (from transformers>=4.6.0->pyserini==0.21.0->ir-explain)\n",
      "  Using cached safetensors-0.5.3-cp38-abi3-manylinux_2_17_x86_64.manylinux2014_x86_64.whl.metadata (3.8 kB)\n",
      "Collecting cbor>=1.0.0 (from trec-car-tools>=2.5.4->ir_datasets->ir-explain)\n",
      "  Using cached cbor-1.0.0-py3-none-any.whl\n",
      "Collecting MarkupSafe>=2.0 (from jinja2->torch==2.2.0->ir-explain)\n",
      "  Using cached MarkupSafe-3.0.2-cp39-cp39-manylinux_2_17_x86_64.manylinux2014_x86_64.whl.metadata (4.0 kB)\n",
      "Requirement already satisfied: executing>=1.2.0 in /home/nlp/anaconda3/envs/irx/lib/python3.9/site-packages (from stack-data->ipython==8.12.3->ir-explain) (2.1.0)\n",
      "Requirement already satisfied: asttokens>=2.1.0 in /home/nlp/anaconda3/envs/irx/lib/python3.9/site-packages (from stack-data->ipython==8.12.3->ir-explain) (3.0.0)\n",
      "Requirement already satisfied: pure_eval in /home/nlp/anaconda3/envs/irx/lib/python3.9/site-packages (from stack-data->ipython==8.12.3->ir-explain) (0.2.3)\n",
      "Collecting mpmath<1.4,>=1.1.0 (from sympy->torch==2.2.0->ir-explain)\n",
      "  Using cached mpmath-1.3.0-py3-none-any.whl.metadata (8.6 kB)\n",
      "Collecting aiohappyeyeballs>=2.3.0 (from aiohttp!=4.0.0a0,!=4.0.0a1->fsspec[http]>=2022.5.0->pytorch-lightning->ir-explain)\n",
      "  Using cached aiohappyeyeballs-2.6.1-py3-none-any.whl.metadata (5.9 kB)\n",
      "Collecting aiosignal>=1.1.2 (from aiohttp!=4.0.0a0,!=4.0.0a1->fsspec[http]>=2022.5.0->pytorch-lightning->ir-explain)\n",
      "  Using cached aiosignal-1.3.2-py2.py3-none-any.whl.metadata (3.8 kB)\n",
      "Collecting async-timeout<6.0,>=4.0 (from aiohttp!=4.0.0a0,!=4.0.0a1->fsspec[http]>=2022.5.0->pytorch-lightning->ir-explain)\n",
      "  Using cached async_timeout-5.0.1-py3-none-any.whl.metadata (5.1 kB)\n",
      "Collecting attrs>=17.3.0 (from aiohttp!=4.0.0a0,!=4.0.0a1->fsspec[http]>=2022.5.0->pytorch-lightning->ir-explain)\n",
      "  Using cached attrs-25.3.0-py3-none-any.whl.metadata (10 kB)\n",
      "Collecting frozenlist>=1.1.1 (from aiohttp!=4.0.0a0,!=4.0.0a1->fsspec[http]>=2022.5.0->pytorch-lightning->ir-explain)\n",
      "  Using cached frozenlist-1.5.0-cp39-cp39-manylinux_2_5_x86_64.manylinux1_x86_64.manylinux_2_17_x86_64.manylinux2014_x86_64.whl.metadata (13 kB)\n",
      "Collecting multidict<7.0,>=4.5 (from aiohttp!=4.0.0a0,!=4.0.0a1->fsspec[http]>=2022.5.0->pytorch-lightning->ir-explain)\n",
      "  Using cached multidict-6.2.0-cp39-cp39-manylinux_2_17_x86_64.manylinux2014_x86_64.whl.metadata (4.9 kB)\n",
      "Collecting propcache>=0.2.0 (from aiohttp!=4.0.0a0,!=4.0.0a1->fsspec[http]>=2022.5.0->pytorch-lightning->ir-explain)\n",
      "  Using cached propcache-0.3.0-cp39-cp39-manylinux_2_17_x86_64.manylinux2014_x86_64.whl.metadata (10 kB)\n",
      "Collecting yarl<2.0,>=1.17.0 (from aiohttp!=4.0.0a0,!=4.0.0a1->fsspec[http]>=2022.5.0->pytorch-lightning->ir-explain)\n",
      "  Using cached yarl-1.18.3-cp39-cp39-manylinux_2_17_x86_64.manylinux2014_x86_64.whl.metadata (69 kB)\n",
      "Collecting language-data>=1.2 (from langcodes<4.0.0,>=3.2.0->spacy>=3.2.1->pyserini==0.21.0->ir-explain)\n",
      "  Using cached language_data-1.3.0-py3-none-any.whl.metadata (4.3 kB)\n",
      "Collecting annotated-types>=0.6.0 (from pydantic!=1.8,!=1.8.1,<3.0.0,>=1.7.4->spacy>=3.2.1->pyserini==0.21.0->ir-explain)\n",
      "  Using cached annotated_types-0.7.0-py3-none-any.whl.metadata (15 kB)\n",
      "Collecting pydantic-core==2.27.2 (from pydantic!=1.8,!=1.8.1,<3.0.0,>=1.7.4->spacy>=3.2.1->pyserini==0.21.0->ir-explain)\n",
      "  Using cached pydantic_core-2.27.2-cp39-cp39-manylinux_2_17_x86_64.manylinux2014_x86_64.whl.metadata (6.6 kB)\n",
      "Collecting blis<1.3.0,>=1.2.0 (from thinc<8.4.0,>=8.3.0->spacy>=3.2.1->pyserini==0.21.0->ir-explain)\n",
      "  Using cached blis-1.2.0-cp39-cp39-manylinux_2_17_x86_64.manylinux2014_x86_64.whl.metadata (7.7 kB)\n",
      "Collecting confection<1.0.0,>=0.0.1 (from thinc<8.4.0,>=8.3.0->spacy>=3.2.1->pyserini==0.21.0->ir-explain)\n",
      "  Using cached confection-0.1.5-py3-none-any.whl.metadata (19 kB)\n",
      "Collecting shellingham>=1.3.0 (from typer<1.0.0,>=0.3.0->spacy>=3.2.1->pyserini==0.21.0->ir-explain)\n",
      "  Using cached shellingham-1.5.4-py2.py3-none-any.whl.metadata (3.5 kB)\n",
      "Collecting rich>=10.11.0 (from typer<1.0.0,>=0.3.0->spacy>=3.2.1->pyserini==0.21.0->ir-explain)\n",
      "  Using cached rich-13.9.4-py3-none-any.whl.metadata (18 kB)\n",
      "Collecting cloudpathlib<1.0.0,>=0.7.0 (from weasel<0.5.0,>=0.1.0->spacy>=3.2.1->pyserini==0.21.0->ir-explain)\n",
      "  Using cached cloudpathlib-0.21.0-py3-none-any.whl.metadata (14 kB)\n",
      "Collecting humanfriendly>=9.1 (from coloredlogs->onnxruntime>=1.8.1->pyserini==0.21.0->ir-explain)\n",
      "  Using cached humanfriendly-10.0-py2.py3-none-any.whl.metadata (9.2 kB)\n",
      "Collecting marisa-trie>=1.1.0 (from language-data>=1.2->langcodes<4.0.0,>=3.2.0->spacy>=3.2.1->pyserini==0.21.0->ir-explain)\n",
      "  Using cached marisa_trie-1.2.1-cp39-cp39-manylinux_2_17_x86_64.manylinux2014_x86_64.whl.metadata (9.0 kB)\n",
      "Collecting markdown-it-py>=2.2.0 (from rich>=10.11.0->typer<1.0.0,>=0.3.0->spacy>=3.2.1->pyserini==0.21.0->ir-explain)\n",
      "  Using cached markdown_it_py-3.0.0-py3-none-any.whl.metadata (6.9 kB)\n",
      "Collecting mdurl~=0.1 (from markdown-it-py>=2.2.0->rich>=10.11.0->typer<1.0.0,>=0.3.0->spacy>=3.2.1->pyserini==0.21.0->ir-explain)\n",
      "  Using cached mdurl-0.1.2-py3-none-any.whl.metadata (1.6 kB)\n",
      "Using cached captum-0.7.0-py3-none-any.whl (1.3 MB)\n",
      "Using cached cvxpy-1.3.2-cp39-cp39-manylinux_2_17_x86_64.manylinux2014_x86_64.whl (4.0 MB)\n",
      "Using cached faiss_cpu-1.8.0-cp39-cp39-manylinux_2_17_x86_64.manylinux2014_x86_64.whl (27.0 MB)\n",
      "Using cached genosolver-0.1.0.6-py3-none-any.whl (20 kB)\n",
      "Using cached gensim-4.3.1-cp39-cp39-manylinux_2_17_x86_64.manylinux2014_x86_64.whl (26.5 MB)\n",
      "Using cached ipython-8.12.3-py3-none-any.whl (798 kB)\n",
      "Using cached matplotlib-3.9.4-cp39-cp39-manylinux_2_17_x86_64.manylinux2014_x86_64.whl (8.3 MB)\n",
      "Using cached nltk-3.9.1-py3-none-any.whl (1.5 MB)\n",
      "Using cached numpy-1.24.4-cp39-cp39-manylinux_2_17_x86_64.manylinux2014_x86_64.whl (17.3 MB)\n",
      "Using cached pandas-2.2.3-cp39-cp39-manylinux_2_17_x86_64.manylinux2014_x86_64.whl (13.1 MB)\n",
      "Using cached pyserini-0.21.0-py3-none-any.whl (154.1 MB)\n",
      "Using cached rank_bm25-0.2.2-py3-none-any.whl (8.6 kB)\n",
      "Using cached scikit_learn-1.6.0-cp39-cp39-manylinux_2_17_x86_64.manylinux2014_x86_64.whl (13.5 MB)\n",
      "Using cached scipy-1.10.1-cp39-cp39-manylinux_2_17_x86_64.manylinux2014_x86_64.whl (34.5 MB)\n",
      "Using cached sentence_transformers-3.3.1-py3-none-any.whl (268 kB)\n",
      "Using cached torch-2.2.0-cp39-cp39-manylinux1_x86_64.whl (755.5 MB)\n",
      "Using cached torchtext-0.17.0-cp39-cp39-manylinux1_x86_64.whl (2.0 MB)\n",
      "Using cached tqdm-4.67.1-py3-none-any.whl (78 kB)\n",
      "Using cached nvidia_cublas_cu12-12.1.3.1-py3-none-manylinux1_x86_64.whl (410.6 MB)\n",
      "Using cached nvidia_cuda_cupti_cu12-12.1.105-py3-none-manylinux1_x86_64.whl (14.1 MB)\n",
      "Using cached nvidia_cuda_nvrtc_cu12-12.1.105-py3-none-manylinux1_x86_64.whl (23.7 MB)\n",
      "Using cached nvidia_cuda_runtime_cu12-12.1.105-py3-none-manylinux1_x86_64.whl (823 kB)\n",
      "Using cached nvidia_cudnn_cu12-8.9.2.26-py3-none-manylinux1_x86_64.whl (731.7 MB)\n",
      "Using cached nvidia_cufft_cu12-11.0.2.54-py3-none-manylinux1_x86_64.whl (121.6 MB)\n",
      "Using cached nvidia_curand_cu12-10.3.2.106-py3-none-manylinux1_x86_64.whl (56.5 MB)\n",
      "Using cached nvidia_cusolver_cu12-11.4.5.107-py3-none-manylinux1_x86_64.whl (124.2 MB)\n",
      "Using cached nvidia_cusparse_cu12-12.1.0.106-py3-none-manylinux1_x86_64.whl (196.0 MB)\n",
      "Using cached nvidia_nccl_cu12-2.19.3-py3-none-manylinux1_x86_64.whl (166.0 MB)\n",
      "Using cached nvidia_nvtx_cu12-12.1.105-py3-none-manylinux1_x86_64.whl (99 kB)\n",
      "Using cached torchdata-0.7.1-cp39-cp39-manylinux_2_17_x86_64.manylinux2014_x86_64.whl (4.7 MB)\n",
      "Using cached triton-2.2.0-cp39-cp39-manylinux_2_17_x86_64.manylinux2014_x86_64.whl (167.9 MB)\n",
      "Using cached h5py-3.13.0-cp39-cp39-manylinux_2_17_x86_64.manylinux2014_x86_64.whl (4.6 MB)\n",
      "Using cached ir_datasets-0.5.10-py3-none-any.whl (859 kB)\n",
      "Using cached pytorch_lightning-2.5.0.post0-py3-none-any.whl (819 kB)\n",
      "Using cached scikit_image-0.24.0-cp39-cp39-manylinux_2_17_x86_64.manylinux2014_x86_64.whl (14.9 MB)\n",
      "Using cached beautifulsoup4-4.13.3-py3-none-any.whl (186 kB)\n",
      "Using cached contourpy-1.3.0-cp39-cp39-manylinux_2_17_x86_64.manylinux2014_x86_64.whl (321 kB)\n",
      "Using cached cycler-0.12.1-py3-none-any.whl (8.3 kB)\n",
      "Using cached Cython-3.0.12-cp39-cp39-manylinux_2_17_x86_64.manylinux2014_x86_64.whl (3.6 MB)\n",
      "Using cached ecos-2.0.14-cp39-cp39-manylinux_2_17_x86_64.manylinux2014_x86_64.whl (218 kB)\n",
      "Using cached fonttools-4.56.0-cp39-cp39-manylinux_2_17_x86_64.manylinux2014_x86_64.whl (4.6 MB)\n",
      "Using cached fsspec-2025.3.0-py3-none-any.whl (193 kB)\n",
      "Using cached huggingface_hub-0.29.3-py3-none-any.whl (468 kB)\n",
      "Using cached ijson-3.3.0-cp39-cp39-manylinux_2_17_x86_64.manylinux2014_x86_64.whl (113 kB)\n",
      "Using cached imageio-2.37.0-py3-none-any.whl (315 kB)\n",
      "Using cached importlib_resources-6.5.2-py3-none-any.whl (37 kB)\n",
      "Using cached inscriptis-2.5.3-py3-none-any.whl (45 kB)\n",
      "Using cached joblib-1.4.2-py3-none-any.whl (301 kB)\n",
      "Using cached kiwisolver-1.4.7-cp39-cp39-manylinux_2_12_x86_64.manylinux2010_x86_64.whl (1.6 MB)\n",
      "Using cached lazy_loader-0.4-py3-none-any.whl (12 kB)\n",
      "Using cached lightgbm-4.6.0-py3-none-manylinux_2_28_x86_64.whl (3.6 MB)\n",
      "Using cached lightning_utilities-0.14.1-py3-none-any.whl (28 kB)\n",
      "Using cached lxml-5.3.1-cp39-cp39-manylinux_2_28_x86_64.whl (5.2 MB)\n",
      "Using cached lz4-4.4.3-cp39-cp39-manylinux_2_17_x86_64.manylinux2014_x86_64.whl (1.3 MB)\n",
      "Using cached networkx-3.2.1-py3-none-any.whl (1.6 MB)\n",
      "Using cached nmslib-2.1.1-cp39-cp39-manylinux2010_x86_64.whl (13.3 MB)\n",
      "Using cached onnxruntime-1.19.2-cp39-cp39-manylinux_2_27_x86_64.manylinux_2_28_x86_64.whl (13.2 MB)\n",
      "Using cached osqp-0.6.7.post3-cp39-cp39-manylinux_2_5_x86_64.manylinux1_x86_64.manylinux_2_17_x86_64.manylinux2014_x86_64.whl (297 kB)\n",
      "Using cached pillow-11.1.0-cp39-cp39-manylinux_2_28_x86_64.whl (4.5 MB)\n",
      "Using cached pyarrow-19.0.1-cp39-cp39-manylinux_2_28_x86_64.whl (42.1 MB)\n",
      "Using cached pyjnius-1.6.1-cp39-cp39-manylinux_2_17_x86_64.manylinux2014_x86_64.whl (1.5 MB)\n",
      "Using cached pyparsing-3.2.1-py3-none-any.whl (107 kB)\n",
      "Using cached pytz-2025.1-py2.py3-none-any.whl (507 kB)\n",
      "Using cached PyYAML-6.0.2-cp39-cp39-manylinux_2_17_x86_64.manylinux2014_x86_64.whl (737 kB)\n",
      "Using cached regex-2024.11.6-cp39-cp39-manylinux_2_17_x86_64.manylinux2014_x86_64.whl (780 kB)\n",
      "Using cached requests-2.32.3-py3-none-any.whl (64 kB)\n",
      "Using cached scs-3.2.7.post2-cp39-cp39-manylinux_2_17_x86_64.manylinux2014_x86_64.whl (10.4 MB)\n",
      "Using cached sentencepiece-0.2.0-cp39-cp39-manylinux_2_17_x86_64.manylinux2014_x86_64.whl (1.3 MB)\n",
      "Using cached smart_open-7.1.0-py3-none-any.whl (61 kB)\n",
      "Using cached spacy-3.8.3-cp39-cp39-manylinux_2_17_x86_64.manylinux2014_x86_64.whl (29.4 MB)\n",
      "Using cached threadpoolctl-3.6.0-py3-none-any.whl (18 kB)\n",
      "Using cached tifffile-2024.8.30-py3-none-any.whl (227 kB)\n",
      "Using cached torchmetrics-1.6.3-py3-none-any.whl (931 kB)\n",
      "Using cached transformers-4.49.0-py3-none-any.whl (10.0 MB)\n",
      "Using cached trec_car_tools-2.6-py3-none-any.whl (8.4 kB)\n",
      "Using cached tzdata-2025.1-py2.py3-none-any.whl (346 kB)\n",
      "Using cached unlzw3-0.2.3-py3-none-any.whl (6.7 kB)\n",
      "Using cached warc3_wet-0.2.5-py3-none-any.whl (18 kB)\n",
      "Using cached zlib_state-0.1.9-cp39-cp39-manylinux_2_17_x86_64.manylinux2014_x86_64.whl (21 kB)\n",
      "Using cached click-8.1.8-py3-none-any.whl (98 kB)\n",
      "Using cached filelock-3.18.0-py3-none-any.whl (16 kB)\n",
      "Using cached jinja2-3.1.6-py3-none-any.whl (134 kB)\n",
      "Using cached sympy-1.13.3-py3-none-any.whl (6.2 MB)\n",
      "Using cached aiohttp-3.11.14-cp39-cp39-manylinux_2_17_x86_64.manylinux2014_x86_64.whl (1.6 MB)\n",
      "Using cached catalogue-2.0.10-py3-none-any.whl (17 kB)\n",
      "Using cached certifi-2025.1.31-py3-none-any.whl (166 kB)\n",
      "Using cached charset_normalizer-3.4.1-cp39-cp39-manylinux_2_17_x86_64.manylinux2014_x86_64.whl (146 kB)\n",
      "Using cached cymem-2.0.11-cp39-cp39-manylinux_2_17_x86_64.manylinux2014_x86_64.whl (208 kB)\n",
      "Using cached idna-3.10-py3-none-any.whl (70 kB)\n",
      "Using cached langcodes-3.5.0-py3-none-any.whl (182 kB)\n",
      "Using cached MarkupSafe-3.0.2-cp39-cp39-manylinux_2_17_x86_64.manylinux2014_x86_64.whl (20 kB)\n",
      "Using cached mpmath-1.3.0-py3-none-any.whl (536 kB)\n",
      "Using cached murmurhash-1.0.12-cp39-cp39-manylinux_2_5_x86_64.manylinux1_x86_64.manylinux_2_17_x86_64.manylinux2014_x86_64.whl (124 kB)\n",
      "Using cached preshed-3.0.9-cp39-cp39-manylinux_2_5_x86_64.manylinux1_x86_64.manylinux_2_17_x86_64.manylinux2014_x86_64.whl (157 kB)\n",
      "Using cached pybind11-2.6.1-py2.py3-none-any.whl (188 kB)\n",
      "Using cached pydantic-2.10.6-py3-none-any.whl (431 kB)\n",
      "Using cached pydantic_core-2.27.2-cp39-cp39-manylinux_2_17_x86_64.manylinux2014_x86_64.whl (2.0 MB)\n",
      "Using cached safetensors-0.5.3-cp38-abi3-manylinux_2_17_x86_64.manylinux2014_x86_64.whl (471 kB)\n",
      "Using cached soupsieve-2.6-py3-none-any.whl (36 kB)\n",
      "Using cached spacy_legacy-3.0.12-py2.py3-none-any.whl (29 kB)\n",
      "Using cached spacy_loggers-1.0.5-py3-none-any.whl (22 kB)\n",
      "Using cached srsly-2.5.1-cp39-cp39-manylinux_2_17_x86_64.manylinux2014_x86_64.whl (1.1 MB)\n",
      "Using cached thinc-8.3.4-cp39-cp39-manylinux_2_17_x86_64.manylinux2014_x86_64.whl (3.7 MB)\n",
      "Using cached tokenizers-0.21.1-cp39-abi3-manylinux_2_17_x86_64.manylinux2014_x86_64.whl (3.0 MB)\n",
      "Using cached typer-0.15.2-py3-none-any.whl (45 kB)\n",
      "Using cached urllib3-2.3.0-py3-none-any.whl (128 kB)\n",
      "Using cached wasabi-1.1.3-py3-none-any.whl (27 kB)\n",
      "Using cached weasel-0.4.1-py3-none-any.whl (50 kB)\n",
      "Using cached zipp-3.21.0-py3-none-any.whl (9.6 kB)\n",
      "Using cached coloredlogs-15.0.1-py2.py3-none-any.whl (46 kB)\n",
      "Using cached flatbuffers-25.2.10-py2.py3-none-any.whl (30 kB)\n",
      "Using cached nvidia_nvjitlink_cu12-12.8.93-py3-none-manylinux2010_x86_64.manylinux_2_12_x86_64.whl (39.3 MB)\n",
      "Using cached protobuf-6.30.1-cp39-abi3-manylinux2014_x86_64.whl (316 kB)\n",
      "Using cached qdldl-0.1.7.post5-cp39-cp39-manylinux_2_17_x86_64.manylinux2014_x86_64.whl (1.2 MB)\n",
      "Using cached wrapt-1.17.2-cp39-cp39-manylinux_2_5_x86_64.manylinux1_x86_64.manylinux_2_17_x86_64.manylinux2014_x86_64.whl (82 kB)\n",
      "Using cached aiohappyeyeballs-2.6.1-py3-none-any.whl (15 kB)\n",
      "Using cached aiosignal-1.3.2-py2.py3-none-any.whl (7.6 kB)\n",
      "Using cached annotated_types-0.7.0-py3-none-any.whl (13 kB)\n",
      "Using cached async_timeout-5.0.1-py3-none-any.whl (6.2 kB)\n",
      "Using cached attrs-25.3.0-py3-none-any.whl (63 kB)\n",
      "Using cached blis-1.2.0-cp39-cp39-manylinux_2_17_x86_64.manylinux2014_x86_64.whl (11.5 MB)\n",
      "Using cached cloudpathlib-0.21.0-py3-none-any.whl (52 kB)\n",
      "Using cached confection-0.1.5-py3-none-any.whl (35 kB)\n",
      "Using cached frozenlist-1.5.0-cp39-cp39-manylinux_2_5_x86_64.manylinux1_x86_64.manylinux_2_17_x86_64.manylinux2014_x86_64.whl (242 kB)\n",
      "Using cached humanfriendly-10.0-py2.py3-none-any.whl (86 kB)\n",
      "Using cached language_data-1.3.0-py3-none-any.whl (5.4 MB)\n",
      "Using cached multidict-6.2.0-cp39-cp39-manylinux_2_17_x86_64.manylinux2014_x86_64.whl (129 kB)\n",
      "Using cached propcache-0.3.0-cp39-cp39-manylinux_2_17_x86_64.manylinux2014_x86_64.whl (208 kB)\n",
      "Using cached rich-13.9.4-py3-none-any.whl (242 kB)\n",
      "Using cached shellingham-1.5.4-py2.py3-none-any.whl (9.8 kB)\n",
      "Using cached yarl-1.18.3-cp39-cp39-manylinux_2_17_x86_64.manylinux2014_x86_64.whl (321 kB)\n",
      "Using cached marisa_trie-1.2.1-cp39-cp39-manylinux_2_17_x86_64.manylinux2014_x86_64.whl (1.3 MB)\n",
      "Using cached markdown_it_py-3.0.0-py3-none-any.whl (87 kB)\n",
      "Using cached mdurl-0.1.2-py3-none-any.whl (10.0 kB)\n",
      "Installing collected packages: warc3-wet-clueweb09, warc3-wet, sentencepiece, pytz, pyjnius, mpmath, ijson, flatbuffers, cymem, cbor, zlib-state, zipp, wrapt, wasabi, urllib3, unlzw3, tzdata, tqdm, threadpoolctl, sympy, spacy-loggers, spacy-legacy, soupsieve, shellingham, safetensors, regex, pyyaml, pyparsing, pydantic-core, pybind11, pyarrow, protobuf, propcache, pillow, nvidia-nvtx-cu12, nvidia-nvjitlink-cu12, nvidia-nccl-cu12, nvidia-curand-cu12, nvidia-cufft-cu12, nvidia-cuda-runtime-cu12, nvidia-cuda-nvrtc-cu12, nvidia-cuda-cupti-cu12, nvidia-cublas-cu12, numpy, networkx, murmurhash, multidict, mdurl, MarkupSafe, marisa-trie, lz4, lxml, lightning-utilities, lazy-loader, kiwisolver, joblib, idna, humanfriendly, fsspec, frozenlist, fonttools, filelock, Cython, cycler, cloudpathlib, click, charset-normalizer, certifi, catalogue, attrs, async-timeout, annotated-types, aiohappyeyeballs, yarl, triton, trec-car-tools, tifffile, srsly, smart-open, scipy, requests, rank_bm25, pydantic, preshed, pandas, nvidia-cusparse-cu12, nvidia-cudnn-cu12, nmslib, nltk, markdown-it-py, language-data, jinja2, ipython, importlib-resources, imageio, h5py, genosolver, faiss-cpu, contourpy, coloredlogs, blis, beautifulsoup4, aiosignal, scs, scikit_learn, scikit-image, rich, qdldl, onnxruntime, nvidia-cusolver-cu12, matplotlib, lightgbm, langcodes, inscriptis, huggingface-hub, gensim, ecos, confection, aiohttp, typer, torch, tokenizers, thinc, osqp, ir_datasets, weasel, transformers, torchmetrics, torchdata, cvxpy, captum, torchtext, spacy, sentence_transformers, pytorch-lightning, pyserini, ir-explain\n",
      "  Attempting uninstall: ipython\n",
      "    Found existing installation: ipython 8.12.0\n",
      "    Uninstalling ipython-8.12.0:\n",
      "      Successfully uninstalled ipython-8.12.0\n",
      "Successfully installed Cython-3.0.12 MarkupSafe-3.0.2 aiohappyeyeballs-2.6.1 aiohttp-3.11.14 aiosignal-1.3.2 annotated-types-0.7.0 async-timeout-5.0.1 attrs-25.3.0 beautifulsoup4-4.13.3 blis-1.2.0 captum-0.7.0 catalogue-2.0.10 cbor-1.0.0 certifi-2025.1.31 charset-normalizer-3.4.1 click-8.1.8 cloudpathlib-0.21.0 coloredlogs-15.0.1 confection-0.1.5 contourpy-1.3.0 cvxpy-1.3.2 cycler-0.12.1 cymem-2.0.11 ecos-2.0.14 faiss-cpu-1.8.0 filelock-3.18.0 flatbuffers-25.2.10 fonttools-4.56.0 frozenlist-1.5.0 fsspec-2025.3.0 genosolver-0.1.0.6 gensim-4.3.1 h5py-3.13.0 huggingface-hub-0.29.3 humanfriendly-10.0 idna-3.10 ijson-3.3.0 imageio-2.37.0 importlib-resources-6.5.2 inscriptis-2.5.3 ipython-8.12.3 ir-explain-0.1 ir_datasets-0.5.10 jinja2-3.1.6 joblib-1.4.2 kiwisolver-1.4.7 langcodes-3.5.0 language-data-1.3.0 lazy-loader-0.4 lightgbm-4.6.0 lightning-utilities-0.14.1 lxml-5.3.1 lz4-4.4.3 marisa-trie-1.2.1 markdown-it-py-3.0.0 matplotlib-3.9.4 mdurl-0.1.2 mpmath-1.3.0 multidict-6.2.0 murmurhash-1.0.12 networkx-3.2.1 nltk-3.9.1 nmslib-2.1.1 numpy-1.24.4 nvidia-cublas-cu12-12.1.3.1 nvidia-cuda-cupti-cu12-12.1.105 nvidia-cuda-nvrtc-cu12-12.1.105 nvidia-cuda-runtime-cu12-12.1.105 nvidia-cudnn-cu12-8.9.2.26 nvidia-cufft-cu12-11.0.2.54 nvidia-curand-cu12-10.3.2.106 nvidia-cusolver-cu12-11.4.5.107 nvidia-cusparse-cu12-12.1.0.106 nvidia-nccl-cu12-2.19.3 nvidia-nvjitlink-cu12-12.8.93 nvidia-nvtx-cu12-12.1.105 onnxruntime-1.19.2 osqp-0.6.7.post3 pandas-2.2.3 pillow-11.1.0 preshed-3.0.9 propcache-0.3.0 protobuf-6.30.1 pyarrow-19.0.1 pybind11-2.6.1 pydantic-2.10.6 pydantic-core-2.27.2 pyjnius-1.6.1 pyparsing-3.2.1 pyserini-0.21.0 pytorch-lightning-2.5.0.post0 pytz-2025.1 pyyaml-6.0.2 qdldl-0.1.7.post5 rank_bm25-0.2.2 regex-2024.11.6 requests-2.32.3 rich-13.9.4 safetensors-0.5.3 scikit-image-0.24.0 scikit_learn-1.6.0 scipy-1.10.1 scs-3.2.7.post2 sentence_transformers-3.3.1 sentencepiece-0.2.0 shellingham-1.5.4 smart-open-7.1.0 soupsieve-2.6 spacy-3.8.3 spacy-legacy-3.0.12 spacy-loggers-1.0.5 srsly-2.5.1 sympy-1.13.3 thinc-8.3.4 threadpoolctl-3.6.0 tifffile-2024.8.30 tokenizers-0.21.1 torch-2.2.0 torchdata-0.7.1 torchmetrics-1.6.3 torchtext-0.17.0 tqdm-4.67.1 transformers-4.49.0 trec-car-tools-2.6 triton-2.2.0 typer-0.15.2 tzdata-2025.1 unlzw3-0.2.3 urllib3-2.3.0 warc3-wet-0.2.5 warc3-wet-clueweb09-0.2.5 wasabi-1.1.3 weasel-0.4.1 wrapt-1.17.2 yarl-1.18.3 zipp-3.21.0 zlib-state-0.1.9\n",
      "Note: you may need to restart the kernel to use updated packages.\n"
     ]
    }
   ],
   "source": [
    "%pip install ir-explain"
   ]
  },
  {
   "cell_type": "markdown",
   "metadata": {},
   "source": [
    "#### Building from source\n",
    "Optionally you can clone the repo from https://github.com/souravsaha/ir_explain.git and build it from the source. \n",
    "\n",
    "`!git clone https://github.com/souravsaha/ir_explain.git`\n",
    "\n",
    "`%cd ir_explain`\n",
    "\n",
    "`%pip install .`\n"
   ]
  },
  {
   "cell_type": "code",
   "execution_count": 1,
   "metadata": {},
   "outputs": [],
   "source": [
    "import os\n",
    "\n",
    "os.environ[\"JAVA_HOME\"] = \"/usr/lib/jvm/java-11-openjdk-amd64/\""
   ]
  },
  {
   "cell_type": "markdown",
   "metadata": {},
   "source": [
    "#### Necessary imports\n"
   ]
  },
  {
   "cell_type": "code",
   "execution_count": 2,
   "metadata": {},
   "outputs": [
    {
     "name": "stderr",
     "output_type": "stream",
     "text": [
      "[nltk_data] Downloading package stopwords to /home/nlp/nltk_data...\n",
      "[nltk_data]   Unzipping corpora/stopwords.zip.\n",
      "[nltk_data] Downloading package punkt to /home/nlp/nltk_data...\n",
      "[nltk_data]   Package punkt is already up-to-date!\n",
      "[nltk_data] Downloading package punkt to /home/nlp/nltk_data...\n",
      "[nltk_data]   Package punkt is already up-to-date!\n",
      "/home/nlp/anaconda3/envs/irx/lib/python3.9/site-packages/tqdm/auto.py:21: TqdmWarning: IProgress not found. Please update jupyter and ipywidgets. See https://ipywidgets.readthedocs.io/en/stable/user_install.html\n",
      "  from .autonotebook import tqdm as notebook_tqdm\n"
     ]
    }
   ],
   "source": [
    "import torch\n",
    "from ir_explain.eval import PointWiseConsistency, PointWiseCorrectness\n",
    "from ir_explain.explainers import (EXSPointwiseExplainer,\n",
    "                                   LirmePointwiseExplainer)\n",
    "from ir_explain.visualize import TermVisualization\n",
    "from sentence_transformers import CrossEncoder\n"
   ]
  },
  {
   "cell_type": "markdown",
   "metadata": {},
   "source": [
    "### Load a reranking model from Huggingface\n",
    "Let us load ms-marco-electra-base model from Huggingface."
   ]
  },
  {
   "cell_type": "code",
   "execution_count": 3,
   "metadata": {},
   "outputs": [],
   "source": [
    "model_name = \"cross-encoder/ms-marco-electra-base\"\n",
    "device = torch.device('cuda' if torch.cuda.is_available() else 'cpu')\n",
    "\n",
    "# model = load_your_model()\n",
    "model = CrossEncoder(model_name, max_length = 512, device = device)\n"
   ]
  },
  {
   "cell_type": "markdown",
   "metadata": {},
   "source": [
    "## LIRME Explanation\n",
    "Invoke the LirmePointwiseExplainer class. It accepts three arguments, 1) complex re-ranking model, 2) index path of the indexer, 3) which indexer you are using, `pyserini`, `no-index`.\n",
    "Replace the `corpus_path` with the index path, for this example, we are using msmarco-v1-passage from pyserini."
   ]
  },
  {
   "cell_type": "code",
   "execution_count": null,
   "metadata": {},
   "outputs": [],
   "source": [
    "explainer = LirmePointwiseExplainer(model, corpus_path = \"/disk_a/junk/msmarco-v1-passage-full\", indexer_type= \"pyserini\")"
   ]
  },
  {
   "cell_type": "code",
   "execution_count": 5,
   "metadata": {},
   "outputs": [],
   "source": [
    "# Explain a prediction \n",
    "input_q = \"what is the daily life of thai people\"\n",
    "input_d = \"The following concepts are part of Thai everyday life: à¹ƒà¸ˆà¹€à¸¢à¹‡à¸™ or JAI YEN is more a way of life, it is to keep your temper whatever the situation. Thai people are educated in the family and in school to keep frustration inside. Instead of showing their anger toward a problem or situation, Thai people show JAI YEN, i.e. calm or patience. \"\n"
   ]
  },
  {
   "cell_type": "markdown",
   "metadata": {},
   "source": [
    "#### Parameters dictionary for LIRME "
   ]
  },
  {
   "cell_type": "code",
   "execution_count": 6,
   "metadata": {},
   "outputs": [],
   "source": [
    "# parameters for LIRME\n",
    "params = {\n",
    "    \"sampling_method\" : \"masking\",\n",
    "    \"top_terms\" : 20,\n",
    "    \"kernel_range\" : [5,10]\n",
    "}"
   ]
  },
  {
   "cell_type": "code",
   "execution_count": 8,
   "metadata": {},
   "outputs": [
    {
     "name": "stdout",
     "output_type": "stream",
     "text": [
      "You wanted to explain with LIRME\n",
      "pyserini\n",
      "len(samples_generated) :  201\n",
      "example sample:\n",
      " [': à¹\\x83à¸\\x88à¹\\x80à¸¢à¹\\x87à¸\\x99 or JAI YEN is more a way of situation . T hai people are educated in the family and in school to keep frustration inside . Instead of people show JAI YEN , i.e . calm or patience .']\n",
      "document score [0.9912423]\n",
      "1\n",
      "size of the samples 201\n",
      "size of the sample scores 201\n",
      "document score [0.9912423]\n",
      "Document score 0.9912423\n"
     ]
    }
   ],
   "source": [
    "input_d = '8139258' \n",
    "explanation_vectors, ranked_lists = explainer.explain(input_q, input_d, params)\n"
   ]
  },
  {
   "cell_type": "markdown",
   "metadata": {},
   "source": [
    "### Visualize the explanations"
   ]
  },
  {
   "cell_type": "code",
   "execution_count": 9,
   "metadata": {},
   "outputs": [
    {
     "data": {
      "image/png": "[encoded data removed]",
      "text/plain": [
       "<Figure size 800x1000 with 1 Axes>"
      ]
     },
     "metadata": {},
     "output_type": "display_data"
    }
   ],
   "source": [
    "termVisualization = TermVisualization()\n",
    "termVisualization.visualize(explanation_vectors[0][\"term_vector\"], show_top=5)"
   ]
  },
  {
   "cell_type": "markdown",
   "metadata": {},
   "source": [
    "### Evaluate the explanations\n",
    "Invoke the evaluate function of the PointWiseCorrectness class. Three parameters need to be passed to this evaluation module, i) `query_id`, ii) `doc_id`, and iii) `explanation_vector` "
   ]
  },
  {
   "cell_type": "code",
   "execution_count": 10,
   "metadata": {},
   "outputs": [
    {
     "name": "stdout",
     "output_type": "stream",
     "text": [
      "TrecQrel(query_id='1112341', doc_id='1369480', relevance=1, iteration='Q0')\n",
      "TrecQrel(query_id='1112341', doc_id='1373646', relevance=1, iteration='Q0')\n",
      "TrecQrel(query_id='1112341', doc_id='1373648', relevance=1, iteration='Q0')\n",
      "TrecQrel(query_id='1112341', doc_id='1707321', relevance=1, iteration='Q0')\n",
      "TrecQrel(query_id='1112341', doc_id='2173822', relevance=1, iteration='Q0')\n",
      "TrecQrel(query_id='1112341', doc_id='2468293', relevance=1, iteration='Q0')\n",
      "TrecQrel(query_id='1112341', doc_id='2468300', relevance=1, iteration='Q0')\n",
      "TrecQrel(query_id='1112341', doc_id='2596431', relevance=1, iteration='Q0')\n",
      "TrecQrel(query_id='1112341', doc_id='263958', relevance=1, iteration='Q0')\n",
      "TrecQrel(query_id='1112341', doc_id='2694630', relevance=1, iteration='Q0')\n",
      "TrecQrel(query_id='1112341', doc_id='2735215', relevance=1, iteration='Q0')\n",
      "TrecQrel(query_id='1112341', doc_id='3408235', relevance=1, iteration='Q0')\n",
      "TrecQrel(query_id='1112341', doc_id='3490001', relevance=1, iteration='Q0')\n",
      "TrecQrel(query_id='1112341', doc_id='3795887', relevance=1, iteration='Q0')\n",
      "TrecQrel(query_id='1112341', doc_id='4595999', relevance=1, iteration='Q0')\n",
      "TrecQrel(query_id='1112341', doc_id='4704992', relevance=1, iteration='Q0')\n",
      "TrecQrel(query_id='1112341', doc_id='6947370', relevance=1, iteration='Q0')\n",
      "TrecQrel(query_id='1112341', doc_id='7615749', relevance=1, iteration='Q0')\n",
      "TrecQrel(query_id='1112341', doc_id='7752460', relevance=1, iteration='Q0')\n",
      "TrecQrel(query_id='1112341', doc_id='8134796', relevance=1, iteration='Q0')\n",
      "TrecQrel(query_id='1112341', doc_id='8139251', relevance=1, iteration='Q0')\n",
      "TrecQrel(query_id='1112341', doc_id='8442178', relevance=1, iteration='Q0')\n",
      "TrecQrel(query_id='1112341', doc_id='8606160', relevance=1, iteration='Q0')\n",
      "doc_id:  1369480\n",
      "doc_id:  1373646\n",
      "doc_id:  1373648\n",
      "doc_id:  1707321\n",
      "doc_id:  2173822\n",
      "doc_id:  2468293\n",
      "doc_id:  2468300\n",
      "doc_id:  2596431\n",
      "doc_id:  263958\n",
      "doc_id:  2694630\n",
      "doc_id:  2735215\n",
      "doc_id:  3408235\n",
      "doc_id:  3490001\n",
      "doc_id:  3795887\n",
      "doc_id:  4595999\n",
      "doc_id:  4704992\n",
      "doc_id:  6947370\n",
      "doc_id:  7615749\n",
      "doc_id:  7752460\n",
      "doc_id:  8134796\n",
      "doc_id:  8139251\n",
      "doc_id:  8442178\n",
      "doc_id:  8606160\n",
      "pe, cpe :  5.031455133609423e-05 [[1.]]\n"
     ]
    },
    {
     "data": {
      "text/plain": [
       "(5.031455133609423e-05, array([[1.]]))"
      ]
     },
     "execution_count": 10,
     "metadata": {},
     "output_type": "execute_result"
    }
   ],
   "source": [
    "pointWiseCorrectness = PointWiseCorrectness(explainer)\n",
    "pointWiseCorrectness.evaluate(query_id = '1112341', doc_id = '8139258', explanation_vector = explanation_vectors[0][\"term_vector\"])\n"
   ]
  },
  {
   "cell_type": "markdown",
   "metadata": {},
   "source": [
    "Similarly for consistency metric invoke the evaluate function."
   ]
  },
  {
   "cell_type": "code",
   "execution_count": 11,
   "metadata": {},
   "outputs": [
    {
     "name": "stdout",
     "output_type": "stream",
     "text": [
      "Evaluation: \n",
      "0.06315789473684211\n"
     ]
    }
   ],
   "source": [
    "pointWiseConsistency = PointWiseConsistency(explainer)\n",
    "# kernel_ranges \n",
    "pointWiseConsistency.evaluate(query_id = '1112341', doc_id = '8139258', explanation_vector = ranked_lists)\n"
   ]
  },
  {
   "cell_type": "markdown",
   "metadata": {},
   "source": [
    "## EXS Explanation\n",
    "\n",
    "Invoke the EXSPointwiseExplainer class. It accepts five arguments, 1) complex re-ranking model, 2) index path of the indexer, 3) which indexer you are using, `pyserini`, `no-index`, 4) Surrogate model, either `lr` (Logistic regression) or `svm` (Support vector machine), and 5) number of perturbed instances (default is set ot 100)"
   ]
  },
  {
   "cell_type": "code",
   "execution_count": 12,
   "metadata": {},
   "outputs": [],
   "source": [
    "explainer = EXSPointwiseExplainer(model, corpus_path = \"/disk_a/junk/msmarco-v1-passage-full\", indexer_type= \"pyserini\", exs_model = 'svm', num_samples = 100)\n"
   ]
  },
  {
   "cell_type": "code",
   "execution_count": 13,
   "metadata": {},
   "outputs": [],
   "source": [
    "# Explain a prediction \n",
    "input_q = \"what is the daily life of thai people\"\n",
    "\n",
    "# TODO : show the rank and re-rank pipeline\n",
    "input_d = \"The following concepts are part of Thai everyday life: à¹ƒà¸ˆà¹€à¸¢à¹‡à¸™ or JAI YEN is more a way of life, it is to keep your temper whatever the situation. Thai people are educated in the family and in school to keep frustration inside. Instead of showing their anger toward a problem or situation, Thai people show JAI YEN, i.e. calm or patience. \"\n"
   ]
  },
  {
   "cell_type": "markdown",
   "metadata": {},
   "source": [
    "#### Parameter vector for EXS"
   ]
  },
  {
   "cell_type": "code",
   "execution_count": 14,
   "metadata": {},
   "outputs": [],
   "source": [
    "# parameters for EXS\n",
    "params = {\n",
    "    \"doc_ids\" : ['8139255', '8139258', '8139256', '6164791', '90432', '2735215', '2096427', '6016292', '6740558', '2096429'],\n",
    "    \"rerank_scores\" : [9.7950637e-01, 1.9957299e-05, 2.2687145e-05, 9.8405325e-01, 9.8600733e-01, 3.4078690e-05, 4.0367260e-04, 5.9412047e-05, 3.2782576e-05, 5.1955116e-04], \n",
    "    \"rank\" : 2\n",
    "}"
   ]
  },
  {
   "cell_type": "code",
   "execution_count": 15,
   "metadata": {},
   "outputs": [],
   "source": [
    "input_d = {\"id\" : \"8139258\", \"contents\" : \"The following concepts are part of Thai everyday life: a or JAI YEN is more a way of life, it is to keep your temper whatever the situation. Thai people are educated in the family and in school to keep frustration inside. Instead of showing their anger toward a problem or situation, Thai people show JAI YEN, i.e. calm or patience.\" }\n"
   ]
  },
  {
   "cell_type": "code",
   "execution_count": 16,
   "metadata": {},
   "outputs": [
    {
     "name": "stdout",
     "output_type": "stream",
     "text": [
      "Inside def explain, scores_topk:\n",
      " [0.98600733, 0.98405325]\n",
      "***********DEBUG****************\n",
      "query:  what is the daily life of thai people\n",
      "doc_rank:  1\n",
      "doc_exp:  {'id': '8139258', 'contents': 'The following concepts are part of Thai everyday life: a or JAI YEN is more a way of life, it is to keep your temper whatever the situation. Thai people are educated in the family and in school to keep frustration inside. Instead of showing their anger toward a problem or situation, Thai people show JAI YEN, i.e. calm or patience.'}\n",
      "scores_topk:  [0.98600733, 0.98405325]\n",
      "method:  topk-bin\n",
      "seed:  10\n",
      "***********DEBUG****************\n",
      "document orig: {'id': '8139258', 'contents': 'The following concepts are part of Thai everyday life: a or JAI YEN is more a way of life, it is to keep your temper whatever the situation. Thai people are educated in the family and in school to keep frustration inside. Instead of showing their anger toward a problem or situation, Thai people show JAI YEN, i.e. calm or patience.'}\n",
      "document orig: <class 'dict'>\n"
     ]
    },
    {
     "name": "stderr",
     "output_type": "stream",
     "text": [
      "99it [00:00, 2939.06it/s]"
     ]
    },
    {
     "name": "stdout",
     "output_type": "stream",
     "text": [
      "lables_perturb unique:  [0 1]\n",
      "Inside def explain_single, self.exs_model:  svm\n",
      "pyserini\n",
      "item ('and', -0.9164566702224319)\n",
      "item ('anger', 10.023819054010604)\n",
      "item ('are', -7.420723288024247)\n",
      "item ('calm', 4.147021333111047)\n",
      "item ('concepts', -2.559804537626661)\n",
      "item ('educated', -3.870467633387735)\n",
      "item ('everyday', 28.90557138854151)\n",
      "item ('family', 6.957529864722876)\n",
      "item ('following', 2.037754694971042)\n",
      "item ('frustration', -0.7548655707912513)\n",
      "item ('in', -7.903124923149699)\n",
      "item ('inside', 5.1373817743622885)\n",
      "item ('instead', -11.655308095031058)\n",
      "item ('is', -2.7961310592106834)\n",
      "item ('it', 5.880847289618903)\n",
      "item ('jai', 2.2894965515437113)\n",
      "item ('keep', -8.208086617129213)\n",
      "item ('life', 14.712261754578055)\n",
      "item ('more', 3.104442223650658)\n",
      "item ('of', -2.8945109216945366)\n",
      "item ('or', -9.32352081757157)\n",
      "item ('part', -7.421705805710776)\n",
      "item ('patience', 7.709316634744154)\n",
      "item ('people', 16.03159854592678)\n",
      "item ('problem', 0.6939329054849641)\n",
      "item ('school', 1.5384922978378432)\n",
      "item ('show', -5.215731616776991)\n",
      "item ('showing', 0.20752479924113096)\n",
      "item ('situation', -1.9630938951242278)\n",
      "item ('temper', -14.066614316250636)\n",
      "item ('thai', 4.637271784275818)\n",
      "item ('the', 2.390710958562653)\n",
      "item ('their', 5.780234294337045)\n",
      "item ('to', -7.598170391400078)\n",
      "item ('toward', -1.0425944081827414)\n",
      "item ('way', 3.107329190751986)\n",
      "item ('whatever', -0.8920442764685911)\n",
      "item ('yen', 2.8071690392919506)\n",
      "item ('your', -2.23833922429875)\n",
      "term_weight_list : [(33, 28.90557138854151), (15, 16.03159854592678), (26, 14.712261754578055), (9, 10.023819054010604), (22, 7.709316634744154), (44, 6.957529864722876), (27, 5.880847289618903), (0, 5.780234294337045), (19, 5.1373817743622885), (2, 4.637271784275818), (17, 4.147021333111047), (11, 3.107329190751986), (24, 3.104442223650658), (12, 2.8071690392919506), (5, 2.390710958562653), (7, 2.2894965515437113), (16, 2.037754694971042), (41, 1.5384922978378432), (14, 0.6939329054849641), (35, 0.20752479924113096), (6, -0.7548655707912513), (39, -0.8920442764685911), (18, -0.9164566702224319), (46, -1.0425944081827414), (3, -1.9630938951242278), (47, -2.23833922429875), (37, -2.559804537626661), (30, -2.7961310592106834), (28, -2.8945109216945366), (32, -3.870467633387735), (45, -5.215731616776991), (20, -7.420723288024247), (42, -7.421705805710776), (13, -7.598170391400078), (36, -7.903124923149699), (29, -8.208086617129213), (10, -9.32352081757157), (21, -11.655308095031058), (38, -14.066614316250636)]\n"
     ]
    },
    {
     "name": "stderr",
     "output_type": "stream",
     "text": [
      "\n"
     ]
    }
   ],
   "source": [
    "explanation_vectors, ranked_lists = explainer.explain(input_q, input_d, \"topk-bin\", params)\n"
   ]
  },
  {
   "cell_type": "markdown",
   "metadata": {},
   "source": [
    "### Visualize the explanations"
   ]
  },
  {
   "cell_type": "code",
   "execution_count": 17,
   "metadata": {},
   "outputs": [
    {
     "data": {
      "image/png": "[encoded data removed]",
      "text/plain": [
       "<Figure size 800x1000 with 1 Axes>"
      ]
     },
     "metadata": {},
     "output_type": "display_data"
    }
   ],
   "source": [
    "termVisualization = TermVisualization()\n",
    "termVisualization.visualize(explanation_vectors[0][\"term_vector\"], show_top=5)"
   ]
  },
  {
   "cell_type": "markdown",
   "metadata": {},
   "source": [
    "### Evaluate the explanations"
   ]
  },
  {
   "cell_type": "code",
   "execution_count": 18,
   "metadata": {},
   "outputs": [
    {
     "name": "stdout",
     "output_type": "stream",
     "text": [
      "TrecQrel(query_id='1112341', doc_id='1369480', relevance=1, iteration='Q0')\n",
      "TrecQrel(query_id='1112341', doc_id='1373646', relevance=1, iteration='Q0')\n",
      "TrecQrel(query_id='1112341', doc_id='1373648', relevance=1, iteration='Q0')\n",
      "TrecQrel(query_id='1112341', doc_id='1707321', relevance=1, iteration='Q0')\n",
      "TrecQrel(query_id='1112341', doc_id='2173822', relevance=1, iteration='Q0')\n",
      "TrecQrel(query_id='1112341', doc_id='2468293', relevance=1, iteration='Q0')\n",
      "TrecQrel(query_id='1112341', doc_id='2468300', relevance=1, iteration='Q0')\n",
      "TrecQrel(query_id='1112341', doc_id='2596431', relevance=1, iteration='Q0')\n",
      "TrecQrel(query_id='1112341', doc_id='263958', relevance=1, iteration='Q0')\n",
      "TrecQrel(query_id='1112341', doc_id='2694630', relevance=1, iteration='Q0')\n",
      "TrecQrel(query_id='1112341', doc_id='2735215', relevance=1, iteration='Q0')\n",
      "TrecQrel(query_id='1112341', doc_id='3408235', relevance=1, iteration='Q0')\n",
      "TrecQrel(query_id='1112341', doc_id='3490001', relevance=1, iteration='Q0')\n",
      "TrecQrel(query_id='1112341', doc_id='3795887', relevance=1, iteration='Q0')\n",
      "TrecQrel(query_id='1112341', doc_id='4595999', relevance=1, iteration='Q0')\n",
      "TrecQrel(query_id='1112341', doc_id='4704992', relevance=1, iteration='Q0')\n",
      "TrecQrel(query_id='1112341', doc_id='6947370', relevance=1, iteration='Q0')\n",
      "TrecQrel(query_id='1112341', doc_id='7615749', relevance=1, iteration='Q0')\n",
      "TrecQrel(query_id='1112341', doc_id='7752460', relevance=1, iteration='Q0')\n",
      "TrecQrel(query_id='1112341', doc_id='8134796', relevance=1, iteration='Q0')\n",
      "TrecQrel(query_id='1112341', doc_id='8139251', relevance=1, iteration='Q0')\n",
      "TrecQrel(query_id='1112341', doc_id='8442178', relevance=1, iteration='Q0')\n",
      "TrecQrel(query_id='1112341', doc_id='8606160', relevance=1, iteration='Q0')\n",
      "doc_id:  1369480\n",
      "doc_id:  1373646\n",
      "doc_id:  1373648\n",
      "doc_id:  1707321\n",
      "doc_id:  2173822\n",
      "doc_id:  2468293\n",
      "doc_id:  2468300\n",
      "doc_id:  2596431\n",
      "doc_id:  263958\n",
      "doc_id:  2694630\n",
      "doc_id:  2735215\n",
      "doc_id:  3408235\n",
      "doc_id:  3490001\n",
      "doc_id:  3795887\n",
      "doc_id:  4595999\n",
      "doc_id:  4704992\n",
      "doc_id:  6947370\n",
      "doc_id:  7615749\n",
      "doc_id:  7752460\n",
      "doc_id:  8134796\n",
      "doc_id:  8139251\n",
      "doc_id:  8442178\n",
      "doc_id:  8606160\n",
      "pe, cpe :  1.2700071324203965 [[0.94305373]]\n"
     ]
    },
    {
     "data": {
      "text/plain": [
       "(1.2700071324203965, array([[0.94305373]]))"
      ]
     },
     "execution_count": 18,
     "metadata": {},
     "output_type": "execute_result"
    }
   ],
   "source": [
    "pointWiseCorrectness = PointWiseCorrectness(explainer)\n",
    "pointWiseCorrectness.evaluate(query_id = '1112341', doc_id = '8139258', explanation_vector = explanation_vectors[0][\"term_vector\"])\n"
   ]
  },
  {
   "cell_type": "code",
   "execution_count": 21,
   "metadata": {},
   "outputs": [],
   "source": [
    "# pointWiseConsistency = PointWiseConsistency(explainer)\n",
    "# Please note that for EXS pointwise consistency does not make sense, as we are not generating any explanations \n",
    "# for similar ranges, in LIRME \"kernel_range\" : [5,10] -> we are generating explanation vectors for these two \n",
    "# kernel_ranges \n",
    "# pointWiseConsistency.evaluate(query_id = '1112341', doc_id = '8139258', explanation_vector = ranked_lists)\n"
   ]
  },
  {
   "cell_type": "markdown",
   "metadata": {},
   "source": [
    "## Pairwise Component\n"
   ]
  },
  {
   "cell_type": "code",
   "execution_count": 22,
   "metadata": {},
   "outputs": [],
   "source": [
    "from ir_explain.explainers import PairwiseAxiomaticExplainer\n",
    "index_path = \"\""
   ]
  },
  {
   "cell_type": "markdown",
   "metadata": {},
   "source": [
    "### Query and a pair of documents\n",
    "TODO: Create a retrieve and re-rank pipeline"
   ]
  },
  {
   "cell_type": "code",
   "execution_count": 23,
   "metadata": {},
   "outputs": [],
   "source": [
    "query_text = \"Exons Definition Biology\"\n",
    "doc1 = \"Herbivory: Definition & Examples 4:44 Next Lesson. Allometric Growth: Definition & Example; Isometric Growth: Definition & Example; Go to AP Biology - Animal Behavior: Help and Review\"\n",
    "doc2 = \"Chitin (biology) Definition, meaning online encyclopedia mimi. (2) a polysaccharide which makes up the cell walls of fungi and exoskeleton of insects a tough, semitransparent substance that is the main component of the exoskeletons of art\"\n"
   ]
  },
  {
   "cell_type": "markdown",
   "metadata": {},
   "source": [
    "Create an instance of the pairwise class\n"
   ]
  },
  {
   "cell_type": "code",
   "execution_count": 24,
   "metadata": {},
   "outputs": [],
   "source": [
    "pairwise_instance = PairwiseAxiomaticExplainer(query_text, doc1, doc2, index_path)\n",
    "axiom_classes = [pairwise_instance.TFC1(), pairwise_instance.LB1(), pairwise_instance.AND(), pairwise_instance.DIV(), pairwise_instance.PROX1()]\n"
   ]
  },
  {
   "cell_type": "code",
   "execution_count": 25,
   "metadata": {},
   "outputs": [],
   "source": [
    "explanation = pairwise_instance.explain(axiom_classes)"
   ]
  },
  {
   "cell_type": "markdown",
   "metadata": {},
   "source": [
    "Different arithmatic operations of the selected Axioms\n"
   ]
  },
  {
   "cell_type": "code",
   "execution_count": 26,
   "metadata": {},
   "outputs": [
    {
     "name": "stdout",
     "output_type": "stream",
     "text": [
      "                      Query                    Document 1  \\\n",
      "0  Exons Definition Biology  Herbivory: Definition & E...   \n",
      "\n",
      "                     Document 2  CombinedAxiom  ScaledAxiom  \n",
      "0  Chitin (biology) Definiti...              0            1  \n"
     ]
    }
   ],
   "source": [
    "axiom_classes = [4*pairwise_instance.LNC1() + 3*pairwise_instance.TFC1(), (-1)*pairwise_instance.DIV(), pairwise_instance.PROX1() + pairwise_instance.PROX2() + pairwise_instance.PROX3() ]\n",
    "explanation = pairwise_instance.explain(axiom_classes)\n",
    "\n",
    "print(explanation)"
   ]
  },
  {
   "cell_type": "markdown",
   "metadata": {},
   "source": [
    "### Explain details component\n",
    "Provide fine grained explanation for the selected axioms"
   ]
  },
  {
   "cell_type": "code",
   "execution_count": 27,
   "metadata": {},
   "outputs": [
    {
     "name": "stdout",
     "output_type": "stream",
     "text": [
      "                          Metric  Document 1  Document 2\n",
      "0                      tf(Exons)    0.000000         0.0\n",
      "1                 tf(Definition)    3.000000         0.0\n",
      "2                    tf(Biology)    1.000000         0.0\n",
      "3    avg_dist(Exons, Definition)    6.500000         0.0\n",
      "4       avg_dist(Exons, Biology)    0.000000         0.0\n",
      "5  avg_dist(Definition, Biology)    6.500000         0.0\n",
      "6                      num pairs    3.000000         3.0\n",
      "7                 Total_avg_dist    4.333333         0.0\n"
     ]
    }
   ],
   "source": [
    "axiom_name = \"PROX1\"\n",
    "explanation = pairwise_instance.explain_details(axiom_name)\n",
    "print(explanation)"
   ]
  },
  {
   "cell_type": "markdown",
   "metadata": {},
   "source": [
    "## Listwise Component\n",
    "Let us start this component by importing various modules"
   ]
  },
  {
   "cell_type": "code",
   "execution_count": 28,
   "metadata": {},
   "outputs": [],
   "source": [
    "import json\n",
    "\n",
    "import numpy as np\n",
    "import torch\n",
    "from ir_explain.explainers import (BFSListwiseExplainer,\n",
    "                                   GreedyListwiseExplainer,\n",
    "                                   IntentListwiseExplainer,\n",
    "                                   MultiplexListwiseExplainer)\n",
    "from ir_explain.utils.utility import load_from_res\n",
    "from pyserini.analysis import Analyzer, get_lucene_analyzer\n",
    "from pyserini.search.lucene import LuceneSearcher\n",
    "from sentence_transformers import CrossEncoder"
   ]
  },
  {
   "cell_type": "markdown",
   "metadata": {},
   "source": [
    "### Query string and query id \n",
    "One can fetch query and query id from ir_datasets (https://ir-datasets.com/) \n"
   ]
  },
  {
   "cell_type": "code",
   "execution_count": 29,
   "metadata": {},
   "outputs": [],
   "source": [
    "query_str = \"what is the daily life of thai people\"\n",
    "query_id = '1112341'\n"
   ]
  },
  {
   "cell_type": "code",
   "execution_count": 31,
   "metadata": {},
   "outputs": [],
   "source": [
    "# provide res file path of the blackbox ranker\n",
    "project_path = \"/disk_a/junk/explain/ir_explain/\"\n",
    "res_file_path = project_path + \"examples/runs/NRMs/ANCE.2019.res\"\n",
    "\n",
    "# MSMARCO index path: \n",
    "# one can download a pre-built index from pyserini\n",
    "index_path = \"/disk_a/junk/msmarco-v1-passage-full\"\n",
    "\n",
    "# load dense ranking result and scores\n",
    "dense_ranking, dense_scores = load_from_res(res_file_path)\n",
    "\n",
    "dense_ranking_list = dense_ranking['1112341']\n",
    "dense_score_list = dense_scores['1112341']"
   ]
  },
  {
   "cell_type": "markdown",
   "metadata": {},
   "source": [
    "Initialize the parameters of BFS\n"
   ]
  },
  {
   "cell_type": "code",
   "execution_count": 32,
   "metadata": {},
   "outputs": [],
   "source": [
    "params = {\n",
    "    \"QUEUE_MAX_DEPTH\" : 1000,\n",
    "    \"BFS_MAX_EXPLORATION\" : 30,\n",
    "    \"BFS_VOCAB_TERMS\" : 30,\n",
    "    \"BFS_MAX_DEPTH\" : 10,\n",
    "    \"BFS_TOP_DOCS\" : 10,\n",
    "    \"CORRELATION_MEASURE\" : \"RBO\",\n",
    "    }\n",
    "exp_model = \"bm25\"\n",
    "indexer_type = \"pyserini\"\n"
   ]
  },
  {
   "cell_type": "markdown",
   "metadata": {},
   "source": [
    "Initialize the BFSListwiseExplainer class. It accepts four arguments, 1) index path, 2) which indexer you are using, `pyserini`, `no-index`, 3) Simple ranking model, `bm25`, and 4) parameter dictionary"
   ]
  },
  {
   "cell_type": "code",
   "execution_count": 33,
   "metadata": {},
   "outputs": [],
   "source": [
    "# # initialize the BFS class\n",
    "bfs = BFSListwiseExplainer(index_path, indexer_type, exp_model, params)"
   ]
  },
  {
   "cell_type": "code",
   "execution_count": 34,
   "metadata": {},
   "outputs": [],
   "source": [
    "# # initialize LuceneSearcher, we use LuceneSearcher from pyserini\n",
    "searcher = LuceneSearcher(index_path)\n",
    "searcher.set_bm25(1.2, 0.75)     # set BM25 parameter\n",
    "searcher.set_analyzer(get_lucene_analyzer(stemmer='porter'))\n",
    "\n",
    "# retrieve with BM25 \n",
    "bm25_hits = searcher.search(query_str)\n",
    "\n",
    "# set parameters for RM3\n",
    "searcher.set_rm3(1000, 10, 0.9)\n",
    "\n",
    "# generate the feedback terms \n",
    "term_weight_list = searcher.get_feedback_terms(query_str)\n",
    "\n",
    "# sort the feedback terms\n",
    "term_weight_list = dict(sorted(term_weight_list.items(), key=lambda item: item[1], reverse = True))\n"
   ]
  },
  {
   "cell_type": "code",
   "execution_count": 35,
   "metadata": {},
   "outputs": [
    {
     "name": "stdout",
     "output_type": "stream",
     "text": [
      "(0.08670945845571429, 'thai everydai isan languag life')\n"
     ]
    }
   ],
   "source": [
    "# # call BFS explainer module\n",
    "print(bfs.explain(query_id, query_str, term_weight_list, searcher, dense_ranking, debug = False))\n"
   ]
  },
  {
   "cell_type": "markdown",
   "metadata": {},
   "source": [
    "### Greedy component"
   ]
  },
  {
   "cell_type": "code",
   "execution_count": 36,
   "metadata": {},
   "outputs": [],
   "source": [
    "# # initialize the parameters of Greedy\n",
    "params = {\n",
    "    \"GREEDY_VOCAB_TERMS\" : 100,\n",
    "    \"GREEDY_TOP_DOCS_NUM\" : 10,\n",
    "    \"GREEDY_MAX_DEPTH\" : 10,\n",
    "    \"BFS_TOP_DOCS\" : 10,\n",
    "    \"CORRELATION_MEASURE\" : \"RBO\"\n",
    "    }\n",
    "\n",
    "exp_model = \"bm25\""
   ]
  },
  {
   "cell_type": "markdown",
   "metadata": {},
   "source": [
    "Initialize the GreedyListwiseExplainer class. It accepts four arguments, 1) index path, 2) which indexer you are using, `pyserini`, `no-index`, 3) Simple ranking model, `bm25`, and 4) parameter dictionary"
   ]
  },
  {
   "cell_type": "code",
   "execution_count": 37,
   "metadata": {},
   "outputs": [],
   "source": [
    "# # initialize the Greedy class\n",
    "greedy = GreedyListwiseExplainer(index_path, indexer_type, exp_model, params)"
   ]
  },
  {
   "cell_type": "code",
   "execution_count": 38,
   "metadata": {},
   "outputs": [],
   "source": [
    "# we use LuceneSearcher from pyserini\n",
    "searcher = LuceneSearcher(index_path)\n",
    "searcher.set_bm25(1.2, 0.75)     # set BM25 parameter\n",
    "searcher.set_analyzer(get_lucene_analyzer(stemmer='porter'))\n",
    "\n",
    "# retrieve with BM25 \n",
    "bm25_hits = searcher.search(query_str)\n",
    "\n",
    "# set parameters for RM3\n",
    "searcher.set_rm3(1000, 10, 0.9)   # set parameter for rm3\n",
    "\n",
    "# generate the feedback terms\n",
    "term_weight_list = searcher.get_feedback_terms(query_str)\n",
    "\n",
    "# sort the feedback terms\n",
    "term_weight_list = dict(sorted(term_weight_list.items(), key=lambda item: item[1], reverse = True))"
   ]
  },
  {
   "cell_type": "code",
   "execution_count": 39,
   "metadata": {},
   "outputs": [
    {
     "name": "stdout",
     "output_type": "stream",
     "text": [
      "(0.02329305903, ' vast isan thai life everydai jai yen situat sanuk import')\n"
     ]
    }
   ],
   "source": [
    "# call Greedy explainer module\n",
    "print(greedy.explain(query_id, query_str, term_weight_list, searcher, dense_ranking, debug = False))\n"
   ]
  },
  {
   "cell_type": "markdown",
   "metadata": {},
   "source": [
    "### IntentEXS Component"
   ]
  },
  {
   "cell_type": "code",
   "execution_count": 40,
   "metadata": {},
   "outputs": [],
   "source": [
    "searcher = LuceneSearcher(index_path)\n",
    "# for the top k documents fetch their contents\n",
    "docs = dict([(hit, json.loads(searcher.doc(hit).raw())['contents']) for hit in dense_ranking_list[:20]])\n",
    "\n",
    "# Load a reranking model\n",
    "model_name = \"cross-encoder/ms-marco-electra-base\"\n",
    "device = torch.device('cuda' if torch.cuda.is_available() else 'cpu')\n"
   ]
  },
  {
   "cell_type": "code",
   "execution_count": 41,
   "metadata": {},
   "outputs": [],
   "source": [
    "# model = load_your_model()\n",
    "reranker = CrossEncoder(model_name, max_length = 512, device = device)\n"
   ]
  },
  {
   "cell_type": "code",
   "execution_count": null,
   "metadata": {},
   "outputs": [],
   "source": [
    "corpus = {'query': query_str,\n",
    "        'scores': dict([(doc_id, score) for doc_id, score in zip(dense_ranking_list[:20], dense_score_list[:20])]),\n",
    "        'docs': docs\n",
    "    }\n",
    "\n",
    "# set parameters for IntentEXS\n",
    "params = {'top_idf': 200, 'topk': 20, 'max_pair': 100, 'max_intent': 20, 'style': 'random'}"
   ]
  },
  {
   "cell_type": "markdown",
   "metadata": {},
   "source": [
    "Initialize the IntentListwiseExplainer class. It accepts four arguments, 1) complex reranking model, 2) index path, 3) which indexer you are using, `pyserini`, `no-index`, and 4) Simple ranking model, `bm25`, `lmjm`, `lmdir`, `saliency`, `semantic`."
   ]
  },
  {
   "cell_type": "code",
   "execution_count": 44,
   "metadata": {},
   "outputs": [
    {
     "name": "stdout",
     "output_type": "stream",
     "text": [
      "docid: 8606160\n",
      "docid: 6726340\n",
      "docid: 6726344\n",
      "docid: 4416075\n",
      "docid: 4936256\n",
      "docid: 8606161\n",
      "docid: 6342847\n",
      "docid: 8139257\n",
      "docid: 8139255\n",
      "docid: 550571\n",
      "docid: 7687411\n",
      "docid: 5043407\n",
      "docid: 7079776\n",
      "docid: 6681385\n",
      "docid: 8139256\n",
      "docid: 90432\n",
      "docid: 4936258\n",
      "docid: 8139258\n",
      "docid: 2173822\n",
      "docid: 3795887\n"
     ]
    }
   ],
   "source": [
    "# Init the IntentEXS object.\n",
    "Intent = IntentListwiseExplainer(reranker, index_path, indexer_type, 'bm25')\n",
    "\n",
    "# call explain method of IntentEXS\n",
    "expansion = Intent.explain(corpus, params)"
   ]
  },
  {
   "cell_type": "code",
   "execution_count": 46,
   "metadata": {},
   "outputs": [
    {
     "name": "stdout",
     "output_type": "stream",
     "text": [
      "Explanation terms are:  ['thai', 'time', 'monk', 'dita', 'awai', 'fo', 'chai', 'it', 'us', \"i'm\"]\n"
     ]
    }
   ],
   "source": [
    "print(f\"Explanation terms are: \", expansion)"
   ]
  },
  {
   "cell_type": "markdown",
   "metadata": {},
   "source": [
    "### Multiplex Component\n",
    "Set parameters for Multiplex"
   ]
  },
  {
   "cell_type": "code",
   "execution_count": null,
   "metadata": {},
   "outputs": [],
   "source": [
    "params = {\n",
    "    \"dataset\" : \"clueweb09\",\n",
    "    \"top_d\" : 10,\n",
    "    \"top_tfidf\" : 100,\n",
    "    \"top_r\" : 50,\n",
    "    \"candi_method\" : \"bm25\",\n",
    "    \"ranked\" : 5,\n",
    "    \"pair_num\" : 20,\n",
    "    \"max_k\" : 10,\n",
    "    \"min_k\" : 4,\n",
    "    \"candidates_num\" : 20,\n",
    "    \"style\" : \"random\",\n",
    "    \"vote\" : 1,\n",
    "    \"tolerance\" : .005,\n",
    "    \"EXP_model\" : \"language_model\",\n",
    "    \"optimize_method\" : \"geno\",\n",
    "    \"mode\" : \"candidates\"\n",
    "    }\n",
    "# pass the topk file\n",
    "params [\"top_file\"] = \"/a/administrator/codebase/neural-ir/RankingExplanation_bkp/Datasets/src/clueweb09/top.tsv\"\n",
    "# pass the query file\n",
    "# Notice here we are passing Clueweb09b query files\n",
    "params [\"queries_file\"] = \"/a/administrator/codebase/neural-ir/RankingExplanation_bkp/Datasets/src/clueweb09/queries.tsv\"\n"
   ]
  },
  {
   "cell_type": "code",
   "execution_count": 48,
   "metadata": {},
   "outputs": [],
   "source": [
    "# one can fetch query and query id from ir_datasets (https://ir-datasets.com/)\n",
    "query_str = 'lps laws definition'\n",
    "qid = '443396'\n",
    "\n",
    "project_path = \"/disk_a/junk/explain/ir_explain/\"\n",
    "\n",
    "# provide res file path of the blackbox ranker\n",
    "res_file_path = project_path + \"examples/runs/NRMs/ANCE.2019.res\"\n",
    "\n",
    "# MSMARCO index path:\n",
    "# one can download it from pyserini\n",
    "index_path = \"/disk_a/junk/msmarco-v1-passage-full\"\n",
    "\n",
    "# load dense ranking result and scores\n",
    "dense_ranking, dense_scores = load_from_res(res_file_path)\n",
    "\n",
    "dense_ranking_list = dense_ranking['443396']\n",
    "dense_score_list = dense_scores['443396']\n",
    "\n",
    "params[\"dense_ranking\"] = dense_ranking_list\n",
    "params[\"dense_ranking_score\"] = dense_score_list\n"
   ]
  },
  {
   "cell_type": "markdown",
   "metadata": {},
   "source": [
    "Initialize the MultiplexListwiseExplainer class. It accepts two arguments, 1) index path, 2) which indexer you are using, `pyserini`, `no-index`."
   ]
  },
  {
   "cell_type": "code",
   "execution_count": 49,
   "metadata": {},
   "outputs": [],
   "source": [
    "# initialize the Multiplex class\n",
    "multi = MultiplexListwiseExplainer(index_path, indexer_type)\n",
    "params[\"EXP_model\"] = \"multi\"\n",
    "params[\"optimize_method\"] = \"geno_multi\""
   ]
  },
  {
   "cell_type": "markdown",
   "metadata": {},
   "source": [
    "Call the explainer module with the query id, query string and a list of parameters "
   ]
  },
  {
   "cell_type": "code",
   "execution_count": 50,
   "metadata": {},
   "outputs": [
    {
     "name": "stdout",
     "output_type": "stream",
     "text": [
      "Initiating indexes...\n",
      "index path :  /disk_a/junk/msmarco-v1-passage-full\n",
      "refine_method:  <bound method Explain.refine_candidates_by_bm25 of <ir_explain.explainers.listwise.multiplex_base.Explain object at 0x7525c70f2d30>>\n"
     ]
    },
    {
     "name": "stderr",
     "output_type": "stream",
     "text": [
      "Perturb each doc...: 0it [00:00, ?it/s]"
     ]
    },
    {
     "name": "stdout",
     "output_type": "stream",
     "text": [
      "doc_id :  8536118\n",
      "topk :  100\n",
      "replaced_tokens :  ['lp', 'lanterman', 'petri', 'act', 'grave', 'shelter', 'provid', 'unabl', 'sponsor', 'legisl', 'judg', 'themselv', 'cloth', 'disabl', 'thu', 'california', 'short', 'protect', 'law', 'treatment', 'food', 'person', 'name']\n"
     ]
    },
    {
     "name": "stderr",
     "output_type": "stream",
     "text": [
      "Perturb each doc...: 1it [00:00,  5.51it/s]"
     ]
    },
    {
     "name": "stdout",
     "output_type": "stream",
     "text": [
      "term_score:   [('lanterman', 7.957176208496094), ('lp', 5.785079002380371), ('petri', 5.452098846435547), ('grave', 4.17691707611084), ('shelter', 3.91019344329834), ('unabl', 3.5600638389587402), ('sponsor', 3.535909652709961), ('legisl', 3.449584484100342), ('judg', 3.370941162109375), ('themselv', 3.171919822692871), ('cloth', 3.0950498580932617), ('disabl', 3.0724010467529297), ('act', 3.030970573425293), ('thu', 2.923902750015259), ('california', 2.6756181716918945), ('short', 2.4847943782806396), ('protect', 2.434162139892578), ('law', 2.3346714973449707), ('treatment', 2.324326276779175), ('provid', 2.2820849418640137), ('food', 2.02036452293396), ('person', 1.8981037139892578), ('name', 1.7549288272857666)]\n",
      "doc_id :  4526747\n",
      "topk :  100\n"
     ]
    },
    {
     "name": "stderr",
     "output_type": "stream",
     "text": [
      "Perturb each doc...: 2it [00:00,  6.30it/s]"
     ]
    },
    {
     "name": "stdout",
     "output_type": "stream",
     "text": [
      "replaced_tokens :  ['lp', 'lightn', 'personnel', 'system', 'discharg', 'conduct', 'equip', 'electr', 'earth', 'damag', 'pass', 'enter', 'structur', 'leav', 'non', 'protect', 'light', 'build', 'without', 'provid', 'mean', 'mai']\n",
      "term_score:   [('lp', 4.545366287231445), ('lightn', 4.153478622436523), ('personnel', 3.735363006591797), ('discharg', 3.5076370239257812), ('conduct', 3.021529197692871), ('equip', 2.93345308303833), ('electr', 2.695322036743164), ('earth', 2.675153970718384), ('damag', 2.576019763946533), ('pass', 2.5306732654571533), ('enter', 2.50913667678833), ('structur', 2.5076589584350586), ('leav', 2.457265853881836), ('non', 2.451356887817383), ('protect', 2.446615695953369), ('light', 2.4170005321502686), ('build', 2.3896450996398926), ('system', 2.346200704574585), ('without', 2.2416763305664062), ('provid', 1.793045997619629), ('mean', 1.7671213150024414), ('mai', 1.401613712310791)]\n",
      "doc_id :  7894178\n",
      "topk :  100\n",
      "replaced_tokens :  ['lop', 'contract', 'provid', 'care', 'sue', 'health', 'proce', 'settlement', 'honor', 'fail', 'agreement', 'letter', 'protect', 'sign', 'pai', 'right', 'state', 'ha']\n"
     ]
    },
    {
     "name": "stderr",
     "output_type": "stream",
     "text": [
      "Perturb each doc...: 4it [00:00,  7.36it/s]"
     ]
    },
    {
     "name": "stdout",
     "output_type": "stream",
     "text": [
      "term_score:   [('lop', 7.204584121704102), ('sue', 4.292145729064941), ('proce', 3.7539901733398438), ('settlement', 3.5661253929138184), ('contract', 3.4446706771850586), ('honor', 3.2910356521606445), ('fail', 3.1285905838012695), ('agreement', 3.096040725708008), ('care', 2.8482260704040527), ('letter', 2.800321102142334), ('health', 2.667990207672119), ('provid', 2.4865589141845703), ('protect', 2.3737473487854004), ('sign', 2.2638068199157715), ('pai', 2.1178712844848633), ('right', 1.926067590713501), ('state', 1.4961869716644287), ('ha', 1.2357327938079834)]\n",
      "doc_id :  3323246\n",
      "topk :  100\n",
      "replaced_tokens :  ['logger', 'lp', 'malwar', 'linux', 'lightweight', 'credenti', 'portabl', 'cd', 'era', 'expos', 'ill', 'goal', 'internet', 'privat', 'kei', 'user', 'risk', 'secur', 'comput', 'data', 'without', 'allow', 'live', 'base', 'work']\n",
      "term_score:   [('logger', 5.621511459350586), ('lp', 4.5222296714782715), ('malwar', 4.521644592285156), ('linux', 4.196924209594727), ('lightweight', 4.172496318817139), ('credenti', 4.072902202606201), ('portabl', 3.8617820739746094), ('cd', 3.69993257522583), ('era', 3.499606132507324), ('ill', 2.9857919216156006), ('goal', 2.9265382289886475), ('internet', 2.8781630992889404), ('privat', 2.8690147399902344), ('kei', 2.6107842922210693), ('user', 2.5821022987365723), ('risk', 2.510176181793213), ('secur', 2.4870223999023438), ('comput', 2.4625601768493652), ('data', 2.2642815113067627), ('without', 2.2302656173706055), ('allow', 2.162766456604004), ('live', 2.0061254501342773), ('base', 1.897092342376709), ('work', 1.689316749572754), ('expos', 0.0)]\n",
      "doc_id :  456708\n",
      "topk :  100\n",
      "replaced_tokens :  ['lp', 'claus', '2.5', 'succinct', 'section', 'interestingli', 'standard', 'definit', '1.2', 'requir', 'crack', 'iâ', 'write', 'defin', 'cover', 'take']\n"
     ]
    },
    {
     "name": "stderr",
     "output_type": "stream",
     "text": [
      "Perturb each doc...: 6it [00:00,  8.41it/s]"
     ]
    },
    {
     "name": "stdout",
     "output_type": "stream",
     "text": [
      "term_score:   [('lp', 6.711219787597656), ('succinct', 5.684826374053955), ('interestingli', 4.653103828430176), ('2.5', 4.498225212097168), ('1.2', 3.9302849769592285), ('crack', 3.5106029510498047), ('section', 3.286587715148926), ('iâ', 3.200550079345703), ('standard', 2.9541075229644775), ('definit', 2.6879255771636963), ('write', 2.634347438812256), ('defin', 2.4874353408813477), ('requir', 2.449493885040283), ('cover', 2.2640695571899414), ('take', 1.6933062076568604), ('claus', 0.0)]\n",
      "doc_id :  2373504\n",
      "topk :  100\n",
      "replaced_tokens :  ['lawyer', 'lpp', 'advic', 'client', 'prudenti', 'legal', 'profession', 'nowadai', 'disclos', 'privileg', 'refus', 'entitl', 'suprem', 'appeal', 'absolut', 'heard', 'seek', 'qualifi', 'rais', 'parti', 'court', 'document', 'third', 'rule', 'question', 'answer', 'case', 'give', 'howev', 'mani', 'ha']\n",
      "term_score:   [('lpp', 6.534953594207764), ('prudenti', 5.224984169006348), ('lawyer', 4.426226615905762), ('nowadai', 4.187894821166992), ('advic', 4.072455406188965), ('client', 3.787353515625), ('privileg', 3.75118350982666), ('entitl', 3.386765480041504), ('suprem', 3.3512344360351562), ('legal', 3.3063840866088867), ('appeal', 3.302401542663574), ('absolut', 3.1540870666503906), ('heard', 3.0831875801086426), ('seek', 2.9648914337158203), ('qualifi', 2.7986927032470703), ('parti', 2.566915988922119), ('court', 2.519835948944092), ('document', 2.453307628631592), ('third', 2.4489758014678955), ('rule', 2.396667242050171), ('question', 2.2263801097869873), ('answer', 2.03450345993042), ('case', 2.00637149810791), ('give', 1.98765230178833), ('howev', 1.9072411060333252), ('mani', 1.547191858291626), ('ha', 1.182887315750122), ('profession', 0.0), ('disclos', 0.0), ('refus', 0.0), ('rais', 0.0)]\n",
      "doc_id :  6881583\n",
      "topk :  100\n",
      "replaced_tokens :  ['lgp', 'schemeâ', 'statutori', 'parliament', 'voluntari', 'scheme', 'sector', 'contractor', 'polic', 'staff', 'agenc', 'privat', 'environ', 'regul', 'primari', 'pass', 'educ', 'higher', 'govern', 'benefit', 'public', 'member', 'local', 'term', 'set', 'servic', 'ha']\n"
     ]
    },
    {
     "name": "stderr",
     "output_type": "stream",
     "text": [
      "Perturb each doc...: 7it [00:00,  7.77it/s]"
     ]
    },
    {
     "name": "stdout",
     "output_type": "stream",
     "text": [
      "term_score:   [('lgp', 6.622589588165283), ('schemeâ', 6.466721057891846), ('statutori', 4.153966903686523), ('parliament', 3.9906930923461914), ('voluntari', 3.9028282165527344), ('scheme', 3.7412710189819336), ('sector', 3.500711441040039), ('contractor', 3.347379684448242), ('polic', 3.1376380920410156), ('staff', 2.9739608764648438), ('agenc', 2.8167505264282227), ('privat', 2.7839879989624023), ('environ', 2.742035388946533), ('regul', 2.7370717525482178), ('primari', 2.6339805126190186), ('pass', 2.443173885345459), ('educ', 2.4323508739471436), ('higher', 2.377556800842285), ('govern', 2.3487348556518555), ('benefit', 2.320084571838379), ('public', 2.3139848709106445), ('member', 2.299055576324463), ('local', 2.279329299926758), ('term', 1.9381227493286133), ('set', 1.9202170372009277), ('servic', 1.829930305480957), ('ha', 1.2296290397644043)]\n",
      "doc_id :  7754378\n",
      "topk :  100\n",
      "replaced_tokens :  ['sol', 'sexua', 'statut', 'limit', 'lawsuit', 'occurr', 'injur', 'victim', 'circumst', 'unless', 'civil', 'injuri', 'initi', 'child', 'special', 'date', 'begin', 'run', 'case', 'person', 'caus', 'state', 'time']\n"
     ]
    },
    {
     "name": "stderr",
     "output_type": "stream",
     "text": [
      "Perturb each doc...: 9it [00:01,  7.31it/s]"
     ]
    },
    {
     "name": "stdout",
     "output_type": "stream",
     "text": [
      "term_score:   [('sexua', 7.837491989135742), ('sol', 6.202329635620117), ('statut', 4.702395915985107), ('lawsuit', 3.978632926940918), ('occurr', 3.789947032928467), ('injur', 3.590909957885742), ('victim', 3.5903425216674805), ('circumst', 3.4958930015563965), ('limit', 3.033017635345459), ('unless', 2.996958017349243), ('civil', 2.9270808696746826), ('injuri', 2.7609899044036865), ('initi', 2.6899380683898926), ('child', 2.5439774990081787), ('special', 2.3953685760498047), ('date', 2.3003039360046387), ('begin', 2.2880005836486816), ('run', 2.2253291606903076), ('case', 2.1170237064361572), ('person', 1.8695545196533203), ('state', 1.5111899375915527), ('time', 1.3704638481140137), ('caus', 0.0)]\n",
      "doc_id :  5158745\n",
      "topk :  100\n",
      "replaced_tokens :  ['scheme', 'lgp', 'councillor', 'nationwid', 'valuabl', 'reward', 'work', 'particip', 'packag', 'employ', 'employe', 'govern', 'local', 'pai', 'part']\n",
      "term_score:   [('lgp', 7.077018737792969), ('councillor', 6.03324031829834), ('scheme', 5.047238349914551), ('nationwid', 3.8844070434570312), ('valuabl', 3.79392147064209), ('reward', 3.7344961166381836), ('particip', 3.199152946472168), ('packag', 3.0879263877868652), ('employe', 2.832030773162842), ('govern', 2.5099003314971924), ('local', 2.435731887817383), ('pai', 2.252016544342041), ('work', 2.211465835571289), ('part', 1.846435785293579), ('employ', 0.0)]\n",
      "doc_id :  6126509\n",
      "topk :  100\n",
      "replaced_tokens :  ['penden', 'notic', 'file', 'lawsuit', 'ownership', 'li', 'estat', 'concern', 'titl', 'written', 'claim', 'land', 'real', 'involv', 'interest', 'properti', 'either', 'law', 'record', 'offic', 'counti', 'usual', 'ha', 'us']\n"
     ]
    },
    {
     "name": "stderr",
     "output_type": "stream",
     "text": [
      "Perturb each doc...: 10it [00:01,  6.60it/s]"
     ]
    },
    {
     "name": "stdout",
     "output_type": "stream",
     "text": [
      "term_score:   [('penden', 6.344125747680664), ('lawsuit', 4.018932342529297), ('ownership', 3.6530113220214844), ('notic', 3.60044527053833), ('li', 3.30959415435791), ('estat', 2.9773240089416504), ('file', 2.9608073234558105), ('concern', 2.9198086261749268), ('titl', 2.741818428039551), ('written', 2.7303903102874756), ('claim', 2.6645991802215576), ('land', 2.552661418914795), ('real', 2.491659641265869), ('involv', 2.471470355987549), ('interest', 2.4700183868408203), ('properti', 2.413048267364502), ('either', 2.3701090812683105), ('law', 2.322847843170166), ('record', 2.2765445709228516), ('offic', 2.256345748901367), ('counti', 2.2407093048095703), ('usual', 1.916391134262085), ('ha', 1.2607660293579102), ('us', 0.9715535640716553)]\n",
      "refined_candidates :  {'lanterman': 7.957176208496094, 'sexua': 7.837491989135742, 'lop': 7.204584121704102, 'lgp': 6.849804162979126, 'lpp': 6.534953594207764, 'schemeâ': 6.466721057891846, 'penden': 6.344125747680664, 'sol': 6.202329635620117, 'councillor': 6.03324031829834, 'succinct': 5.684826374053955, 'logger': 5.621511459350586, 'petri': 5.452098846435547, 'lp': 5.390973687171936, 'prudenti': 5.224984169006348, 'statut': 4.702395915985107, 'interestingli': 4.653103828430176, 'malwar': 4.521644592285156, '2.5': 4.498225212097168, 'lawyer': 4.426226615905762, 'scheme': 4.394254684448242, 'sue': 4.292145729064941, 'linux': 4.196924209594727, 'nowadai': 4.187894821166992, 'grave': 4.17691707611084, 'lightweight': 4.172496318817139, 'statutori': 4.153966903686523, 'lightn': 4.153478622436523, 'credenti': 4.072902202606201, 'advic': 4.072455406188965, 'lawsuit': 3.9987826347351074, 'parliament': 3.9906930923461914, '1.2': 3.9302849769592285, 'shelter': 3.91019344329834, 'voluntari': 3.9028282165527344, 'nationwid': 3.8844070434570312, 'portabl': 3.8617820739746094, 'valuabl': 3.79392147064209, 'occurr': 3.789947032928467, 'client': 3.787353515625, 'proce': 3.7539901733398438, 'privileg': 3.75118350982666, 'personnel': 3.735363006591797, 'reward': 3.7344961166381836, 'cd': 3.69993257522583, 'ownership': 3.6530113220214844, 'notic': 3.60044527053833, 'injur': 3.590909957885742, 'victim': 3.5903425216674805, 'settlement': 3.5661253929138184, 'unabl': 3.5600638389587402}\n",
      "initial list:  499500\n"
     ]
    },
    {
     "name": "stderr",
     "output_type": "stream",
     "text": [
      "\n"
     ]
    },
    {
     "name": "stdout",
     "output_type": "stream",
     "text": [
      "Difference : [2.44140625e-04 2.62451172e-03 2.80761719e-03 ... 7.75146484e-01\n",
      " 2.14367676e+00 1.36853027e+00]\n",
      "final list:  20\n",
      "[(80, 130), (282, 884), (279, 608), (570, 594), (96, 906), (496, 547), (235, 504), (524, 849), (206, 226), (263, 916), (318, 760), (607, 849), (59, 811), (339, 482), (66, 243), (43, 245), (529, 989), (280, 429), (150, 519), (25, 599)]\n",
      "[(80, 130), (282, 884), (279, 608), (570, 594), (96, 906), (496, 547), (235, 504), (524, 849), (206, 226), (263, 916), (318, 760), (607, 849), (59, 811), (339, 482), (66, 243), (43, 245), (529, 989), (280, 429), (150, 519), (25, 599)]\n",
      "Sampled 20 doc pairs\n"
     ]
    },
    {
     "name": "stderr",
     "output_type": "stream",
     "text": [
      "building matrix for doc pairs...: 100%|██████████| 20/20 [00:00<00:00, 46.64it/s]\n"
     ]
    },
    {
     "name": "stdout",
     "output_type": "stream",
     "text": [
      "Sampled 20 doc pairs\n"
     ]
    },
    {
     "name": "stderr",
     "output_type": "stream",
     "text": [
      "building matrix for doc pairs...: 100%|██████████| 20/20 [00:00<00:00, 999.94it/s]\n"
     ]
    },
    {
     "name": "stdout",
     "output_type": "stream",
     "text": [
      "Sampled 20 doc pairs\n"
     ]
    },
    {
     "name": "stderr",
     "output_type": "stream",
     "text": [
      "building matrix for doc pairs...: 100%|██████████| 20/20 [00:00<00:00, 97.98it/s]\n"
     ]
    },
    {
     "name": "stdout",
     "output_type": "stream",
     "text": [
      "stacked three matrices...\n",
      "before calling geno solver, canidates_tokens : ['lanterman', 'sexua', 'lop', 'lgp', 'lpp', 'schemeâ', 'penden', 'sol', 'councillor', 'succinct', 'logger', 'petri', 'lp', 'prudenti', 'statut', 'interestingli', 'malwar', '2.5', 'lawyer', 'scheme', 'sue', 'linux', 'nowadai', 'grave', 'lightweight', 'statutori', 'lightn', 'credenti', 'advic', 'lawsuit', 'parliament', '1.2', 'shelter', 'voluntari', 'nationwid', 'portabl', 'valuabl', 'occurr', 'client', 'proce', 'privileg', 'personnel', 'reward', 'cd', 'ownership', 'notic', 'injur', 'victim', 'settlement', 'unabl']\n",
      "after assertion statements\n",
      "before transpose method\n",
      "[[0.0, 0.0, 0.0, 0.0, 0.0, 0.0, 0.0, 0.0, 0.0, 0.0, 0.0, 0.0, 0.0, 0.0, 0.0, 0.0, 0.0, 0.0, 0.0, 0.0], [0.0, 0.0, 0.0, 0.0, 0.0, 0.0, 0.0, 0.0, 0.0, 0.0, 0.0, 0.0, 0.0, 0.0, 0.0, 0.0, 0.0, 0.0, 0.0, 0.0], [0.0, 0.0, 0.0, 0.0, 0.0, 0.0, 0.0, 0.0, 0.0, 0.0, 0.0, 0.0, 0.0, 0.0, 0.0, 0.0, 0.0, 0.0, 0.0, 0.0], [0.0, 0.0, 0.0, 0.0, 0.0, 0.0, 0.0, 0.0, 0.0, 0.0, 0.0, 0.0, 0.0, 0.0, 0.0, 0.0, 0.0, 0.0, 0.0, 0.0], [0.0, 0.0, 0.0, 0.0, 0.0, 0.0, 0.0, 0.0, 0.0, 0.0, 0.0, 0.0, 0.0, 0.0, 0.0, 0.0, 0.0, 0.0, 0.0, 0.0], [0.0, 0.0, 0.0, 0.0, 0.0, 0.0, 0.0, 0.0, 0.0, 0.0, 0.0, 0.0, 0.0, 0.0, 0.0, 0.0, 0.0, 0.0, 0.0, 0.0], [0.0, 0.0, 0.0, 0.0, 0.0, 0.0, 0.0, 0.0, 0.28540944811099933, 0.0, 0.0, 0.0, 0.42348535133054666, 0.0, 0.0, 0.0, 0.0, 0.0, 0.0, 0.0], [0.0, 0.0, 0.0, 0.0, 0.0, 0.0, 0.0, 0.0, 0.0, 0.0, 0.0, 0.0, 0.0, 0.0, 0.0, 0.0, 0.0, 0.0, 0.0, 0.0], [0.0, 0.0, 0.0, 0.0, 0.0, 0.0, 0.0, 0.0, 0.0, 0.0, 0.0, 0.0, 0.0, 0.0, 0.0, 0.0, 0.0, 0.0, 0.0, 0.0], [0.0, 0.0, 0.0, 0.0, 0.0, 0.0, 0.0, 0.0, 0.0, 0.0, 0.0, 0.0, 0.0, 0.0, 0.0, 0.0, 0.0, 0.0, 0.0, 0.0], [0.0, 0.0, 0.0, 0.0, 0.0, 0.0, 0.0, 0.0, 0.0, 0.0, 0.0, 0.0, 0.0, 0.0, 0.0, 0.0, 0.0, 0.0, 0.0, 0.0], [0.0, 0.0, 0.0, 0.0, 0.0, 0.0, 0.0, 0.0, 0.0, 0.0, 0.0, 0.0, 0.0, 0.0, 0.0, 0.0, 0.0, 0.0, 0.0, 0.0], [0.30700143783925915, 0.0, 0.0, 0.0, 0.0, 0.0, 0.0, 0.0, 0.0, 0.0, 0.0, 0.0, 0.0, 0.0, 0.0, 0.0, 0.0, 0.0, 0.0, 0.0], [0.0, 0.0, 0.0, 0.0, 0.0, 0.0, 0.0, 0.0, 0.0, 0.0, 0.0, 0.0, 0.0, 0.0, 0.0, 0.0, 0.0, 0.0, 0.0, 0.0], [0.0, 0.0, 0.0, 0.0, 0.0, 0.0, 0.0, 0.0, 0.0, 0.0, 0.0, 0.0, 0.0, 0.0, 0.0, 0.0, 0.0, 0.0, 0.0, 0.0], [0.0, 0.0, 0.0, 0.0, 0.0, 0.0, 0.0, 0.0, 0.0, 0.0, 0.0, 0.0, 0.0, 0.0, 0.0, 0.0, 0.0, 0.0, 0.0, 0.0], [0.0, 0.0, 0.0, 0.0, 0.0, 0.0, 0.0, 0.0, 0.0, 0.0, 0.0, 0.0, 0.0, 0.0, 0.0, 0.0, 0.0, 0.0, 0.0, 0.0], [0.0, 0.0, 0.0, 0.0, 0.0, 0.0, 0.0, 0.0, 0.0, 0.0, 0.0, 0.0, 0.0, 0.0, 0.0, 0.0, 0.0, 0.0, 0.0, 0.0], [0.0, 0.3894872339636221, 0.0, 0.0, 0.0, 0.0, 0.0, 0.0, 0.14270472405549967, 0.0, 0.0, 0.0, 0.0, 0.0, 0.0, 0.0, 0.0, 0.0, 0.0, 0.0], [0.0, 0.0, 0.0, 0.0, 0.0, 0.0, 0.0, 0.0, 0.0, 0.0, 0.0, 0.0, 0.0, 0.0, 0.0, 0.0, 0.0, 0.0, 0.0, 0.0], [0.0, 0.0, 0.0, 0.0, 0.0, 0.0, 0.0, 0.0, 0.0, 0.0, 0.0, 0.0, 0.0, 0.0, 0.0, 0.0, 0.0, 0.0, 0.0, 0.0], [0.0, 0.0, 0.0, 0.0, 0.0, 0.0, 0.0, 0.0, 0.0, 0.0, 0.0, 0.0, 0.0, 0.0, 0.0, 0.0, 0.0, 0.0, 0.0, 0.0], [0.0, 0.0, 0.0, 0.0, 0.0, 0.0, 0.0, 0.0, 0.0, 0.0, 0.0, 0.0, 0.0, 0.0, 0.0, 0.0, 0.0, 0.0, 0.0, 0.0], [0.0, 0.0, 0.0, 0.0, 0.0, 0.0, 0.0, 0.0, 0.0, 0.0, 0.0, 0.0, 0.0, 0.0, 0.0, 0.0, 0.0, 0.0, 0.0, 0.0], [0.0, 0.0, 0.0, 0.0, 0.0, 0.0, 0.0, 0.0, 0.0, 0.0, 0.0, 0.0, 0.0, 0.0, 0.0, 0.0, 0.0, 0.0, 0.0, 0.0], [0.0, 0.0, 0.0, 0.0, 0.0, 0.0, 0.0, 0.0, 0.0, 0.0, 0.0, 0.0, 0.0, 0.0, 0.0, 0.0, 0.0, 0.0, 0.0, 0.0], [0.0, 0.0, 0.0, 0.0, 0.0, 0.0, 0.0, 0.0, 0.0, 0.0, 0.0, 0.0, 0.0, 0.0, 0.0, 0.0, 0.0, 0.0, 0.0, 0.0], [0.0, 0.0, 0.0, 0.0, 0.0, 0.0, 0.0, 0.0, 0.0, 0.0, 0.0, 0.0, 0.0, 0.0, 0.0, 0.0, 0.0, 0.0, 0.0, 0.0], [0.0, 0.0, 0.0, 0.0, 0.0, 0.0, 0.0, 0.0, 0.0, 0.0, 0.0, 0.0, 0.0, 0.0, 0.0, 0.0, 0.0, 0.0, 0.0, 0.0], [0.0, 0.0, 0.0, 0.0, 0.0, 0.0, 0.0, 0.0, 0.28540944811099933, 0.0, 0.0, 0.0, 0.16939414053221866, 0.0, 0.0, 0.0, 0.0, 0.0, 0.0, 0.0], [0.0, 0.0, 0.0, 0.0, 0.0, 0.0, 0.0, 0.0, 0.0, 0.0, 0.0, 0.0, 0.0, 0.0, 0.0, 0.0, 0.0, 0.0, 0.0, 0.0], [0.0, 0.0, 0.0, 0.0, 0.0, 0.0, 0.0, 0.0, 0.0, 0.0, 0.0, 0.0, 0.0, 0.0, 0.0, 0.0, 0.0, 0.0, 0.0, 0.0], [0.0, 0.0, 0.0, 0.0, 0.0, 0.0, 0.0, 0.0, 0.0, 0.0, 0.0, 0.0, 0.0, 0.0, 0.0, 0.0, 0.0, 0.0, 0.0, 0.0], [0.0, 0.0, 0.0, 0.0, 0.0, 0.0, 0.0, 0.0, 0.0, 0.0, 0.0, 0.0, 0.0, 0.0, 0.0, 0.0, 0.0, 0.0, 0.0, 0.0], [0.0, 0.0, 0.0, 0.0, 0.0, 0.0, 0.0, 0.0, 0.0, 0.0, 0.0, 0.0, 0.0, 0.0, 0.0, 0.0, 0.0, 0.0, 0.0, 0.0], [0.0, 0.0, 0.0, 0.0, 0.0, 0.0, 0.0, 0.0, 0.0, 0.0, 0.0, 0.0, 0.0, 0.0, 0.0, 0.0, 0.0, 0.0, 0.0, 0.0], [0.0, 0.0, 0.0, 0.0, 0.0, 0.0, 0.0, 0.0, 0.0, 0.0, 0.0, 0.0, 0.0, 0.0, 0.0, 0.0, 0.0, 0.0, 0.0, 0.0], [0.0, 0.0, 0.0, 0.0, 0.0, 0.0, 0.0, 0.0, 0.0, 0.0, 0.0, 0.0, 0.0, 0.0, 0.0, 0.0, 0.0, 0.0, 0.0, 0.0], [0.0, 0.0, 0.0, 0.0, 0.0, 0.0, 0.0, 0.0, 0.0, 0.0, 0.0, 0.0, 0.0, 0.0, 0.0, 0.0, 0.0, 0.0, 0.0, 0.0], [0.0, 0.0, 0.0, 0.0, 0.0, 0.0, 0.0, 0.0, 0.0, 0.0, 0.0, 0.0, 0.0, 0.0, 0.0, 0.0, 0.0, 0.0, 0.0, 0.0], [0.0, 0.0, 0.0, 0.0, 0.0, 0.0, 0.0, 0.0, 0.0, 0.0, 0.0, 0.0, 0.0, 0.0, 0.0, 0.0, 0.0, 0.0, 0.0, 0.0], [0.0, 0.0, 0.0, 0.0, 0.0, 0.0, 0.0, 0.0, 0.0, 0.0, 0.0, 0.0, 0.0, 0.0, 0.0, 0.0, 0.0, 0.0, 0.0, 0.0], [0.0, 0.0, 0.0, 0.0, 0.0, 0.0, 0.0, 0.0, 0.0, 0.0, 0.0, 0.0, 0.0, 0.0, 0.0, 0.0, 0.0, 0.0, 0.0, 0.0], [0.0, 0.0, 0.0, 0.0, 0.0, 0.0, 0.0, 0.0, 0.0, 0.0, 0.0, 0.0, 0.0, 0.0, 0.0, 0.0, 0.0, 0.0, 0.0, 0.0], [0.0, 0.0, 0.0, 0.0, 0.0, 0.0, 0.0, 0.0, 0.28540944811099933, 0.0, 0.0, 0.0, 0.42348535133054666, 0.0, 0.0, 0.0, 0.0, 0.0, 0.0, 0.0], [0.0, 0.0, 0.0, 0.0, 0.0, 0.0, 0.0, 0.0, 0.0, 0.0, 0.0, 0.0, 0.0, 0.0, 0.0, 0.0, 0.0, 0.0, 0.0, 0.0], [0.0, 0.0, 0.0, 0.0, 0.0, 0.0, 0.0, 0.0, 0.0, 0.0, 0.0, 0.0, 0.0, 0.0, 0.0, 0.0, 0.0, 0.0, 0.0, 0.0], [0.0, 0.0, 0.0, 0.0, 0.0, 0.0, 0.0, 0.0, 0.0, 0.0, 0.0, 0.0, 0.0, 0.0, 0.0, 0.0, 0.0, 0.0, 0.0, 0.0], [0.0, 0.0, 0.0, 0.0, 0.0, 0.0, 0.0, 0.0, 0.0, 0.0, 0.0, 0.0, 0.0, 0.0, 0.0, 0.0, 0.0, 0.0, -0.1974513326868722, 0.0], [0.0, 0.0, 0.0, 0.0, 0.0, 0.0, 0.0, 0.0, 0.0, 0.0, 0.0, 0.0, 0.0, 0.0, 0.0, 0.0, 0.0, 0.0, 0.0, 0.0]]\n",
      "np array : [[ 0.          0.          0.          0.          0.          0.\n",
      "   0.          0.          0.          0.          0.          0.\n",
      "   0.          0.          0.          0.          0.          0.\n",
      "   0.          0.        ]\n",
      " [ 0.          0.          0.          0.          0.          0.\n",
      "   0.          0.          0.          0.          0.          0.\n",
      "   0.          0.          0.          0.          0.          0.\n",
      "   0.          0.        ]\n",
      " [ 0.          0.          0.          0.          0.          0.\n",
      "   0.          0.          0.          0.          0.          0.\n",
      "   0.          0.          0.          0.          0.          0.\n",
      "   0.          0.        ]\n",
      " [ 0.          0.          0.          0.          0.          0.\n",
      "   0.          0.          0.          0.          0.          0.\n",
      "   0.          0.          0.          0.          0.          0.\n",
      "   0.          0.        ]\n",
      " [ 0.          0.          0.          0.          0.          0.\n",
      "   0.          0.          0.          0.          0.          0.\n",
      "   0.          0.          0.          0.          0.          0.\n",
      "   0.          0.        ]\n",
      " [ 0.          0.          0.          0.          0.          0.\n",
      "   0.          0.          0.          0.          0.          0.\n",
      "   0.          0.          0.          0.          0.          0.\n",
      "   0.          0.        ]\n",
      " [ 0.          0.          0.          0.          0.          0.\n",
      "   0.          0.          0.28540945  0.          0.          0.\n",
      "   0.42348535  0.          0.          0.          0.          0.\n",
      "   0.          0.        ]\n",
      " [ 0.          0.          0.          0.          0.          0.\n",
      "   0.          0.          0.          0.          0.          0.\n",
      "   0.          0.          0.          0.          0.          0.\n",
      "   0.          0.        ]\n",
      " [ 0.          0.          0.          0.          0.          0.\n",
      "   0.          0.          0.          0.          0.          0.\n",
      "   0.          0.          0.          0.          0.          0.\n",
      "   0.          0.        ]\n",
      " [ 0.          0.          0.          0.          0.          0.\n",
      "   0.          0.          0.          0.          0.          0.\n",
      "   0.          0.          0.          0.          0.          0.\n",
      "   0.          0.        ]\n",
      " [ 0.          0.          0.          0.          0.          0.\n",
      "   0.          0.          0.          0.          0.          0.\n",
      "   0.          0.          0.          0.          0.          0.\n",
      "   0.          0.        ]\n",
      " [ 0.          0.          0.          0.          0.          0.\n",
      "   0.          0.          0.          0.          0.          0.\n",
      "   0.          0.          0.          0.          0.          0.\n",
      "   0.          0.        ]\n",
      " [ 0.30700144  0.          0.          0.          0.          0.\n",
      "   0.          0.          0.          0.          0.          0.\n",
      "   0.          0.          0.          0.          0.          0.\n",
      "   0.          0.        ]\n",
      " [ 0.          0.          0.          0.          0.          0.\n",
      "   0.          0.          0.          0.          0.          0.\n",
      "   0.          0.          0.          0.          0.          0.\n",
      "   0.          0.        ]\n",
      " [ 0.          0.          0.          0.          0.          0.\n",
      "   0.          0.          0.          0.          0.          0.\n",
      "   0.          0.          0.          0.          0.          0.\n",
      "   0.          0.        ]\n",
      " [ 0.          0.          0.          0.          0.          0.\n",
      "   0.          0.          0.          0.          0.          0.\n",
      "   0.          0.          0.          0.          0.          0.\n",
      "   0.          0.        ]\n",
      " [ 0.          0.          0.          0.          0.          0.\n",
      "   0.          0.          0.          0.          0.          0.\n",
      "   0.          0.          0.          0.          0.          0.\n",
      "   0.          0.        ]\n",
      " [ 0.          0.          0.          0.          0.          0.\n",
      "   0.          0.          0.          0.          0.          0.\n",
      "   0.          0.          0.          0.          0.          0.\n",
      "   0.          0.        ]\n",
      " [ 0.          0.38948723  0.          0.          0.          0.\n",
      "   0.          0.          0.14270472  0.          0.          0.\n",
      "   0.          0.          0.          0.          0.          0.\n",
      "   0.          0.        ]\n",
      " [ 0.          0.          0.          0.          0.          0.\n",
      "   0.          0.          0.          0.          0.          0.\n",
      "   0.          0.          0.          0.          0.          0.\n",
      "   0.          0.        ]\n",
      " [ 0.          0.          0.          0.          0.          0.\n",
      "   0.          0.          0.          0.          0.          0.\n",
      "   0.          0.          0.          0.          0.          0.\n",
      "   0.          0.        ]\n",
      " [ 0.          0.          0.          0.          0.          0.\n",
      "   0.          0.          0.          0.          0.          0.\n",
      "   0.          0.          0.          0.          0.          0.\n",
      "   0.          0.        ]\n",
      " [ 0.          0.          0.          0.          0.          0.\n",
      "   0.          0.          0.          0.          0.          0.\n",
      "   0.          0.          0.          0.          0.          0.\n",
      "   0.          0.        ]\n",
      " [ 0.          0.          0.          0.          0.          0.\n",
      "   0.          0.          0.          0.          0.          0.\n",
      "   0.          0.          0.          0.          0.          0.\n",
      "   0.          0.        ]\n",
      " [ 0.          0.          0.          0.          0.          0.\n",
      "   0.          0.          0.          0.          0.          0.\n",
      "   0.          0.          0.          0.          0.          0.\n",
      "   0.          0.        ]\n",
      " [ 0.          0.          0.          0.          0.          0.\n",
      "   0.          0.          0.          0.          0.          0.\n",
      "   0.          0.          0.          0.          0.          0.\n",
      "   0.          0.        ]\n",
      " [ 0.          0.          0.          0.          0.          0.\n",
      "   0.          0.          0.          0.          0.          0.\n",
      "   0.          0.          0.          0.          0.          0.\n",
      "   0.          0.        ]\n",
      " [ 0.          0.          0.          0.          0.          0.\n",
      "   0.          0.          0.          0.          0.          0.\n",
      "   0.          0.          0.          0.          0.          0.\n",
      "   0.          0.        ]\n",
      " [ 0.          0.          0.          0.          0.          0.\n",
      "   0.          0.          0.          0.          0.          0.\n",
      "   0.          0.          0.          0.          0.          0.\n",
      "   0.          0.        ]\n",
      " [ 0.          0.          0.          0.          0.          0.\n",
      "   0.          0.          0.28540945  0.          0.          0.\n",
      "   0.16939414  0.          0.          0.          0.          0.\n",
      "   0.          0.        ]\n",
      " [ 0.          0.          0.          0.          0.          0.\n",
      "   0.          0.          0.          0.          0.          0.\n",
      "   0.          0.          0.          0.          0.          0.\n",
      "   0.          0.        ]\n",
      " [ 0.          0.          0.          0.          0.          0.\n",
      "   0.          0.          0.          0.          0.          0.\n",
      "   0.          0.          0.          0.          0.          0.\n",
      "   0.          0.        ]\n",
      " [ 0.          0.          0.          0.          0.          0.\n",
      "   0.          0.          0.          0.          0.          0.\n",
      "   0.          0.          0.          0.          0.          0.\n",
      "   0.          0.        ]\n",
      " [ 0.          0.          0.          0.          0.          0.\n",
      "   0.          0.          0.          0.          0.          0.\n",
      "   0.          0.          0.          0.          0.          0.\n",
      "   0.          0.        ]\n",
      " [ 0.          0.          0.          0.          0.          0.\n",
      "   0.          0.          0.          0.          0.          0.\n",
      "   0.          0.          0.          0.          0.          0.\n",
      "   0.          0.        ]\n",
      " [ 0.          0.          0.          0.          0.          0.\n",
      "   0.          0.          0.          0.          0.          0.\n",
      "   0.          0.          0.          0.          0.          0.\n",
      "   0.          0.        ]\n",
      " [ 0.          0.          0.          0.          0.          0.\n",
      "   0.          0.          0.          0.          0.          0.\n",
      "   0.          0.          0.          0.          0.          0.\n",
      "   0.          0.        ]\n",
      " [ 0.          0.          0.          0.          0.          0.\n",
      "   0.          0.          0.          0.          0.          0.\n",
      "   0.          0.          0.          0.          0.          0.\n",
      "   0.          0.        ]\n",
      " [ 0.          0.          0.          0.          0.          0.\n",
      "   0.          0.          0.          0.          0.          0.\n",
      "   0.          0.          0.          0.          0.          0.\n",
      "   0.          0.        ]\n",
      " [ 0.          0.          0.          0.          0.          0.\n",
      "   0.          0.          0.          0.          0.          0.\n",
      "   0.          0.          0.          0.          0.          0.\n",
      "   0.          0.        ]\n",
      " [ 0.          0.          0.          0.          0.          0.\n",
      "   0.          0.          0.          0.          0.          0.\n",
      "   0.          0.          0.          0.          0.          0.\n",
      "   0.          0.        ]\n",
      " [ 0.          0.          0.          0.          0.          0.\n",
      "   0.          0.          0.          0.          0.          0.\n",
      "   0.          0.          0.          0.          0.          0.\n",
      "   0.          0.        ]\n",
      " [ 0.          0.          0.          0.          0.          0.\n",
      "   0.          0.          0.          0.          0.          0.\n",
      "   0.          0.          0.          0.          0.          0.\n",
      "   0.          0.        ]\n",
      " [ 0.          0.          0.          0.          0.          0.\n",
      "   0.          0.          0.          0.          0.          0.\n",
      "   0.          0.          0.          0.          0.          0.\n",
      "   0.          0.        ]\n",
      " [ 0.          0.          0.          0.          0.          0.\n",
      "   0.          0.          0.28540945  0.          0.          0.\n",
      "   0.42348535  0.          0.          0.          0.          0.\n",
      "   0.          0.        ]\n",
      " [ 0.          0.          0.          0.          0.          0.\n",
      "   0.          0.          0.          0.          0.          0.\n",
      "   0.          0.          0.          0.          0.          0.\n",
      "   0.          0.        ]\n",
      " [ 0.          0.          0.          0.          0.          0.\n",
      "   0.          0.          0.          0.          0.          0.\n",
      "   0.          0.          0.          0.          0.          0.\n",
      "   0.          0.        ]\n",
      " [ 0.          0.          0.          0.          0.          0.\n",
      "   0.          0.          0.          0.          0.          0.\n",
      "   0.          0.          0.          0.          0.          0.\n",
      "   0.          0.        ]\n",
      " [ 0.          0.          0.          0.          0.          0.\n",
      "   0.          0.          0.          0.          0.          0.\n",
      "   0.          0.          0.          0.          0.          0.\n",
      "  -0.19745133  0.        ]\n",
      " [ 0.          0.          0.          0.          0.          0.\n",
      "   0.          0.          0.          0.          0.          0.\n",
      "   0.          0.          0.          0.          0.          0.\n",
      "   0.          0.        ]]\n",
      "After transpose method\n",
      "A: 20\n",
      "B: 20\n",
      "C: 20\n",
      "till this point\n",
      "before solving\n",
      "outer iteration 1\n",
      "rho 1.0\n",
      "y [0. 0. 0. 0. 0. 0. 0. 0. 0. 0. 0. 0. 0. 0. 0. 0. 0. 0. 0. 0. 0. 0. 0. 0.\n",
      " 0. 0. 0. 0. 0. 0. 0. 0. 0. 0. 0. 0. 0. 0. 0. 0. 0. 0. 0. 0. 0. 0. 0. 0.\n",
      " 0. 0. 0. 0. 0. 0. 0. 0. 0. 0. 0. 0. 0. 0. 0. 0. 0. 0. 0. 0. 0. 0. 0. 0.\n",
      " 0. 0. 0. 0. 0. 0. 0. 0. 0. 0. 0. 0. 0. 0. 0. 0. 0. 0. 0. 0. 0. 0. 0. 0.\n",
      " 0. 0. 0. 0. 0. 0.]\n",
      "constraint_error [0.         0.         0.12900049 0.         0.04386255 0.\n",
      " 0.         0.         0.16389964 0.         0.53085672 0.\n",
      " 0.24301105 0.         0.37350004 0.         0.         0.\n",
      " 0.         0.         0.50401404 0.         0.         0.\n",
      " 0.         0.22529635 0.         0.         0.         0.\n",
      " 0.         0.         0.03269373 0.         0.         0.\n",
      " 0.         0.         0.         0.         0.         0.\n",
      " 0.         0.08696621 0.         0.19307152 0.37163071 0.\n",
      " 0.         0.2484604  0.         0.         0.         0.\n",
      " 0.         0.         0.         0.         0.         0.\n",
      " 0.         0.         0.         0.         0.         0.\n",
      " 0.         0.         0.         0.         0.         0.\n",
      " 0.         0.         0.         0.         0.         0.\n",
      " 0.         0.         0.         0.         0.         0.\n",
      " 0.         0.         0.         0.         0.         0.\n",
      " 0.         0.         0.         0.         0.         0.\n",
      " 0.         0.         0.         0.         0.         0.        ]\n",
      "outer iteration 2\n",
      "rho 1.0\n",
      "y [0.         0.         0.12900049 0.         0.04386255 0.\n",
      " 0.         0.         0.16389964 0.         0.53085672 0.\n",
      " 0.24301105 0.         0.37350004 0.         0.         0.\n",
      " 0.         0.         0.50401404 0.         0.         0.\n",
      " 0.         0.22529635 0.         0.         0.         0.\n",
      " 0.         0.         0.03269373 0.         0.         0.\n",
      " 0.         0.         0.         0.         0.         0.\n",
      " 0.         0.08696621 0.         0.19307152 0.37163071 0.\n",
      " 0.         0.2484604  0.         0.         0.         0.\n",
      " 0.         0.         0.         0.         0.         0.\n",
      " 0.         0.         0.         0.         0.         0.\n",
      " 0.         0.         0.         0.         0.         0.\n",
      " 0.         0.         0.         0.         0.         0.\n",
      " 0.         0.         0.         0.         0.         0.\n",
      " 0.         0.         0.         0.         0.         0.\n",
      " 0.         0.         0.         0.         0.         0.\n",
      " 0.         0.         0.         0.         0.         0.        ]\n",
      "constraint_error [0.00879531 0.         0.         0.00880108 0.0207296  0.\n",
      " 0.         0.00880108 0.06082034 0.         0.08528548 0.\n",
      " 0.03398049 0.         0.31670039 0.00880108 0.00880108 0.00880108\n",
      " 0.00880108 0.         0.42837701 0.         0.         0.\n",
      " 0.00880108 0.09697233 0.         0.00880108 0.00880108 0.00880108\n",
      " 0.00880108 0.11306075 0.09450876 0.         0.         0.00880108\n",
      " 0.00880108 0.00880108 0.00880108 0.00880108 0.02653561 0.00880108\n",
      " 0.00880108 0.08631365 0.         0.04391221 0.22676646 0.00880108\n",
      " 0.00880108 0.17241902 0.         0.00880108 0.         0.\n",
      " 0.         0.         0.         0.         0.         0.\n",
      " 0.         0.         0.         0.         0.         0.\n",
      " 0.         0.         0.         0.         0.         0.\n",
      " 0.         0.         0.         0.         0.         0.\n",
      " 0.         0.         0.         0.         0.         0.\n",
      " 0.         0.         0.         0.         0.         0.\n",
      " 0.         0.         0.         0.         0.         0.\n",
      " 0.         0.         0.         0.         0.         0.        ]\n",
      "outer iteration 3\n",
      "rho 2.0\n",
      "y [0.00879531 0.         0.12900049 0.00880108 0.06459215 0.\n",
      " 0.         0.00880108 0.22471997 0.         0.6161422  0.\n",
      " 0.27699155 0.         0.69020043 0.00880108 0.00880108 0.00880108\n",
      " 0.00880108 0.         0.93239105 0.         0.         0.\n",
      " 0.00880108 0.32226868 0.         0.00880108 0.00880108 0.00880108\n",
      " 0.00880108 0.11306075 0.12720249 0.         0.         0.00880108\n",
      " 0.00880108 0.00880108 0.00880108 0.00880108 0.02653561 0.00880108\n",
      " 0.00880108 0.17327987 0.         0.23698373 0.59839717 0.00880108\n",
      " 0.00880108 0.42087942 0.         0.00880108 0.         0.\n",
      " 0.         0.         0.         0.         0.         0.\n",
      " 0.         0.         0.         0.         0.         0.\n",
      " 0.         0.         0.         0.         0.         0.\n",
      " 0.         0.         0.         0.         0.         0.\n",
      " 0.         0.         0.         0.         0.         0.\n",
      " 0.         0.         0.         0.         0.         0.\n",
      " 0.         0.         0.         0.         0.         0.\n",
      " 0.         0.         0.         0.         0.         0.        ]\n",
      "constraint_error [0.02287332 0.         0.         0.02287565 0.02750198 0.\n",
      " 0.         0.02287565 0.07219333 0.         0.05604431 0.\n",
      " 0.02914358 0.         0.1548845  0.02287565 0.02287565 0.02287565\n",
      " 0.02287565 0.         0.03379077 0.         0.03676905 0.02945244\n",
      " 0.02287565 0.05080341 0.         0.02287565 0.02287565 0.02287565\n",
      " 0.02287565 0.11160371 0.04215566 0.         0.02860215 0.02287565\n",
      " 0.02287565 0.02287565 0.02287565 0.02287565 0.06520523 0.02287565\n",
      " 0.02287565 0.03488159 0.         0.02317566 0.1329457  0.02287565\n",
      " 0.02287565 0.05760374 0.         0.02287565 0.         0.\n",
      " 0.         0.         0.         0.         0.         0.\n",
      " 0.         0.         0.         0.         0.         0.\n",
      " 0.         0.         0.         0.         0.         0.\n",
      " 0.         0.         0.         0.         0.         0.\n",
      " 0.         0.         0.         0.         0.         0.\n",
      " 0.         0.         0.         0.         0.         0.\n",
      " 0.         0.         0.         0.         0.         0.\n",
      " 0.         0.         0.         0.         0.         0.        ]\n",
      "outer iteration 4\n",
      "rho 2.0\n",
      "y [0.05454194 0.         0.12900049 0.05455237 0.11959611 0.\n",
      " 0.         0.05455237 0.36910664 0.         0.72823082 0.\n",
      " 0.33527871 0.         0.99996944 0.05455237 0.05455237 0.05455237\n",
      " 0.05455237 0.         0.9999726  0.         0.0735381  0.05890488\n",
      " 0.05455237 0.42387551 0.         0.05455237 0.05455237 0.05455237\n",
      " 0.05455237 0.33626818 0.21151381 0.         0.0572043  0.05455237\n",
      " 0.05455237 0.05455237 0.05455237 0.05455237 0.15694606 0.05455237\n",
      " 0.05455237 0.24304304 0.         0.28333505 0.86428856 0.05455237\n",
      " 0.05455237 0.53608689 0.         0.05455237 0.         0.\n",
      " 0.         0.         0.         0.         0.         0.\n",
      " 0.         0.         0.         0.         0.         0.\n",
      " 0.         0.         0.         0.         0.         0.\n",
      " 0.         0.         0.         0.         0.         0.\n",
      " 0.         0.         0.         0.         0.         0.\n",
      " 0.         0.         0.         0.         0.         0.\n",
      " 0.         0.         0.         0.         0.         0.\n",
      " 0.         0.         0.         0.         0.         0.        ]\n",
      "constraint_error [2.66229870e-02 0.00000000e+00 0.00000000e+00 2.66230038e-02\n",
      " 2.54733406e-02 0.00000000e+00 0.00000000e+00 2.66230038e-02\n",
      " 4.86444548e-02 0.00000000e+00 3.29429226e-02 1.39537452e-03\n",
      " 2.26281701e-02 0.00000000e+00 1.60036099e-05 2.66230038e-02\n",
      " 2.66230038e-02 2.66230038e-02 2.66230038e-02 0.00000000e+00\n",
      " 1.57518155e-05 0.00000000e+00 4.16134931e-02 2.98282983e-02\n",
      " 2.66230038e-02 3.46659663e-02 0.00000000e+00 2.66230038e-02\n",
      " 2.66230038e-02 2.66230038e-02 2.66230038e-02 6.29636252e-02\n",
      " 3.59146362e-02 0.00000000e+00 3.32280296e-02 2.66230038e-02\n",
      " 2.66230038e-02 2.66230038e-02 2.66230038e-02 2.66230038e-02\n",
      " 3.98666262e-02 2.66230038e-02 2.66230038e-02 3.78082244e-02\n",
      " 0.00000000e+00 2.55652606e-02 6.78316380e-02 2.66230038e-02\n",
      " 2.66230038e-02 3.69834458e-02 0.00000000e+00 2.66230038e-02\n",
      " 0.00000000e+00 0.00000000e+00 0.00000000e+00 0.00000000e+00\n",
      " 0.00000000e+00 0.00000000e+00 0.00000000e+00 0.00000000e+00\n",
      " 0.00000000e+00 0.00000000e+00 0.00000000e+00 0.00000000e+00\n",
      " 0.00000000e+00 0.00000000e+00 0.00000000e+00 0.00000000e+00\n",
      " 0.00000000e+00 0.00000000e+00 0.00000000e+00 0.00000000e+00\n",
      " 0.00000000e+00 0.00000000e+00 0.00000000e+00 0.00000000e+00\n",
      " 0.00000000e+00 0.00000000e+00 0.00000000e+00 0.00000000e+00\n",
      " 0.00000000e+00 0.00000000e+00 0.00000000e+00 0.00000000e+00\n",
      " 0.00000000e+00 0.00000000e+00 0.00000000e+00 0.00000000e+00\n",
      " 0.00000000e+00 0.00000000e+00 0.00000000e+00 0.00000000e+00\n",
      " 0.00000000e+00 0.00000000e+00 0.00000000e+00 0.00000000e+00\n",
      " 0.00000000e+00 0.00000000e+00 0.00000000e+00 0.00000000e+00\n",
      " 0.00000000e+00 0.00000000e+00]\n",
      "outer iteration 5\n",
      "rho 2.0\n",
      "y [0.10778792 0.         0.12900049 0.10779838 0.17054279 0.\n",
      " 0.         0.10779838 0.46639555 0.         0.79411667 0.00279075\n",
      " 0.38053505 0.         1.00000145 0.10779838 0.10779838 0.10779838\n",
      " 0.10779838 0.         1.0000041  0.         0.15676509 0.11856148\n",
      " 0.10779838 0.49320744 0.         0.10779838 0.10779838 0.10779838\n",
      " 0.10779838 0.46219543 0.28334309 0.         0.12366036 0.10779838\n",
      " 0.10779838 0.10779838 0.10779838 0.10779838 0.23667932 0.10779838\n",
      " 0.10779838 0.31865949 0.         0.33446557 0.99995184 0.10779838\n",
      " 0.10779838 0.61005379 0.         0.10779838 0.         0.\n",
      " 0.         0.         0.         0.         0.         0.\n",
      " 0.         0.         0.         0.         0.         0.\n",
      " 0.         0.         0.         0.         0.         0.\n",
      " 0.         0.         0.         0.         0.         0.\n",
      " 0.         0.         0.         0.         0.         0.\n",
      " 0.         0.         0.         0.         0.         0.\n",
      " 0.         0.         0.         0.         0.         0.\n",
      " 0.         0.         0.         0.         0.         0.        ]\n",
      "constraint_error [2.64913806e-02 0.00000000e+00 2.12858149e-02 2.64827848e-02\n",
      " 2.54458005e-02 0.00000000e+00 0.00000000e+00 2.64827848e-02\n",
      " 2.06210628e-03 0.00000000e+00 3.10546351e-02 2.57041204e-02\n",
      " 2.65082726e-02 5.55790451e-03 0.00000000e+00 2.64827848e-02\n",
      " 2.64827848e-02 2.64827848e-02 2.64827848e-02 0.00000000e+00\n",
      " 0.00000000e+00 0.00000000e+00 2.79772886e-02 3.03329306e-02\n",
      " 2.64827848e-02 2.09789716e-02 0.00000000e+00 2.64827848e-02\n",
      " 2.64827848e-02 2.64827848e-02 2.64827848e-02 9.88824655e-03\n",
      " 2.90543757e-02 0.00000000e+00 2.17725561e-02 2.64827848e-02\n",
      " 2.64827848e-02 2.64827848e-02 2.64827848e-02 2.64827848e-02\n",
      " 2.59142625e-02 2.64827848e-02 2.64827848e-02 2.56877202e-02\n",
      " 0.00000000e+00 2.33411274e-02 1.35885114e-05 2.64827848e-02\n",
      " 2.64827848e-02 2.21490670e-02 0.00000000e+00 2.64827848e-02\n",
      " 0.00000000e+00 0.00000000e+00 0.00000000e+00 0.00000000e+00\n",
      " 0.00000000e+00 0.00000000e+00 0.00000000e+00 0.00000000e+00\n",
      " 0.00000000e+00 0.00000000e+00 0.00000000e+00 0.00000000e+00\n",
      " 0.00000000e+00 0.00000000e+00 0.00000000e+00 0.00000000e+00\n",
      " 0.00000000e+00 0.00000000e+00 0.00000000e+00 0.00000000e+00\n",
      " 0.00000000e+00 0.00000000e+00 0.00000000e+00 0.00000000e+00\n",
      " 0.00000000e+00 0.00000000e+00 0.00000000e+00 0.00000000e+00\n",
      " 0.00000000e+00 0.00000000e+00 0.00000000e+00 0.00000000e+00\n",
      " 0.00000000e+00 0.00000000e+00 0.00000000e+00 0.00000000e+00\n",
      " 0.00000000e+00 0.00000000e+00 0.00000000e+00 0.00000000e+00\n",
      " 0.00000000e+00 0.00000000e+00 0.00000000e+00 0.00000000e+00\n",
      " 0.00000000e+00 0.00000000e+00 0.00000000e+00 0.00000000e+00\n",
      " 0.00000000e+00 0.00000000e+00]\n",
      "outer iteration 6\n",
      "rho 2.0\n",
      "y [0.16077068 0.         0.17157212 0.16076395 0.22143439 0.\n",
      " 0.         0.16076395 0.47051976 0.         0.85622594 0.05419899\n",
      " 0.43355159 0.01111581 0.99997423 0.16076395 0.16076395 0.16076395\n",
      " 0.16076395 0.         1.00000054 0.         0.21271966 0.17922734\n",
      " 0.16076395 0.53516538 0.         0.16076395 0.16076395 0.16076395\n",
      " 0.16076395 0.48197192 0.34145184 0.         0.16720547 0.16076395\n",
      " 0.16076395 0.16076395 0.16076395 0.16076395 0.28850784 0.16076395\n",
      " 0.16076395 0.37003493 0.         0.38114783 0.99997901 0.16076395\n",
      " 0.16076395 0.65435192 0.         0.16076395 0.         0.\n",
      " 0.         0.         0.         0.         0.         0.\n",
      " 0.         0.         0.         0.         0.         0.\n",
      " 0.         0.         0.         0.         0.         0.\n",
      " 0.         0.         0.         0.         0.         0.\n",
      " 0.         0.         0.         0.         0.         0.\n",
      " 0.         0.         0.         0.         0.         0.\n",
      " 0.         0.         0.         0.         0.         0.\n",
      " 0.         0.         0.         0.         0.         0.        ]\n",
      "constraint_error [2.36689382e-02 0.00000000e+00 2.22742896e-02 2.36706047e-02\n",
      " 2.25125607e-02 1.72941132e-02 0.00000000e+00 2.36706047e-02\n",
      " 1.29666774e-03 0.00000000e+00 1.99286430e-02 2.14410867e-02\n",
      " 1.93585175e-02 2.57886725e-02 5.03061014e-06 2.36706047e-02\n",
      " 2.36706047e-02 2.36706047e-02 2.36706047e-02 0.00000000e+00\n",
      " 0.00000000e+00 0.00000000e+00 1.85501135e-02 2.01152499e-02\n",
      " 2.36706047e-02 2.30841669e-02 0.00000000e+00 2.36706047e-02\n",
      " 2.36706047e-02 2.36706047e-02 2.36706047e-02 4.32656363e-03\n",
      " 2.83279675e-02 0.00000000e+00 2.65624296e-02 2.36706047e-02\n",
      " 2.36706047e-02 2.36706047e-02 2.36706047e-02 2.36706047e-02\n",
      " 2.28183402e-02 2.36706047e-02 2.36706047e-02 2.91695105e-02\n",
      " 5.61880330e-03 2.57920495e-02 1.86195311e-06 2.36706047e-02\n",
      " 2.36706047e-02 2.38697759e-02 0.00000000e+00 2.36706047e-02\n",
      " 0.00000000e+00 0.00000000e+00 0.00000000e+00 0.00000000e+00\n",
      " 0.00000000e+00 0.00000000e+00 0.00000000e+00 0.00000000e+00\n",
      " 0.00000000e+00 0.00000000e+00 0.00000000e+00 0.00000000e+00\n",
      " 0.00000000e+00 0.00000000e+00 0.00000000e+00 0.00000000e+00\n",
      " 0.00000000e+00 0.00000000e+00 0.00000000e+00 0.00000000e+00\n",
      " 0.00000000e+00 0.00000000e+00 0.00000000e+00 0.00000000e+00\n",
      " 0.00000000e+00 0.00000000e+00 0.00000000e+00 0.00000000e+00\n",
      " 0.00000000e+00 0.00000000e+00 0.00000000e+00 0.00000000e+00\n",
      " 0.00000000e+00 0.00000000e+00 0.00000000e+00 0.00000000e+00\n",
      " 0.00000000e+00 0.00000000e+00 0.00000000e+00 0.00000000e+00\n",
      " 0.00000000e+00 0.00000000e+00 0.00000000e+00 0.00000000e+00\n",
      " 0.00000000e+00 0.00000000e+00 0.00000000e+00 0.00000000e+00\n",
      " 0.00000000e+00 0.00000000e+00]\n",
      "outer iteration 7\n",
      "rho 4.0\n",
      "y [0.20810855 0.         0.2161207  0.20810516 0.26645952 0.03458823\n",
      " 0.         0.20810516 0.47311309 0.         0.89608322 0.09708116\n",
      " 0.47226863 0.06269315 0.99998429 0.20810516 0.20810516 0.20810516\n",
      " 0.20810516 0.         0.99998021 0.         0.24981989 0.21945784\n",
      " 0.20810516 0.58133372 0.         0.20810516 0.20810516 0.20810516\n",
      " 0.20810516 0.49062505 0.39810777 0.         0.22033033 0.20810516\n",
      " 0.20810516 0.20810516 0.20810516 0.20810516 0.33414452 0.20810516\n",
      " 0.20810516 0.42837395 0.01123761 0.43273193 0.99998274 0.20810516\n",
      " 0.20810516 0.70209147 0.         0.20810516 0.         0.\n",
      " 0.         0.         0.         0.         0.         0.\n",
      " 0.         0.         0.         0.         0.         0.\n",
      " 0.         0.         0.         0.         0.         0.\n",
      " 0.         0.         0.         0.         0.         0.\n",
      " 0.         0.         0.         0.         0.         0.\n",
      " 0.         0.         0.         0.         0.         0.\n",
      " 0.         0.         0.         0.         0.         0.\n",
      " 0.         0.         0.         0.         0.         0.        ]\n",
      "constraint_error [2.06083943e-02 0.00000000e+00 2.10883053e-02 2.05887223e-02\n",
      " 1.98972919e-02 2.18275237e-02 0.00000000e+00 2.05887223e-02\n",
      " 6.14905234e-03 1.14051827e-02 1.64606663e-02 2.23728405e-02\n",
      " 1.87276273e-02 2.31413644e-02 0.00000000e+00 2.05887223e-02\n",
      " 2.05887223e-02 2.05887223e-02 2.05887223e-02 0.00000000e+00\n",
      " 1.06214998e-05 0.00000000e+00 1.23454519e-02 1.90408005e-02\n",
      " 2.05887223e-02 1.69414261e-02 0.00000000e+00 2.05887223e-02\n",
      " 2.05887223e-02 2.05887223e-02 2.05887223e-02 3.35182823e-03\n",
      " 2.07174223e-02 0.00000000e+00 1.89813860e-02 2.05887223e-02\n",
      " 2.05887223e-02 2.05887223e-02 2.05887223e-02 2.05887223e-02\n",
      " 1.60233229e-02 2.05887223e-02 2.05887223e-02 1.97265799e-02\n",
      " 2.05355147e-02 2.08403165e-02 2.26271204e-05 2.05887223e-02\n",
      " 2.05887223e-02 1.55598901e-02 0.00000000e+00 2.05887223e-02\n",
      " 0.00000000e+00 0.00000000e+00 0.00000000e+00 0.00000000e+00\n",
      " 0.00000000e+00 0.00000000e+00 0.00000000e+00 0.00000000e+00\n",
      " 0.00000000e+00 0.00000000e+00 0.00000000e+00 0.00000000e+00\n",
      " 0.00000000e+00 0.00000000e+00 0.00000000e+00 0.00000000e+00\n",
      " 0.00000000e+00 0.00000000e+00 0.00000000e+00 0.00000000e+00\n",
      " 0.00000000e+00 0.00000000e+00 0.00000000e+00 0.00000000e+00\n",
      " 0.00000000e+00 0.00000000e+00 0.00000000e+00 0.00000000e+00\n",
      " 0.00000000e+00 0.00000000e+00 0.00000000e+00 0.00000000e+00\n",
      " 0.00000000e+00 0.00000000e+00 0.00000000e+00 0.00000000e+00\n",
      " 0.00000000e+00 0.00000000e+00 0.00000000e+00 0.00000000e+00\n",
      " 0.00000000e+00 0.00000000e+00 0.00000000e+00 0.00000000e+00\n",
      " 0.00000000e+00 0.00000000e+00 0.00000000e+00 0.00000000e+00\n",
      " 0.00000000e+00 0.00000000e+00]\n",
      "outer iteration 8\n",
      "rho 8.0\n",
      "y [0.29054213 0.         0.30047393 0.29046004 0.34604868 0.12189832\n",
      " 0.         0.29046004 0.4977093  0.04562073 0.96192589 0.18657253\n",
      " 0.54717914 0.15525861 0.99996564 0.29046004 0.29046004 0.29046004\n",
      " 0.29046004 0.         1.0000227  0.         0.2992017  0.29562104\n",
      " 0.29046004 0.64909942 0.         0.29046004 0.29046004 0.29046004\n",
      " 0.29046004 0.50403236 0.48097746 0.         0.29625587 0.29046004\n",
      " 0.29046004 0.29046004 0.29046004 0.29046004 0.39823781 0.29046004\n",
      " 0.29046004 0.50728027 0.09337967 0.51609319 1.00007324 0.29046004\n",
      " 0.29046004 0.76433103 0.         0.29046004 0.         0.\n",
      " 0.         0.         0.         0.         0.         0.\n",
      " 0.         0.         0.         0.         0.         0.\n",
      " 0.         0.         0.         0.         0.         0.\n",
      " 0.         0.         0.         0.         0.         0.\n",
      " 0.         0.         0.         0.         0.         0.\n",
      " 0.         0.         0.         0.         0.         0.\n",
      " 0.         0.         0.         0.         0.         0.\n",
      " 0.         0.         0.         0.         0.         0.        ]\n",
      "constraint_error [0.01031613 0.         0.0201393  0.01033052 0.00984085 0.0166557\n",
      " 0.         0.01033052 0.00848731 0.00952959 0.00476074 0.02131079\n",
      " 0.01170165 0.01178889 0.         0.01033052 0.01033052 0.01033052\n",
      " 0.01033052 0.         0.         0.         0.00198533 0.01444425\n",
      " 0.01033052 0.00582762 0.         0.01033052 0.01033052 0.01033052\n",
      " 0.01033052 0.00026711 0.         0.         0.00885905 0.01033052\n",
      " 0.01033052 0.01033052 0.01033052 0.01033052 0.00405024 0.01033052\n",
      " 0.01033052 0.00368418 0.00410113 0.01026723 0.         0.01033052\n",
      " 0.01033052 0.         0.         0.01033052 0.         0.\n",
      " 0.         0.         0.         0.         0.         0.\n",
      " 0.         0.         0.         0.         0.         0.\n",
      " 0.         0.         0.         0.         0.         0.\n",
      " 0.         0.         0.         0.         0.         0.\n",
      " 0.         0.         0.         0.         0.         0.\n",
      " 0.         0.         0.         0.         0.         0.\n",
      " 0.         0.         0.         0.         0.         0.\n",
      " 0.         0.         0.         0.         0.         0.        ]\n",
      "outer iteration 9\n",
      "rho 16.0\n",
      "y [0.37307113 0.         0.46158832 0.37310417 0.42477549 0.25514392\n",
      " 0.         0.37310417 0.56560778 0.12185742 1.00001182 0.35705883\n",
      " 0.64079234 0.24956974 0.99993326 0.37310417 0.37310417 0.37310417\n",
      " 0.37310417 0.         0.99997601 0.         0.31508431 0.41117501\n",
      " 0.37310417 0.69572038 0.         0.37310417 0.37310417 0.37310417\n",
      " 0.37310417 0.50616926 0.48097746 0.         0.36712828 0.37310417\n",
      " 0.37310417 0.37310417 0.37310417 0.37310417 0.43063975 0.37310417\n",
      " 0.37310417 0.53675368 0.12618871 0.59823101 0.99995111 0.37310417\n",
      " 0.37310417 0.76433103 0.         0.37310417 0.         0.\n",
      " 0.         0.         0.         0.         0.         0.\n",
      " 0.         0.         0.         0.         0.         0.\n",
      " 0.         0.         0.         0.         0.         0.\n",
      " 0.         0.         0.         0.         0.         0.\n",
      " 0.         0.         0.         0.         0.         0.\n",
      " 0.         0.         0.         0.         0.         0.\n",
      " 0.         0.         0.         0.         0.         0.\n",
      " 0.         0.         0.         0.         0.         0.        ]\n",
      "constraint_error [3.21483290e-03 0.00000000e+00 6.25802736e-03 3.21245207e-03\n",
      " 3.15238869e-03 5.35757990e-03 0.00000000e+00 3.21245207e-03\n",
      " 3.56190035e-03 3.63894158e-03 0.00000000e+00 7.25886600e-03\n",
      " 3.32159182e-03 4.10327527e-03 2.43600441e-06 3.21245207e-03\n",
      " 3.21245207e-03 3.21245207e-03 3.21245207e-03 0.00000000e+00\n",
      " 0.00000000e+00 3.51143167e-04 2.88298277e-04 3.81879988e-03\n",
      " 3.21245207e-03 1.96324153e-03 0.00000000e+00 3.21245207e-03\n",
      " 3.21245207e-03 3.21245207e-03 3.21245207e-03 2.35278878e-04\n",
      " 0.00000000e+00 0.00000000e+00 3.15622563e-03 3.21245207e-03\n",
      " 3.21245207e-03 3.21245207e-03 3.21245207e-03 3.21245207e-03\n",
      " 8.97510110e-04 3.21245207e-03 3.21245207e-03 7.83748408e-04\n",
      " 1.56474948e-03 3.34473732e-03 3.15656282e-06 3.21245207e-03\n",
      " 3.21245207e-03 0.00000000e+00 0.00000000e+00 3.21245207e-03\n",
      " 0.00000000e+00 0.00000000e+00 0.00000000e+00 0.00000000e+00\n",
      " 0.00000000e+00 0.00000000e+00 0.00000000e+00 0.00000000e+00\n",
      " 0.00000000e+00 0.00000000e+00 0.00000000e+00 0.00000000e+00\n",
      " 0.00000000e+00 0.00000000e+00 0.00000000e+00 0.00000000e+00\n",
      " 0.00000000e+00 0.00000000e+00 0.00000000e+00 0.00000000e+00\n",
      " 0.00000000e+00 0.00000000e+00 0.00000000e+00 0.00000000e+00\n",
      " 0.00000000e+00 0.00000000e+00 0.00000000e+00 0.00000000e+00\n",
      " 0.00000000e+00 0.00000000e+00 0.00000000e+00 0.00000000e+00\n",
      " 0.00000000e+00 0.00000000e+00 0.00000000e+00 0.00000000e+00\n",
      " 0.00000000e+00 0.00000000e+00 0.00000000e+00 0.00000000e+00\n",
      " 0.00000000e+00 0.00000000e+00 0.00000000e+00 0.00000000e+00\n",
      " 0.00000000e+00 0.00000000e+00 0.00000000e+00 0.00000000e+00\n",
      " 0.00000000e+00 0.00000000e+00]\n",
      "outer iteration 10\n",
      "rho 16.0\n",
      "y [0.42450846 0.         0.56171676 0.4245034  0.47521371 0.3408652\n",
      " 0.         0.4245034  0.62259818 0.18008048 0.99998555 0.47320069\n",
      " 0.69393781 0.31522214 0.99997224 0.4245034  0.4245034  0.4245034\n",
      " 0.4245034  0.         0.9999753  0.00561829 0.31969708 0.4722758\n",
      " 0.4245034  0.72713224 0.         0.4245034  0.4245034  0.4245034\n",
      " 0.4245034  0.50993372 0.48097746 0.         0.41762789 0.4245034\n",
      " 0.4245034  0.4245034  0.4245034  0.4245034  0.44499991 0.4245034\n",
      " 0.4245034  0.54929365 0.1512247  0.65174681 1.00000162 0.4245034\n",
      " 0.4245034  0.76433103 0.         0.4245034  0.         0.\n",
      " 0.         0.         0.         0.         0.         0.\n",
      " 0.         0.         0.         0.         0.         0.\n",
      " 0.         0.         0.         0.         0.         0.\n",
      " 0.         0.         0.         0.         0.         0.\n",
      " 0.         0.         0.         0.         0.         0.\n",
      " 0.         0.         0.         0.         0.         0.\n",
      " 0.         0.         0.         0.         0.         0.\n",
      " 0.         0.         0.         0.         0.         0.        ]\n",
      "constraint_error [1.01243090e-03 0.00000000e+00 1.81301933e-03 1.01229417e-03\n",
      " 1.01962908e-03 1.66799494e-03 1.48540252e-03 1.01229417e-03\n",
      " 1.12808161e-03 1.18599870e-03 2.09987349e-06 2.23497233e-03\n",
      " 1.02327748e-03 1.29764714e-03 0.00000000e+00 1.01229417e-03\n",
      " 1.01229417e-03 1.01229417e-03 1.01229417e-03 0.00000000e+00\n",
      " 0.00000000e+00 5.81720493e-04 1.91268853e-04 1.17230279e-03\n",
      " 1.01229417e-03 6.16915917e-04 4.45615892e-04 1.01229417e-03\n",
      " 1.01229417e-03 1.01229417e-03 1.01229417e-03 1.30184204e-04\n",
      " 0.00000000e+00 0.00000000e+00 9.39353871e-04 1.01229417e-03\n",
      " 1.01229417e-03 1.01229417e-03 1.01229417e-03 1.01229417e-03\n",
      " 3.21690417e-04 1.01229417e-03 1.01229417e-03 2.10084751e-04\n",
      " 5.69256064e-04 1.03556712e-03 1.72552537e-06 1.01229417e-03\n",
      " 1.01229417e-03 0.00000000e+00 0.00000000e+00 1.01229417e-03\n",
      " 0.00000000e+00 0.00000000e+00 0.00000000e+00 0.00000000e+00\n",
      " 0.00000000e+00 0.00000000e+00 0.00000000e+00 0.00000000e+00\n",
      " 0.00000000e+00 0.00000000e+00 0.00000000e+00 0.00000000e+00\n",
      " 0.00000000e+00 0.00000000e+00 0.00000000e+00 0.00000000e+00\n",
      " 0.00000000e+00 0.00000000e+00 0.00000000e+00 0.00000000e+00\n",
      " 0.00000000e+00 0.00000000e+00 0.00000000e+00 0.00000000e+00\n",
      " 0.00000000e+00 0.00000000e+00 0.00000000e+00 0.00000000e+00\n",
      " 0.00000000e+00 0.00000000e+00 0.00000000e+00 0.00000000e+00\n",
      " 0.00000000e+00 0.00000000e+00 0.00000000e+00 0.00000000e+00\n",
      " 0.00000000e+00 0.00000000e+00 0.00000000e+00 0.00000000e+00\n",
      " 0.00000000e+00 0.00000000e+00 0.00000000e+00 0.00000000e+00\n",
      " 0.00000000e+00 0.00000000e+00 0.00000000e+00 0.00000000e+00\n",
      " 0.00000000e+00 0.00000000e+00]\n",
      "outer iteration 11\n",
      "rho 16.0\n",
      "y [0.44070735 0.         0.59072507 0.44070011 0.49152778 0.36755312\n",
      " 0.02376644 0.44070011 0.64064749 0.19905646 1.00001915 0.50896024\n",
      " 0.71031025 0.3359845  0.99995098 0.44070011 0.44070011 0.44070011\n",
      " 0.44070011 0.         0.99994886 0.01492582 0.32275739 0.49103265\n",
      " 0.44070011 0.7370029  0.00712985 0.44070011 0.44070011 0.44070011\n",
      " 0.44070011 0.51201667 0.48097746 0.         0.43265756 0.44070011\n",
      " 0.44070011 0.44070011 0.44070011 0.44070011 0.45014696 0.44070011\n",
      " 0.44070011 0.55265501 0.1603328  0.66831588 1.00002922 0.44070011\n",
      " 0.44070011 0.76433103 0.         0.44070011 0.         0.\n",
      " 0.         0.         0.         0.         0.         0.\n",
      " 0.         0.         0.         0.         0.         0.\n",
      " 0.         0.         0.         0.         0.         0.\n",
      " 0.         0.         0.         0.         0.         0.\n",
      " 0.         0.         0.         0.         0.         0.\n",
      " 0.         0.         0.         0.         0.         0.\n",
      " 0.         0.         0.         0.         0.         0.\n",
      " 0.         0.         0.         0.         0.         0.        ]\n",
      "constraint_error [3.34486493e-04 0.00000000e+00 5.93316387e-04 3.39008838e-04\n",
      " 3.46418705e-04 5.45303844e-04 5.57217359e-04 3.39008838e-04\n",
      " 3.74873642e-04 4.00636570e-04 0.00000000e+00 7.18061730e-04\n",
      " 3.42676976e-04 4.32610290e-04 1.10276903e-06 3.39008838e-04\n",
      " 3.39008838e-04 3.39008838e-04 3.39008838e-04 0.00000000e+00\n",
      " 1.37337023e-06 2.01658032e-04 8.47360323e-05 3.78454059e-04\n",
      " 3.39008838e-04 2.21051921e-04 3.98589187e-04 3.39008838e-04\n",
      " 3.39008838e-04 3.39008838e-04 3.39008838e-04 6.18177941e-05\n",
      " 0.00000000e+00 0.00000000e+00 3.24311208e-04 3.39008838e-04\n",
      " 3.39008838e-04 3.39008838e-04 3.39008838e-04 3.39008838e-04\n",
      " 1.11618518e-04 3.39008838e-04 3.39008838e-04 8.10327506e-05\n",
      " 1.98417034e-04 3.27710951e-04 0.00000000e+00 3.39008838e-04\n",
      " 3.39008838e-04 0.00000000e+00 0.00000000e+00 3.39008838e-04\n",
      " 0.00000000e+00 0.00000000e+00 0.00000000e+00 0.00000000e+00\n",
      " 0.00000000e+00 0.00000000e+00 0.00000000e+00 0.00000000e+00\n",
      " 0.00000000e+00 0.00000000e+00 0.00000000e+00 0.00000000e+00\n",
      " 0.00000000e+00 0.00000000e+00 0.00000000e+00 0.00000000e+00\n",
      " 0.00000000e+00 0.00000000e+00 0.00000000e+00 0.00000000e+00\n",
      " 0.00000000e+00 0.00000000e+00 0.00000000e+00 0.00000000e+00\n",
      " 0.00000000e+00 0.00000000e+00 0.00000000e+00 0.00000000e+00\n",
      " 0.00000000e+00 0.00000000e+00 0.00000000e+00 0.00000000e+00\n",
      " 0.00000000e+00 0.00000000e+00 0.00000000e+00 0.00000000e+00\n",
      " 0.00000000e+00 0.00000000e+00 0.00000000e+00 0.00000000e+00\n",
      " 0.00000000e+00 0.00000000e+00 0.00000000e+00 0.00000000e+00\n",
      " 0.00000000e+00 0.00000000e+00 0.00000000e+00 0.00000000e+00\n",
      " 0.00000000e+00 0.00000000e+00]\n",
      "outer iteration 12\n",
      "rho 16.0\n",
      "y [0.44605914 0.         0.60021813 0.44612425 0.49707048 0.37627798\n",
      " 0.03268192 0.44612425 0.64664547 0.20546665 0.99999077 0.52044923\n",
      " 0.71579308 0.34290626 0.99996862 0.44612425 0.44612425 0.44612425\n",
      " 0.44612425 0.         0.99997084 0.01815235 0.32411316 0.49708791\n",
      " 0.44612425 0.74053973 0.01350728 0.44612425 0.44612425 0.44612425\n",
      " 0.44612425 0.51300576 0.48097746 0.         0.43784654 0.44612425\n",
      " 0.44612425 0.44612425 0.44612425 0.44612425 0.45193285 0.44612425\n",
      " 0.44612425 0.55395153 0.16350747 0.67355925 1.00000149 0.44612425\n",
      " 0.44612425 0.76433103 0.         0.44612425 0.         0.\n",
      " 0.         0.         0.         0.         0.         0.\n",
      " 0.         0.         0.         0.         0.         0.\n",
      " 0.         0.         0.         0.         0.         0.\n",
      " 0.         0.         0.         0.         0.         0.\n",
      " 0.         0.         0.         0.         0.         0.\n",
      " 0.         0.         0.         0.         0.         0.\n",
      " 0.         0.         0.         0.         0.         0.\n",
      " 0.         0.         0.         0.         0.         0.        ]\n",
      "constraint_error [1.20962642e-04 0.00000000e+00 2.03155773e-04 1.11066881e-04\n",
      " 1.16602648e-04 1.88675418e-04 1.94498352e-04 1.11066881e-04\n",
      " 1.27411586e-04 1.32424489e-04 1.66969906e-06 2.50813786e-04\n",
      " 1.16672498e-04 1.42986178e-04 4.47323527e-06 1.11066881e-04\n",
      " 1.11066881e-04 1.11066881e-04 1.11066881e-04 0.00000000e+00\n",
      " 3.61530643e-06 5.54965814e-05 3.43977075e-05 1.27891334e-04\n",
      " 1.11066881e-04 7.13604255e-05 1.28381505e-04 1.11066881e-04\n",
      " 1.11066881e-04 1.11066881e-04 1.11066881e-04 1.67630626e-05\n",
      " 0.00000000e+00 0.00000000e+00 1.01134861e-04 1.11066881e-04\n",
      " 1.11066881e-04 1.11066881e-04 1.11066881e-04 1.11066881e-04\n",
      " 3.55346061e-05 1.11066881e-04 1.11066881e-04 1.83150602e-05\n",
      " 5.90810666e-05 1.03498174e-04 1.90274655e-06 1.11066881e-04\n",
      " 1.11066881e-04 0.00000000e+00 0.00000000e+00 1.11066881e-04\n",
      " 0.00000000e+00 0.00000000e+00 0.00000000e+00 0.00000000e+00\n",
      " 0.00000000e+00 0.00000000e+00 0.00000000e+00 0.00000000e+00\n",
      " 0.00000000e+00 0.00000000e+00 0.00000000e+00 0.00000000e+00\n",
      " 0.00000000e+00 0.00000000e+00 0.00000000e+00 0.00000000e+00\n",
      " 0.00000000e+00 0.00000000e+00 0.00000000e+00 0.00000000e+00\n",
      " 0.00000000e+00 0.00000000e+00 0.00000000e+00 0.00000000e+00\n",
      " 0.00000000e+00 0.00000000e+00 0.00000000e+00 0.00000000e+00\n",
      " 0.00000000e+00 0.00000000e+00 0.00000000e+00 0.00000000e+00\n",
      " 0.00000000e+00 0.00000000e+00 0.00000000e+00 0.00000000e+00\n",
      " 0.00000000e+00 0.00000000e+00 0.00000000e+00 0.00000000e+00\n",
      " 0.00000000e+00 0.00000000e+00 0.00000000e+00 0.00000000e+00\n",
      " 0.00000000e+00 0.00000000e+00 0.00000000e+00 0.00000000e+00\n",
      " 0.00000000e+00 0.00000000e+00]\n",
      "outer iteration 13\n",
      "rho 16.0\n",
      "y [0.44799454 0.         0.60346862 0.44790132 0.49893612 0.37929679\n",
      " 0.03579389 0.44790132 0.64868405 0.20758544 1.00001748 0.52446225\n",
      " 0.71765984 0.34519404 1.00004019 0.44790132 0.44790132 0.44790132\n",
      " 0.44790132 0.         1.00002868 0.01904029 0.32466353 0.49913417\n",
      " 0.44790132 0.74168149 0.01556139 0.44790132 0.44790132 0.44790132\n",
      " 0.44790132 0.51327396 0.48097746 0.         0.43946469 0.44790132\n",
      " 0.44790132 0.44790132 0.44790132 0.44790132 0.45250141 0.44790132\n",
      " 0.44790132 0.55424457 0.16445277 0.67521523 1.00003193 0.44790132\n",
      " 0.44790132 0.76433103 0.         0.44790132 0.         0.\n",
      " 0.         0.         0.         0.         0.         0.\n",
      " 0.         0.         0.         0.         0.         0.\n",
      " 0.         0.         0.         0.         0.         0.\n",
      " 0.         0.         0.         0.         0.         0.\n",
      " 0.         0.         0.         0.         0.         0.\n",
      " 0.         0.         0.         0.         0.         0.\n",
      " 0.         0.         0.         0.         0.         0.\n",
      " 0.         0.         0.         0.         0.         0.        ]\n",
      "constraint_error [3.15480647e-05 0.00000000e+00 6.58285690e-05 4.00733957e-05\n",
      " 4.17492959e-05 6.17216179e-05 6.39342859e-05 4.00733957e-05\n",
      " 4.47829768e-05 4.59799705e-05 0.00000000e+00 7.93459720e-05\n",
      " 4.18866073e-05 4.85540656e-05 0.00000000e+00 4.00733957e-05\n",
      " 4.00733957e-05 4.00733957e-05 4.00733957e-05 0.00000000e+00\n",
      " 0.00000000e+00 2.34480004e-05 0.00000000e+00 4.50995177e-05\n",
      " 4.00733957e-05 2.56356449e-05 4.46891332e-05 4.00733957e-05\n",
      " 4.00733957e-05 4.00733957e-05 4.00733957e-05 4.11974129e-06\n",
      " 0.00000000e+00 0.00000000e+00 3.75160607e-05 4.00733957e-05\n",
      " 4.00733957e-05 4.00733957e-05 4.00733957e-05 4.00733957e-05\n",
      " 1.09796353e-05 4.00733957e-05 4.00733957e-05 4.51458304e-06\n",
      " 2.24549072e-05 3.73503394e-05 0.00000000e+00 4.00733957e-05\n",
      " 4.00733957e-05 0.00000000e+00 0.00000000e+00 4.00733957e-05\n",
      " 0.00000000e+00 0.00000000e+00 0.00000000e+00 0.00000000e+00\n",
      " 0.00000000e+00 0.00000000e+00 0.00000000e+00 0.00000000e+00\n",
      " 0.00000000e+00 0.00000000e+00 0.00000000e+00 0.00000000e+00\n",
      " 0.00000000e+00 0.00000000e+00 0.00000000e+00 0.00000000e+00\n",
      " 0.00000000e+00 0.00000000e+00 0.00000000e+00 0.00000000e+00\n",
      " 0.00000000e+00 0.00000000e+00 0.00000000e+00 0.00000000e+00\n",
      " 0.00000000e+00 0.00000000e+00 0.00000000e+00 0.00000000e+00\n",
      " 0.00000000e+00 0.00000000e+00 0.00000000e+00 0.00000000e+00\n",
      " 0.00000000e+00 0.00000000e+00 0.00000000e+00 0.00000000e+00\n",
      " 0.00000000e+00 0.00000000e+00 0.00000000e+00 0.00000000e+00\n",
      " 0.00000000e+00 0.00000000e+00 0.00000000e+00 0.00000000e+00\n",
      " 0.00000000e+00 0.00000000e+00 0.00000000e+00 0.00000000e+00\n",
      " 0.00000000e+00 0.00000000e+00]\n",
      "solving took 0.111 sec\n",
      "after solving\n",
      "sorted index done...\n",
      "picking up indexes...\n",
      "utility computation completed...\n",
      "['councillor', 'lawyer', 'ownership', 'lp']\n",
      "1.0\n",
      "Successfully executed explain single function\n",
      "exapnsion terms : ['councillor', 'lawyer', 'ownership', 'lp']\n",
      "utility score : 1.0\n",
      "expansion terms : ['lawyer', 'definition', 'lp', 'laws', 'lps', 'councillor', 'ownership']\n",
      "utility : 1.0\n",
      "Kendalltau evaluation...\n",
      "topdocs fomred... ['8536118', '4526747', '7894178', '3323246', '456708', '2373504', '6881583', '7754378', '5158745', '6126509']\n",
      "exptraction of topdocs completed, size of topdocs 10\n",
      "prediction orig topk [712.35064697 710.9821167  710.20697021 710.01818848 709.89544678\n",
      " 709.81787109 709.6138916  709.48693848 709.41540527 709.37652588]\n",
      "new prediction [array([0.07692308, 0.04      , 0.        , 0.03846154, 0.22222222,\n",
      "       0.04878049, 0.        , 0.        , 0.05263158, 0.03703704]), array([0.98988646, 1.09861229, 0.        , 1.09861229, 2.60346314,\n",
      "       0.86754508, 0.        , 0.        , 1.09861229, 0.54930614]), array([4.03238866, 4.02105263, 4.03904924, 3.96153846, 4.12348178,\n",
      "       4.18356868, 4.12224109, 4.0075188 , 4.02493075, 4.19230769])]\n",
      "size of new prediction 3, <class 'list'>\n",
      "kendall tau: 0.7433333333333333, 0.7433333333333333, 0.7433333333333333, 0.7433333333333333, 1.0\n",
      "Correlation : (0.7433333333333333, 0.7433333333333333, 0.7433333333333333, 0.7433333333333333, 1.0)\n",
      "Expansion terms : ['lawyer', 'definition', 'lp', 'laws', 'lps', 'councillor', 'ownership']\n"
     ]
    }
   ],
   "source": [
    "# call Multiplex explainer module\n",
    "explanation_terms = multi.explain(qid, query_str, params)"
   ]
  },
  {
   "cell_type": "code",
   "execution_count": 53,
   "metadata": {},
   "outputs": [
    {
     "name": "stdout",
     "output_type": "stream",
     "text": [
      "Evaluation measures and Explanation terms generated with Multiplex \n",
      "([(0.7433333333333333, 0.7433333333333333, 0.7433333333333333, 0.7433333333333333, 1.0), [0.7433333333333333, 0.7433333333333333, 0.7433333333333333, 0.7433333333333333, 1.0], [0.7433333333333333, 0.7433333333333333, 0.7433333333333333, 0.7433333333333333, 1.0]], [['lawyer', 'definition', 'lp', 'laws', 'lps', 'councillor', 'ownership']])\n"
     ]
    }
   ],
   "source": [
    "print(f\"Evaluation measures and Explanation terms generated with Multiplex \\n{explanation_terms}\")"
   ]
  },
  {
   "cell_type": "markdown",
   "metadata": {},
   "source": [
    "DEBUG/EXPLAIN Multiplex with additional details e.g., 1) generate_candidates, 2) show_matrix"
   ]
  },
  {
   "cell_type": "code",
   "execution_count": 55,
   "metadata": {},
   "outputs": [
    {
     "name": "stdout",
     "output_type": "stream",
     "text": [
      "Initiating indexes...\n",
      "index path :  /disk_a/junk/msmarco-v1-passage-full\n",
      "refine_method:  <bound method Explain.refine_candidates_by_bm25 of <ir_explain.explainers.listwise.multiplex_base.Explain object at 0x7525c70f2be0>>\n"
     ]
    },
    {
     "name": "stderr",
     "output_type": "stream",
     "text": [
      "Perturb each doc...: 10it [00:00, 323.61it/s]"
     ]
    },
    {
     "name": "stdout",
     "output_type": "stream",
     "text": [
      "doc_id :  8536118\n",
      "topk :  100\n",
      "replaced_tokens :  ['lp', 'lanterman', 'petri', 'act', 'grave', 'shelter', 'provid', 'unabl', 'sponsor', 'legisl', 'judg', 'themselv', 'cloth', 'disabl', 'thu', 'california', 'short', 'protect', 'law', 'treatment', 'food', 'person', 'name']\n",
      "term_score:   [('lanterman', 7.957176208496094), ('lp', 5.785079002380371), ('petri', 5.452098846435547), ('grave', 4.17691707611084), ('shelter', 3.91019344329834), ('unabl', 3.5600638389587402), ('sponsor', 3.535909652709961), ('legisl', 3.449584484100342), ('judg', 3.370941162109375), ('themselv', 3.171919822692871), ('cloth', 3.0950498580932617), ('disabl', 3.0724010467529297), ('act', 3.030970573425293), ('thu', 2.923902750015259), ('california', 2.6756181716918945), ('short', 2.4847943782806396), ('protect', 2.434162139892578), ('law', 2.3346714973449707), ('treatment', 2.324326276779175), ('provid', 2.2820849418640137), ('food', 2.02036452293396), ('person', 1.8981037139892578), ('name', 1.7549288272857666)]\n",
      "doc_id :  4526747\n",
      "topk :  100\n",
      "replaced_tokens :  ['lp', 'lightn', 'personnel', 'system', 'discharg', 'conduct', 'equip', 'electr', 'earth', 'damag', 'pass', 'enter', 'structur', 'leav', 'non', 'protect', 'light', 'build', 'without', 'provid', 'mean', 'mai']\n",
      "term_score:   [('lp', 4.545366287231445), ('lightn', 4.153478622436523), ('personnel', 3.735363006591797), ('discharg', 3.5076370239257812), ('conduct', 3.021529197692871), ('equip', 2.93345308303833), ('electr', 2.695322036743164), ('earth', 2.675153970718384), ('damag', 2.576019763946533), ('pass', 2.5306732654571533), ('enter', 2.50913667678833), ('structur', 2.5076589584350586), ('leav', 2.457265853881836), ('non', 2.451356887817383), ('protect', 2.446615695953369), ('light', 2.4170005321502686), ('build', 2.3896450996398926), ('system', 2.346200704574585), ('without', 2.2416763305664062), ('provid', 1.793045997619629), ('mean', 1.7671213150024414), ('mai', 1.401613712310791)]\n",
      "doc_id :  7894178\n",
      "topk :  100\n",
      "replaced_tokens :  ['lop', 'contract', 'provid', 'care', 'sue', 'health', 'proce', 'settlement', 'honor', 'fail', 'agreement', 'letter', 'protect', 'sign', 'pai', 'right', 'state', 'ha']\n",
      "term_score:   [('lop', 7.204584121704102), ('sue', 4.292145729064941), ('proce', 3.7539901733398438), ('settlement', 3.5661253929138184), ('contract', 3.4446706771850586), ('honor', 3.2910356521606445), ('fail', 3.1285905838012695), ('agreement', 3.096040725708008), ('care', 2.8482260704040527), ('letter', 2.800321102142334), ('health', 2.667990207672119), ('provid', 2.4865589141845703), ('protect', 2.3737473487854004), ('sign', 2.2638068199157715), ('pai', 2.1178712844848633), ('right', 1.926067590713501), ('state', 1.4961869716644287), ('ha', 1.2357327938079834)]\n",
      "doc_id :  3323246\n",
      "topk :  100\n",
      "replaced_tokens :  ['logger', 'lp', 'malwar', 'linux', 'lightweight', 'credenti', 'portabl', 'cd', 'era', 'expos', 'ill', 'goal', 'internet', 'privat', 'kei', 'user', 'risk', 'secur', 'comput', 'data', 'without', 'allow', 'live', 'base', 'work']\n",
      "term_score:   [('logger', 5.621511459350586), ('lp', 4.5222296714782715), ('malwar', 4.521644592285156), ('linux', 4.196924209594727), ('lightweight', 4.172496318817139), ('credenti', 4.072902202606201), ('portabl', 3.8617820739746094), ('cd', 3.69993257522583), ('era', 3.499606132507324), ('ill', 2.9857919216156006), ('goal', 2.9265382289886475), ('internet', 2.8781630992889404), ('privat', 2.8690147399902344), ('kei', 2.6107842922210693), ('user', 2.5821022987365723), ('risk', 2.510176181793213), ('secur', 2.4870223999023438), ('comput', 2.4625601768493652), ('data', 2.2642815113067627), ('without', 2.2302656173706055), ('allow', 2.162766456604004), ('live', 2.0061254501342773), ('base', 1.897092342376709), ('work', 1.689316749572754), ('expos', 0.0)]\n",
      "doc_id :  456708\n",
      "topk :  100\n",
      "replaced_tokens :  ['lp', 'claus', '2.5', 'succinct', 'section', 'interestingli', 'standard', 'definit', '1.2', 'requir', 'crack', 'iâ', 'write', 'defin', 'cover', 'take']\n",
      "term_score:   [('lp', 6.711219787597656), ('succinct', 5.684826374053955), ('interestingli', 4.653103828430176), ('2.5', 4.498225212097168), ('1.2', 3.9302849769592285), ('crack', 3.5106029510498047), ('section', 3.286587715148926), ('iâ', 3.200550079345703), ('standard', 2.9541075229644775), ('definit', 2.6879255771636963), ('write', 2.634347438812256), ('defin', 2.4874353408813477), ('requir', 2.449493885040283), ('cover', 2.2640695571899414), ('take', 1.6933062076568604), ('claus', 0.0)]\n",
      "doc_id :  2373504\n",
      "topk :  100\n",
      "replaced_tokens :  ['lawyer', 'lpp', 'advic', 'client', 'prudenti', 'legal', 'profession', 'nowadai', 'disclos', 'privileg', 'refus', 'entitl', 'suprem', 'appeal', 'absolut', 'heard', 'seek', 'qualifi', 'rais', 'parti', 'court', 'document', 'third', 'rule', 'question', 'answer', 'case', 'give', 'howev', 'mani', 'ha']\n",
      "term_score:   [('lpp', 6.534953594207764), ('prudenti', 5.224984169006348), ('lawyer', 4.426226615905762), ('nowadai', 4.187894821166992), ('advic', 4.072455406188965), ('client', 3.787353515625), ('privileg', 3.75118350982666), ('entitl', 3.386765480041504), ('suprem', 3.3512344360351562), ('legal', 3.3063840866088867), ('appeal', 3.302401542663574), ('absolut', 3.1540870666503906), ('heard', 3.0831875801086426), ('seek', 2.9648914337158203), ('qualifi', 2.7986927032470703), ('parti', 2.566915988922119), ('court', 2.519835948944092), ('document', 2.453307628631592), ('third', 2.4489758014678955), ('rule', 2.396667242050171), ('question', 2.2263801097869873), ('answer', 2.03450345993042), ('case', 2.00637149810791), ('give', 1.98765230178833), ('howev', 1.9072411060333252), ('mani', 1.547191858291626), ('ha', 1.182887315750122), ('profession', 0.0), ('disclos', 0.0), ('refus', 0.0), ('rais', 0.0)]\n",
      "doc_id :  6881583\n",
      "topk :  100\n",
      "replaced_tokens :  ['lgp', 'schemeâ', 'statutori', 'parliament', 'voluntari', 'scheme', 'sector', 'contractor', 'polic', 'staff', 'agenc', 'privat', 'environ', 'regul', 'primari', 'pass', 'educ', 'higher', 'govern', 'benefit', 'public', 'member', 'local', 'term', 'set', 'servic', 'ha']\n",
      "term_score:   [('lgp', 6.622589588165283), ('schemeâ', 6.466721057891846), ('statutori', 4.153966903686523), ('parliament', 3.9906930923461914), ('voluntari', 3.9028282165527344), ('scheme', 3.7412710189819336), ('sector', 3.500711441040039), ('contractor', 3.347379684448242), ('polic', 3.1376380920410156), ('staff', 2.9739608764648438), ('agenc', 2.8167505264282227), ('privat', 2.7839879989624023), ('environ', 2.742035388946533), ('regul', 2.7370717525482178), ('primari', 2.6339805126190186), ('pass', 2.443173885345459), ('educ', 2.4323508739471436), ('higher', 2.377556800842285), ('govern', 2.3487348556518555), ('benefit', 2.320084571838379), ('public', 2.3139848709106445), ('member', 2.299055576324463), ('local', 2.279329299926758), ('term', 1.9381227493286133), ('set', 1.9202170372009277), ('servic', 1.829930305480957), ('ha', 1.2296290397644043)]\n",
      "doc_id :  7754378\n",
      "topk :  100\n",
      "replaced_tokens :  ['sol', 'sexua', 'statut', 'limit', 'lawsuit', 'occurr', 'injur', 'victim', 'circumst', 'unless', 'civil', 'injuri', 'initi', 'child', 'special', 'date', 'begin', 'run', 'case', 'person', 'caus', 'state', 'time']\n",
      "term_score:   [('sexua', 7.837491989135742), ('sol', 6.202329635620117), ('statut', 4.702395915985107), ('lawsuit', 3.978632926940918), ('occurr', 3.789947032928467), ('injur', 3.590909957885742), ('victim', 3.5903425216674805), ('circumst', 3.4958930015563965), ('limit', 3.033017635345459), ('unless', 2.996958017349243), ('civil', 2.9270808696746826), ('injuri', 2.7609899044036865), ('initi', 2.6899380683898926), ('child', 2.5439774990081787), ('special', 2.3953685760498047), ('date', 2.3003039360046387), ('begin', 2.2880005836486816), ('run', 2.2253291606903076), ('case', 2.1170237064361572), ('person', 1.8695545196533203), ('state', 1.5111899375915527), ('time', 1.3704638481140137), ('caus', 0.0)]\n",
      "doc_id :  5158745\n",
      "topk :  100\n",
      "replaced_tokens :  ['scheme', 'lgp', 'councillor', 'nationwid', 'valuabl', 'reward', 'work', 'particip', 'packag', 'employ', 'employe', 'govern', 'local', 'pai', 'part']\n",
      "term_score:   [('lgp', 7.077018737792969), ('councillor', 6.03324031829834), ('scheme', 5.047238349914551), ('nationwid', 3.8844070434570312), ('valuabl', 3.79392147064209), ('reward', 3.7344961166381836), ('particip', 3.199152946472168), ('packag', 3.0879263877868652), ('employe', 2.832030773162842), ('govern', 2.5099003314971924), ('local', 2.435731887817383), ('pai', 2.252016544342041), ('work', 2.211465835571289), ('part', 1.846435785293579), ('employ', 0.0)]\n",
      "doc_id :  6126509\n",
      "topk :  100\n",
      "replaced_tokens :  ['penden', 'notic', 'file', 'lawsuit', 'ownership', 'li', 'estat', 'concern', 'titl', 'written', 'claim', 'land', 'real', 'involv', 'interest', 'properti', 'either', 'law', 'record', 'offic', 'counti', 'usual', 'ha', 'us']\n",
      "term_score:   [('penden', 6.344125747680664), ('lawsuit', 4.018932342529297), ('ownership', 3.6530113220214844), ('notic', 3.60044527053833), ('li', 3.30959415435791), ('estat', 2.9773240089416504), ('file', 2.9608073234558105), ('concern', 2.9198086261749268), ('titl', 2.741818428039551), ('written', 2.7303903102874756), ('claim', 2.6645991802215576), ('land', 2.552661418914795), ('real', 2.491659641265869), ('involv', 2.471470355987549), ('interest', 2.4700183868408203), ('properti', 2.413048267364502), ('either', 2.3701090812683105), ('law', 2.322847843170166), ('record', 2.2765445709228516), ('offic', 2.256345748901367), ('counti', 2.2407093048095703), ('usual', 1.916391134262085), ('ha', 1.2607660293579102), ('us', 0.9715535640716553)]\n",
      "refined_candidates :  {'lanterman': 7.957176208496094, 'sexua': 7.837491989135742, 'lop': 7.204584121704102, 'lgp': 6.849804162979126, 'lpp': 6.534953594207764, 'schemeâ': 6.466721057891846, 'penden': 6.344125747680664, 'sol': 6.202329635620117, 'councillor': 6.03324031829834, 'succinct': 5.684826374053955, 'logger': 5.621511459350586, 'petri': 5.452098846435547, 'lp': 5.390973687171936, 'prudenti': 5.224984169006348, 'statut': 4.702395915985107, 'interestingli': 4.653103828430176, 'malwar': 4.521644592285156, '2.5': 4.498225212097168, 'lawyer': 4.426226615905762, 'scheme': 4.394254684448242, 'sue': 4.292145729064941, 'linux': 4.196924209594727, 'nowadai': 4.187894821166992, 'grave': 4.17691707611084, 'lightweight': 4.172496318817139, 'statutori': 4.153966903686523, 'lightn': 4.153478622436523, 'credenti': 4.072902202606201, 'advic': 4.072455406188965, 'lawsuit': 3.9987826347351074, 'parliament': 3.9906930923461914, '1.2': 3.9302849769592285, 'shelter': 3.91019344329834, 'voluntari': 3.9028282165527344, 'nationwid': 3.8844070434570312, 'portabl': 3.8617820739746094, 'valuabl': 3.79392147064209, 'occurr': 3.789947032928467, 'client': 3.787353515625, 'proce': 3.7539901733398438, 'privileg': 3.75118350982666, 'personnel': 3.735363006591797, 'reward': 3.7344961166381836, 'cd': 3.69993257522583, 'ownership': 3.6530113220214844, 'notic': 3.60044527053833, 'injur': 3.590909957885742, 'victim': 3.5903425216674805, 'settlement': 3.5661253929138184, 'unabl': 3.5600638389587402}\n"
     ]
    },
    {
     "name": "stderr",
     "output_type": "stream",
     "text": [
      "\n"
     ]
    }
   ],
   "source": [
    "candidate_terms = multi.generate_candidates(qid, query_str, params)"
   ]
  },
  {
   "cell_type": "code",
   "execution_count": 58,
   "metadata": {},
   "outputs": [
    {
     "name": "stdout",
     "output_type": "stream",
     "text": [
      "first stage of debug,\n",
      "Candidate terms:\n",
      "{'lanterman': 7.957176208496094, 'sexua': 7.837491989135742, 'lop': 7.204584121704102, 'lgp': 6.849804162979126, 'lpp': 6.534953594207764, 'schemeâ': 6.466721057891846, 'penden': 6.344125747680664, 'sol': 6.202329635620117, 'councillor': 6.03324031829834, 'succinct': 5.684826374053955, 'logger': 5.621511459350586, 'petri': 5.452098846435547, 'lp': 5.390973687171936, 'prudenti': 5.224984169006348, 'statut': 4.702395915985107, 'interestingli': 4.653103828430176, 'malwar': 4.521644592285156, '2.5': 4.498225212097168, 'lawyer': 4.426226615905762, 'scheme': 4.394254684448242, 'sue': 4.292145729064941, 'linux': 4.196924209594727, 'nowadai': 4.187894821166992, 'grave': 4.17691707611084, 'lightweight': 4.172496318817139, 'statutori': 4.153966903686523, 'lightn': 4.153478622436523, 'credenti': 4.072902202606201, 'advic': 4.072455406188965, 'lawsuit': 3.9987826347351074, 'parliament': 3.9906930923461914, '1.2': 3.9302849769592285, 'shelter': 3.91019344329834, 'voluntari': 3.9028282165527344, 'nationwid': 3.8844070434570312, 'portabl': 3.8617820739746094, 'valuabl': 3.79392147064209, 'occurr': 3.789947032928467, 'client': 3.787353515625, 'proce': 3.7539901733398438, 'privileg': 3.75118350982666, 'personnel': 3.735363006591797, 'reward': 3.7344961166381836, 'cd': 3.69993257522583, 'ownership': 3.6530113220214844, 'notic': 3.60044527053833, 'injur': 3.590909957885742, 'victim': 3.5903425216674805, 'settlement': 3.5661253929138184, 'unabl': 3.5600638389587402}\n"
     ]
    }
   ],
   "source": [
    "print(f\"first stage of debug,\\nCandidate terms:\\n{candidate_terms}\")"
   ]
  },
  {
   "cell_type": "markdown",
   "metadata": {},
   "source": [
    "Show the matrix for any simple explainer used in the Multiplex. To do so, you need to change the parameters to one of the following: 1. `language_model`, 2. `saliency`, 3. `semantic`"
   ]
  },
  {
   "cell_type": "code",
   "execution_count": 60,
   "metadata": {},
   "outputs": [
    {
     "name": "stdout",
     "output_type": "stream",
     "text": [
      "Initiating indexes...\n",
      "index path :  /disk_a/junk/msmarco-v1-passage-full\n",
      "refine_method:  <bound method Explain.refine_candidates_by_bm25 of <ir_explain.explainers.listwise.multiplex_base.Explain object at 0x7525c70ab850>>\n"
     ]
    },
    {
     "name": "stderr",
     "output_type": "stream",
     "text": [
      "Perturb each doc...: 10it [00:00, 223.05it/s]"
     ]
    },
    {
     "name": "stdout",
     "output_type": "stream",
     "text": [
      "doc_id :  8536118\n",
      "topk :  100\n",
      "replaced_tokens :  ['lp', 'lanterman', 'petri', 'act', 'grave', 'shelter', 'provid', 'unabl', 'sponsor', 'legisl', 'judg', 'themselv', 'cloth', 'disabl', 'thu', 'california', 'short', 'protect', 'law', 'treatment', 'food', 'person', 'name']\n",
      "term_score:   [('lanterman', 7.957176208496094), ('lp', 5.785079002380371), ('petri', 5.452098846435547), ('grave', 4.17691707611084), ('shelter', 3.91019344329834), ('unabl', 3.5600638389587402), ('sponsor', 3.535909652709961), ('legisl', 3.449584484100342), ('judg', 3.370941162109375), ('themselv', 3.171919822692871), ('cloth', 3.0950498580932617), ('disabl', 3.0724010467529297), ('act', 3.030970573425293), ('thu', 2.923902750015259), ('california', 2.6756181716918945), ('short', 2.4847943782806396), ('protect', 2.434162139892578), ('law', 2.3346714973449707), ('treatment', 2.324326276779175), ('provid', 2.2820849418640137), ('food', 2.02036452293396), ('person', 1.8981037139892578), ('name', 1.7549288272857666)]\n",
      "doc_id :  4526747\n",
      "topk :  100\n",
      "replaced_tokens :  ['lp', 'lightn', 'personnel', 'system', 'discharg', 'conduct', 'equip', 'electr', 'earth', 'damag', 'pass', 'enter', 'structur', 'leav', 'non', 'protect', 'light', 'build', 'without', 'provid', 'mean', 'mai']\n",
      "term_score:   [('lp', 4.545366287231445), ('lightn', 4.153478622436523), ('personnel', 3.735363006591797), ('discharg', 3.5076370239257812), ('conduct', 3.021529197692871), ('equip', 2.93345308303833), ('electr', 2.695322036743164), ('earth', 2.675153970718384), ('damag', 2.576019763946533), ('pass', 2.5306732654571533), ('enter', 2.50913667678833), ('structur', 2.5076589584350586), ('leav', 2.457265853881836), ('non', 2.451356887817383), ('protect', 2.446615695953369), ('light', 2.4170005321502686), ('build', 2.3896450996398926), ('system', 2.346200704574585), ('without', 2.2416763305664062), ('provid', 1.793045997619629), ('mean', 1.7671213150024414), ('mai', 1.401613712310791)]\n",
      "doc_id :  7894178\n",
      "topk :  100\n",
      "replaced_tokens :  ['lop', 'contract', 'provid', 'care', 'sue', 'health', 'proce', 'settlement', 'honor', 'fail', 'agreement', 'letter', 'protect', 'sign', 'pai', 'right', 'state', 'ha']\n",
      "term_score:   [('lop', 7.204584121704102), ('sue', 4.292145729064941), ('proce', 3.7539901733398438), ('settlement', 3.5661253929138184), ('contract', 3.4446706771850586), ('honor', 3.2910356521606445), ('fail', 3.1285905838012695), ('agreement', 3.096040725708008), ('care', 2.8482260704040527), ('letter', 2.800321102142334), ('health', 2.667990207672119), ('provid', 2.4865589141845703), ('protect', 2.3737473487854004), ('sign', 2.2638068199157715), ('pai', 2.1178712844848633), ('right', 1.926067590713501), ('state', 1.4961869716644287), ('ha', 1.2357327938079834)]\n",
      "doc_id :  3323246\n",
      "topk :  100\n",
      "replaced_tokens :  ['logger', 'lp', 'malwar', 'linux', 'lightweight', 'credenti', 'portabl', 'cd', 'era', 'expos', 'ill', 'goal', 'internet', 'privat', 'kei', 'user', 'risk', 'secur', 'comput', 'data', 'without', 'allow', 'live', 'base', 'work']\n",
      "term_score:   [('logger', 5.621511459350586), ('lp', 4.5222296714782715), ('malwar', 4.521644592285156), ('linux', 4.196924209594727), ('lightweight', 4.172496318817139), ('credenti', 4.072902202606201), ('portabl', 3.8617820739746094), ('cd', 3.69993257522583), ('era', 3.499606132507324), ('ill', 2.9857919216156006), ('goal', 2.9265382289886475), ('internet', 2.8781630992889404), ('privat', 2.8690147399902344), ('kei', 2.6107842922210693), ('user', 2.5821022987365723), ('risk', 2.510176181793213), ('secur', 2.4870223999023438), ('comput', 2.4625601768493652), ('data', 2.2642815113067627), ('without', 2.2302656173706055), ('allow', 2.162766456604004), ('live', 2.0061254501342773), ('base', 1.897092342376709), ('work', 1.689316749572754), ('expos', 0.0)]\n",
      "doc_id :  456708\n",
      "topk :  100\n",
      "replaced_tokens :  ['lp', 'claus', '2.5', 'succinct', 'section', 'interestingli', 'standard', 'definit', '1.2', 'requir', 'crack', 'iâ', 'write', 'defin', 'cover', 'take']\n",
      "term_score:   [('lp', 6.711219787597656), ('succinct', 5.684826374053955), ('interestingli', 4.653103828430176), ('2.5', 4.498225212097168), ('1.2', 3.9302849769592285), ('crack', 3.5106029510498047), ('section', 3.286587715148926), ('iâ', 3.200550079345703), ('standard', 2.9541075229644775), ('definit', 2.6879255771636963), ('write', 2.634347438812256), ('defin', 2.4874353408813477), ('requir', 2.449493885040283), ('cover', 2.2640695571899414), ('take', 1.6933062076568604), ('claus', 0.0)]\n",
      "doc_id :  2373504\n",
      "topk :  100\n",
      "replaced_tokens :  ['lawyer', 'lpp', 'advic', 'client', 'prudenti', 'legal', 'profession', 'nowadai', 'disclos', 'privileg', 'refus', 'entitl', 'suprem', 'appeal', 'absolut', 'heard', 'seek', 'qualifi', 'rais', 'parti', 'court', 'document', 'third', 'rule', 'question', 'answer', 'case', 'give', 'howev', 'mani', 'ha']\n",
      "term_score:   [('lpp', 6.534953594207764), ('prudenti', 5.224984169006348), ('lawyer', 4.426226615905762), ('nowadai', 4.187894821166992), ('advic', 4.072455406188965), ('client', 3.787353515625), ('privileg', 3.75118350982666), ('entitl', 3.386765480041504), ('suprem', 3.3512344360351562), ('legal', 3.3063840866088867), ('appeal', 3.302401542663574), ('absolut', 3.1540870666503906), ('heard', 3.0831875801086426), ('seek', 2.9648914337158203), ('qualifi', 2.7986927032470703), ('parti', 2.566915988922119), ('court', 2.519835948944092), ('document', 2.453307628631592), ('third', 2.4489758014678955), ('rule', 2.396667242050171), ('question', 2.2263801097869873), ('answer', 2.03450345993042), ('case', 2.00637149810791), ('give', 1.98765230178833), ('howev', 1.9072411060333252), ('mani', 1.547191858291626), ('ha', 1.182887315750122), ('profession', 0.0), ('disclos', 0.0), ('refus', 0.0), ('rais', 0.0)]\n",
      "doc_id :  6881583\n",
      "topk :  100\n",
      "replaced_tokens :  ['lgp', 'schemeâ', 'statutori', 'parliament', 'voluntari', 'scheme', 'sector', 'contractor', 'polic', 'staff', 'agenc', 'privat', 'environ', 'regul', 'primari', 'pass', 'educ', 'higher', 'govern', 'benefit', 'public', 'member', 'local', 'term', 'set', 'servic', 'ha']\n",
      "term_score:   [('lgp', 6.622589588165283), ('schemeâ', 6.466721057891846), ('statutori', 4.153966903686523), ('parliament', 3.9906930923461914), ('voluntari', 3.9028282165527344), ('scheme', 3.7412710189819336), ('sector', 3.500711441040039), ('contractor', 3.347379684448242), ('polic', 3.1376380920410156), ('staff', 2.9739608764648438), ('agenc', 2.8167505264282227), ('privat', 2.7839879989624023), ('environ', 2.742035388946533), ('regul', 2.7370717525482178), ('primari', 2.6339805126190186), ('pass', 2.443173885345459), ('educ', 2.4323508739471436), ('higher', 2.377556800842285), ('govern', 2.3487348556518555), ('benefit', 2.320084571838379), ('public', 2.3139848709106445), ('member', 2.299055576324463), ('local', 2.279329299926758), ('term', 1.9381227493286133), ('set', 1.9202170372009277), ('servic', 1.829930305480957), ('ha', 1.2296290397644043)]\n",
      "doc_id :  7754378\n",
      "topk :  100\n",
      "replaced_tokens :  ['sol', 'sexua', 'statut', 'limit', 'lawsuit', 'occurr', 'injur', 'victim', 'circumst', 'unless', 'civil', 'injuri', 'initi', 'child', 'special', 'date', 'begin', 'run', 'case', 'person', 'caus', 'state', 'time']\n",
      "term_score:   [('sexua', 7.837491989135742), ('sol', 6.202329635620117), ('statut', 4.702395915985107), ('lawsuit', 3.978632926940918), ('occurr', 3.789947032928467), ('injur', 3.590909957885742), ('victim', 3.5903425216674805), ('circumst', 3.4958930015563965), ('limit', 3.033017635345459), ('unless', 2.996958017349243), ('civil', 2.9270808696746826), ('injuri', 2.7609899044036865), ('initi', 2.6899380683898926), ('child', 2.5439774990081787), ('special', 2.3953685760498047), ('date', 2.3003039360046387), ('begin', 2.2880005836486816), ('run', 2.2253291606903076), ('case', 2.1170237064361572), ('person', 1.8695545196533203), ('state', 1.5111899375915527), ('time', 1.3704638481140137), ('caus', 0.0)]\n",
      "doc_id :  5158745\n",
      "topk :  100\n",
      "replaced_tokens :  ['scheme', 'lgp', 'councillor', 'nationwid', 'valuabl', 'reward', 'work', 'particip', 'packag', 'employ', 'employe', 'govern', 'local', 'pai', 'part']\n",
      "term_score:   [('lgp', 7.077018737792969), ('councillor', 6.03324031829834), ('scheme', 5.047238349914551), ('nationwid', 3.8844070434570312), ('valuabl', 3.79392147064209), ('reward', 3.7344961166381836), ('particip', 3.199152946472168), ('packag', 3.0879263877868652), ('employe', 2.832030773162842), ('govern', 2.5099003314971924), ('local', 2.435731887817383), ('pai', 2.252016544342041), ('work', 2.211465835571289), ('part', 1.846435785293579), ('employ', 0.0)]\n",
      "doc_id :  6126509\n",
      "topk :  100\n",
      "replaced_tokens :  ['penden', 'notic', 'file', 'lawsuit', 'ownership', 'li', 'estat', 'concern', 'titl', 'written', 'claim', 'land', 'real', 'involv', 'interest', 'properti', 'either', 'law', 'record', 'offic', 'counti', 'usual', 'ha', 'us']\n",
      "term_score:   [('penden', 6.344125747680664), ('lawsuit', 4.018932342529297), ('ownership', 3.6530113220214844), ('notic', 3.60044527053833), ('li', 3.30959415435791), ('estat', 2.9773240089416504), ('file', 2.9608073234558105), ('concern', 2.9198086261749268), ('titl', 2.741818428039551), ('written', 2.7303903102874756), ('claim', 2.6645991802215576), ('land', 2.552661418914795), ('real', 2.491659641265869), ('involv', 2.471470355987549), ('interest', 2.4700183868408203), ('properti', 2.413048267364502), ('either', 2.3701090812683105), ('law', 2.322847843170166), ('record', 2.2765445709228516), ('offic', 2.256345748901367), ('counti', 2.2407093048095703), ('usual', 1.916391134262085), ('ha', 1.2607660293579102), ('us', 0.9715535640716553)]\n",
      "refined_candidates :  {'lanterman': 7.957176208496094, 'sexua': 7.837491989135742, 'lop': 7.204584121704102, 'lgp': 6.849804162979126, 'lpp': 6.534953594207764, 'schemeâ': 6.466721057891846, 'penden': 6.344125747680664, 'sol': 6.202329635620117, 'councillor': 6.03324031829834, 'succinct': 5.684826374053955, 'logger': 5.621511459350586, 'petri': 5.452098846435547, 'lp': 5.390973687171936, 'prudenti': 5.224984169006348, 'statut': 4.702395915985107, 'interestingli': 4.653103828430176, 'malwar': 4.521644592285156, '2.5': 4.498225212097168, 'lawyer': 4.426226615905762, 'scheme': 4.394254684448242, 'sue': 4.292145729064941, 'linux': 4.196924209594727, 'nowadai': 4.187894821166992, 'grave': 4.17691707611084, 'lightweight': 4.172496318817139, 'statutori': 4.153966903686523, 'lightn': 4.153478622436523, 'credenti': 4.072902202606201, 'advic': 4.072455406188965, 'lawsuit': 3.9987826347351074, 'parliament': 3.9906930923461914, '1.2': 3.9302849769592285, 'shelter': 3.91019344329834, 'voluntari': 3.9028282165527344, 'nationwid': 3.8844070434570312, 'portabl': 3.8617820739746094, 'valuabl': 3.79392147064209, 'occurr': 3.789947032928467, 'client': 3.787353515625, 'proce': 3.7539901733398438, 'privileg': 3.75118350982666, 'personnel': 3.735363006591797, 'reward': 3.7344961166381836, 'cd': 3.69993257522583, 'ownership': 3.6530113220214844, 'notic': 3.60044527053833, 'injur': 3.590909957885742, 'victim': 3.5903425216674805, 'settlement': 3.5661253929138184, 'unabl': 3.5600638389587402}\n",
      "initial list:  499500\n"
     ]
    },
    {
     "name": "stderr",
     "output_type": "stream",
     "text": [
      "\n"
     ]
    },
    {
     "name": "stdout",
     "output_type": "stream",
     "text": [
      "Difference : [2.44140625e-04 2.62451172e-03 2.80761719e-03 ... 7.75146484e-01\n",
      " 2.14367676e+00 1.36853027e+00]\n",
      "final list:  20\n",
      "[(80, 130), (282, 884), (279, 608), (570, 594), (96, 906), (496, 547), (235, 504), (524, 849), (206, 226), (263, 916), (318, 760), (607, 849), (59, 811), (339, 482), (66, 243), (43, 245), (529, 989), (280, 429), (150, 519), (25, 599)]\n",
      "[(80, 130), (282, 884), (279, 608), (570, 594), (96, 906), (496, 547), (235, 504), (524, 849), (206, 226), (263, 916), (318, 760), (607, 849), (59, 811), (339, 482), (66, 243), (43, 245), (529, 989), (280, 429), (150, 519), (25, 599)]\n",
      "Sampled 20 doc pairs\n"
     ]
    },
    {
     "name": "stderr",
     "output_type": "stream",
     "text": [
      "building matrix for doc pairs...: 100%|██████████| 20/20 [00:00<00:00, 3502.55it/s]"
     ]
    },
    {
     "name": "stdout",
     "output_type": "stream",
     "text": [
      "[[0.0, 0.0, 0.0, 0.0, 0.0, 0.0, 0.0, 0.0, 0.0, 0.0, 0.0, 0.0, 0.0, 0.0, 0.0, 0.0, 0.0, 0.0, 0.0, 0.0], [0.0, 0.0, 0.0, 0.0, 0.0, 0.0, 0.0, 0.0, 0.0, 0.0, 0.0, 0.0, 0.0, 0.0, 0.0, 0.0, 0.0, 0.0, 0.0, 0.0], [0.0, 0.0, 0.0, 0.0, 0.0, 0.0, 0.0, 0.0, 0.0, 0.0, 0.0, 0.0, 0.0, 0.0, 0.0, 0.0, 0.0, 0.0, 0.0, 0.0], [0.0, 0.0, 0.0, 0.0, 0.0, 0.0, 0.0, 0.0, 0.0, 0.0, 0.0, 0.0, 0.0, 0.0, 0.0, 0.0, 0.0, 0.0, 0.0, 0.0], [0.0, 0.0, 0.0, 0.0, 0.0, 0.0, 0.0, 0.0, 0.0, 0.0, 0.0, 0.0, 0.0, 0.0, 0.0, 0.0, 0.0, 0.0, 0.0, 0.0], [0.0, 0.0, 0.0, 0.0, 0.0, 0.0, 0.0, 0.0, 0.0, 0.0, 0.0, 0.0, 0.0, 0.0, 0.0, 0.0, 0.0, 0.0, 0.0, 0.0], [0.0, 0.0, 0.0, 0.0, 0.0, 0.0, 0.0, 0.0, 0.28540944811099933, 0.0, 0.0, 0.0, 0.42348535133054666, 0.0, 0.0, 0.0, 0.0, 0.0, 0.0, 0.0], [0.0, 0.0, 0.0, 0.0, 0.0, 0.0, 0.0, 0.0, 0.0, 0.0, 0.0, 0.0, 0.0, 0.0, 0.0, 0.0, 0.0, 0.0, 0.0, 0.0], [0.0, 0.0, 0.0, 0.0, 0.0, 0.0, 0.0, 0.0, 0.0, 0.0, 0.0, 0.0, 0.0, 0.0, 0.0, 0.0, 0.0, 0.0, 0.0, 0.0], [0.0, 0.0, 0.0, 0.0, 0.0, 0.0, 0.0, 0.0, 0.0, 0.0, 0.0, 0.0, 0.0, 0.0, 0.0, 0.0, 0.0, 0.0, 0.0, 0.0], [0.0, 0.0, 0.0, 0.0, 0.0, 0.0, 0.0, 0.0, 0.0, 0.0, 0.0, 0.0, 0.0, 0.0, 0.0, 0.0, 0.0, 0.0, 0.0, 0.0], [0.0, 0.0, 0.0, 0.0, 0.0, 0.0, 0.0, 0.0, 0.0, 0.0, 0.0, 0.0, 0.0, 0.0, 0.0, 0.0, 0.0, 0.0, 0.0, 0.0], [0.30700143783925915, 0.0, 0.0, 0.0, 0.0, 0.0, 0.0, 0.0, 0.0, 0.0, 0.0, 0.0, 0.0, 0.0, 0.0, 0.0, 0.0, 0.0, 0.0, 0.0], [0.0, 0.0, 0.0, 0.0, 0.0, 0.0, 0.0, 0.0, 0.0, 0.0, 0.0, 0.0, 0.0, 0.0, 0.0, 0.0, 0.0, 0.0, 0.0, 0.0], [0.0, 0.0, 0.0, 0.0, 0.0, 0.0, 0.0, 0.0, 0.0, 0.0, 0.0, 0.0, 0.0, 0.0, 0.0, 0.0, 0.0, 0.0, 0.0, 0.0], [0.0, 0.0, 0.0, 0.0, 0.0, 0.0, 0.0, 0.0, 0.0, 0.0, 0.0, 0.0, 0.0, 0.0, 0.0, 0.0, 0.0, 0.0, 0.0, 0.0], [0.0, 0.0, 0.0, 0.0, 0.0, 0.0, 0.0, 0.0, 0.0, 0.0, 0.0, 0.0, 0.0, 0.0, 0.0, 0.0, 0.0, 0.0, 0.0, 0.0], [0.0, 0.0, 0.0, 0.0, 0.0, 0.0, 0.0, 0.0, 0.0, 0.0, 0.0, 0.0, 0.0, 0.0, 0.0, 0.0, 0.0, 0.0, 0.0, 0.0], [0.0, 0.3894872339636221, 0.0, 0.0, 0.0, 0.0, 0.0, 0.0, 0.14270472405549967, 0.0, 0.0, 0.0, 0.0, 0.0, 0.0, 0.0, 0.0, 0.0, 0.0, 0.0], [0.0, 0.0, 0.0, 0.0, 0.0, 0.0, 0.0, 0.0, 0.0, 0.0, 0.0, 0.0, 0.0, 0.0, 0.0, 0.0, 0.0, 0.0, 0.0, 0.0], [0.0, 0.0, 0.0, 0.0, 0.0, 0.0, 0.0, 0.0, 0.0, 0.0, 0.0, 0.0, 0.0, 0.0, 0.0, 0.0, 0.0, 0.0, 0.0, 0.0], [0.0, 0.0, 0.0, 0.0, 0.0, 0.0, 0.0, 0.0, 0.0, 0.0, 0.0, 0.0, 0.0, 0.0, 0.0, 0.0, 0.0, 0.0, 0.0, 0.0], [0.0, 0.0, 0.0, 0.0, 0.0, 0.0, 0.0, 0.0, 0.0, 0.0, 0.0, 0.0, 0.0, 0.0, 0.0, 0.0, 0.0, 0.0, 0.0, 0.0], [0.0, 0.0, 0.0, 0.0, 0.0, 0.0, 0.0, 0.0, 0.0, 0.0, 0.0, 0.0, 0.0, 0.0, 0.0, 0.0, 0.0, 0.0, 0.0, 0.0], [0.0, 0.0, 0.0, 0.0, 0.0, 0.0, 0.0, 0.0, 0.0, 0.0, 0.0, 0.0, 0.0, 0.0, 0.0, 0.0, 0.0, 0.0, 0.0, 0.0], [0.0, 0.0, 0.0, 0.0, 0.0, 0.0, 0.0, 0.0, 0.0, 0.0, 0.0, 0.0, 0.0, 0.0, 0.0, 0.0, 0.0, 0.0, 0.0, 0.0], [0.0, 0.0, 0.0, 0.0, 0.0, 0.0, 0.0, 0.0, 0.0, 0.0, 0.0, 0.0, 0.0, 0.0, 0.0, 0.0, 0.0, 0.0, 0.0, 0.0], [0.0, 0.0, 0.0, 0.0, 0.0, 0.0, 0.0, 0.0, 0.0, 0.0, 0.0, 0.0, 0.0, 0.0, 0.0, 0.0, 0.0, 0.0, 0.0, 0.0], [0.0, 0.0, 0.0, 0.0, 0.0, 0.0, 0.0, 0.0, 0.0, 0.0, 0.0, 0.0, 0.0, 0.0, 0.0, 0.0, 0.0, 0.0, 0.0, 0.0], [0.0, 0.0, 0.0, 0.0, 0.0, 0.0, 0.0, 0.0, 0.28540944811099933, 0.0, 0.0, 0.0, 0.16939414053221866, 0.0, 0.0, 0.0, 0.0, 0.0, 0.0, 0.0], [0.0, 0.0, 0.0, 0.0, 0.0, 0.0, 0.0, 0.0, 0.0, 0.0, 0.0, 0.0, 0.0, 0.0, 0.0, 0.0, 0.0, 0.0, 0.0, 0.0], [0.0, 0.0, 0.0, 0.0, 0.0, 0.0, 0.0, 0.0, 0.0, 0.0, 0.0, 0.0, 0.0, 0.0, 0.0, 0.0, 0.0, 0.0, 0.0, 0.0], [0.0, 0.0, 0.0, 0.0, 0.0, 0.0, 0.0, 0.0, 0.0, 0.0, 0.0, 0.0, 0.0, 0.0, 0.0, 0.0, 0.0, 0.0, 0.0, 0.0], [0.0, 0.0, 0.0, 0.0, 0.0, 0.0, 0.0, 0.0, 0.0, 0.0, 0.0, 0.0, 0.0, 0.0, 0.0, 0.0, 0.0, 0.0, 0.0, 0.0], [0.0, 0.0, 0.0, 0.0, 0.0, 0.0, 0.0, 0.0, 0.0, 0.0, 0.0, 0.0, 0.0, 0.0, 0.0, 0.0, 0.0, 0.0, 0.0, 0.0], [0.0, 0.0, 0.0, 0.0, 0.0, 0.0, 0.0, 0.0, 0.0, 0.0, 0.0, 0.0, 0.0, 0.0, 0.0, 0.0, 0.0, 0.0, 0.0, 0.0], [0.0, 0.0, 0.0, 0.0, 0.0, 0.0, 0.0, 0.0, 0.0, 0.0, 0.0, 0.0, 0.0, 0.0, 0.0, 0.0, 0.0, 0.0, 0.0, 0.0], [0.0, 0.0, 0.0, 0.0, 0.0, 0.0, 0.0, 0.0, 0.0, 0.0, 0.0, 0.0, 0.0, 0.0, 0.0, 0.0, 0.0, 0.0, 0.0, 0.0], [0.0, 0.0, 0.0, 0.0, 0.0, 0.0, 0.0, 0.0, 0.0, 0.0, 0.0, 0.0, 0.0, 0.0, 0.0, 0.0, 0.0, 0.0, 0.0, 0.0], [0.0, 0.0, 0.0, 0.0, 0.0, 0.0, 0.0, 0.0, 0.0, 0.0, 0.0, 0.0, 0.0, 0.0, 0.0, 0.0, 0.0, 0.0, 0.0, 0.0], [0.0, 0.0, 0.0, 0.0, 0.0, 0.0, 0.0, 0.0, 0.0, 0.0, 0.0, 0.0, 0.0, 0.0, 0.0, 0.0, 0.0, 0.0, 0.0, 0.0], [0.0, 0.0, 0.0, 0.0, 0.0, 0.0, 0.0, 0.0, 0.0, 0.0, 0.0, 0.0, 0.0, 0.0, 0.0, 0.0, 0.0, 0.0, 0.0, 0.0], [0.0, 0.0, 0.0, 0.0, 0.0, 0.0, 0.0, 0.0, 0.0, 0.0, 0.0, 0.0, 0.0, 0.0, 0.0, 0.0, 0.0, 0.0, 0.0, 0.0], [0.0, 0.0, 0.0, 0.0, 0.0, 0.0, 0.0, 0.0, 0.0, 0.0, 0.0, 0.0, 0.0, 0.0, 0.0, 0.0, 0.0, 0.0, 0.0, 0.0], [0.0, 0.0, 0.0, 0.0, 0.0, 0.0, 0.0, 0.0, 0.28540944811099933, 0.0, 0.0, 0.0, 0.42348535133054666, 0.0, 0.0, 0.0, 0.0, 0.0, 0.0, 0.0], [0.0, 0.0, 0.0, 0.0, 0.0, 0.0, 0.0, 0.0, 0.0, 0.0, 0.0, 0.0, 0.0, 0.0, 0.0, 0.0, 0.0, 0.0, 0.0, 0.0], [0.0, 0.0, 0.0, 0.0, 0.0, 0.0, 0.0, 0.0, 0.0, 0.0, 0.0, 0.0, 0.0, 0.0, 0.0, 0.0, 0.0, 0.0, 0.0, 0.0], [0.0, 0.0, 0.0, 0.0, 0.0, 0.0, 0.0, 0.0, 0.0, 0.0, 0.0, 0.0, 0.0, 0.0, 0.0, 0.0, 0.0, 0.0, 0.0, 0.0], [0.0, 0.0, 0.0, 0.0, 0.0, 0.0, 0.0, 0.0, 0.0, 0.0, 0.0, 0.0, 0.0, 0.0, 0.0, 0.0, 0.0, 0.0, -0.1974513326868722, 0.0], [0.0, 0.0, 0.0, 0.0, 0.0, 0.0, 0.0, 0.0, 0.0, 0.0, 0.0, 0.0, 0.0, 0.0, 0.0, 0.0, 0.0, 0.0, 0.0, 0.0]]\n"
     ]
    },
    {
     "name": "stderr",
     "output_type": "stream",
     "text": [
      "\n"
     ]
    }
   ],
   "source": [
    "#multi.generate_doc_pairs(qid, query_str, params)\n",
    "params[\"EXP_model\"] = \"language_model\"\n",
    "matrix = multi.show_matrix(qid, query_str, params)"
   ]
  },
  {
   "cell_type": "code",
   "execution_count": 63,
   "metadata": {},
   "outputs": [
    {
     "name": "stdout",
     "output_type": "stream",
     "text": [
      "(50, 20)\n"
     ]
    }
   ],
   "source": [
    "print(np.array(matrix).shape)"
   ]
  }
 ],
 "metadata": {
  "kernelspec": {
   "display_name": "irx",
   "language": "python",
   "name": "python3"
  },
  "language_info": {
   "codemirror_mode": {
    "name": "ipython",
    "version": 3
   },
   "file_extension": ".py",
   "mimetype": "text/x-python",
   "name": "python",
   "nbconvert_exporter": "python",
   "pygments_lexer": "ipython3",
   "version": "3.9.21"
  }
 },
 "nbformat": 4,
 "nbformat_minor": 2
}
